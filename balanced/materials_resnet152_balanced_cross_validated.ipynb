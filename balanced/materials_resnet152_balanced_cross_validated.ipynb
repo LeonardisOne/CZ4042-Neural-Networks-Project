{
  "nbformat": 4,
  "nbformat_minor": 0,
  "metadata": {
    "colab": {
      "name": "materials-resnet152-cross-validated.ipynb",
      "provenance": [],
      "collapsed_sections": []
    },
    "kernelspec": {
      "display_name": "Python 3",
      "name": "python3"
    },
    "accelerator": "GPU"
  },
  "cells": [
    {
      "cell_type": "code",
      "metadata": {
        "id": "ERKJLyg2z-Uq"
      },
      "source": [
        "import matplotlib.pyplot as plt\n",
        "import numpy as np\n",
        "import os\n",
        "import PIL\n",
        "import tensorflow as tf\n",
        "\n",
        "from tensorflow import keras\n",
        "from tensorflow.keras import layers\n",
        "from tensorflow.keras.models import Sequential"
      ],
      "execution_count": 2,
      "outputs": []
    },
    {
      "cell_type": "code",
      "metadata": {
        "id": "7fIbsvD01EQm",
        "outputId": "1ab9dd75-249e-444c-da37-fad43a0a9272",
        "colab": {
          "base_uri": "https://localhost:8080/"
        }
      },
      "source": [
        "import pathlib\n",
        "\n",
        "# set path to FMD image directory\n",
        "data_dir = pathlib.Path(\"image\")\n",
        "\n",
        "# total no. of images in FMD dataset\n",
        "image_count = len(list(data_dir.glob('*/*.jpg')))\n",
        "print(image_count)"
      ],
      "execution_count": 3,
      "outputs": [
        {
          "output_type": "stream",
          "name": "stdout",
          "text": [
            "1000\n"
          ]
        }
      ]
    },
    {
      "cell_type": "code",
      "metadata": {
        "id": "cL3rBqoe3sK5"
      },
      "source": [
        "# set batch size for training\n",
        "batch_size = 16\n",
        "\n",
        "# set dimensions to change images into for training\n",
        "# 299x299 images is used to train for consistency between different pre-trained models\n",
        "img_height = 299\n",
        "img_width = 299"
      ],
      "execution_count": 5,
      "outputs": []
    },
    {
      "cell_type": "code",
      "metadata": {
        "id": "EFKuhNRxqxcB",
        "outputId": "32d9a8b7-0cfc-41c9-831a-6f5f03c1152a",
        "colab": {
          "base_uri": "https://localhost:8080/"
        }
      },
      "source": [
        "# get class names from the folder names in data_dir\n",
        "class_names = np.array(sorted([item.name for item in data_dir.glob('*') if item.name != \"LICENSE.txt\"]))\n",
        "print(class_names)"
      ],
      "execution_count": 6,
      "outputs": [
        {
          "output_type": "stream",
          "name": "stdout",
          "text": [
            "['fabric' 'foliage' 'glass' 'leather' 'metal' 'paper' 'plastic' 'stone'\n 'water' 'wood']\n"
          ]
        }
      ]
    },
    {
      "cell_type": "code",
      "metadata": {
        "id": "ap_FpvbEqWrS"
      },
      "source": [
        "# create list containing the dataset for each class\n",
        "ds_each_class = [tf.data.Dataset.list_files(str(data_dir/f'{class_name}/*.jpg'), shuffle=False) for class_name in class_names]\n",
        "\n",
        "# shuffle the 100 images in each class with the random seed value of 123 before training\n",
        "for index, ds in enumerate(ds_each_class):\n",
        "  ds_each_class[index] = ds.shuffle(image_count//10, seed=123, reshuffle_each_iteration=False)"
      ],
      "execution_count": 7,
      "outputs": []
    },
    {
      "cell_type": "code",
      "metadata": {
        "id": "ty_LijJpqbEx",
        "outputId": "4add0ff3-94d0-455c-b202-bd748e8e0b5f",
        "colab": {
          "base_uri": "https://localhost:8080/"
        }
      },
      "source": [
        "# display some samples from a class to verify each class dataset contains only the class images\n",
        "for f in ds_each_class[0].take(10):\n",
        "  print(f.numpy())\n",
        "\n",
        "for f in ds_each_class[1].take(10):\n",
        "  print(f.numpy())"
      ],
      "execution_count": 8,
      "outputs": [
        {
          "output_type": "stream",
          "name": "stdout",
          "text": [
            "b'image\\\\fabric\\\\fabric_moderate_037_new.jpg'\nb'image\\\\fabric\\\\fabric_moderate_004_new.jpg'\nb'image\\\\fabric\\\\fabric_moderate_008_new.jpg'\nb'image\\\\fabric\\\\fabric_object_003_new.jpg'\nb'image\\\\fabric\\\\fabric_object_017_new.jpg'\nb'image\\\\fabric\\\\fabric_object_001_new.jpg'\nb'image\\\\fabric\\\\fabric_moderate_032_new.jpg'\nb'image\\\\fabric\\\\fabric_moderate_030_new.jpg'\nb'image\\\\fabric\\\\fabric_moderate_038_new.jpg'\nb'image\\\\fabric\\\\fabric_object_009_new.jpg'\nb'image\\\\foliage\\\\foliage_final_037_new.jpg'\nb'image\\\\foliage\\\\foliage_final_004_new.jpg'\nb'image\\\\foliage\\\\foliage_final_008_new.jpg'\nb'image\\\\foliage\\\\foliage_final_053_new.jpg'\nb'image\\\\foliage\\\\foliage_final_067_new.jpg'\nb'image\\\\foliage\\\\foliage_final_051_new.jpg'\nb'image\\\\foliage\\\\foliage_final_032_new.jpg'\nb'image\\\\foliage\\\\foliage_final_030_new.jpg'\nb'image\\\\foliage\\\\foliage_final_038_new.jpg'\nb'image\\\\foliage\\\\foliage_final_059_new.jpg'\n"
          ]
        }
      ]
    },
    {
      "cell_type": "code",
      "metadata": {
        "id": "ACILObxurdXN"
      },
      "source": [
        "# split first class dataset into 5 equal sized partitions\n",
        "# then for remaining classes' datasets do the same and add to corresponding partition\n",
        "# for 5-fold cross validation\n",
        "A = ds_each_class[0].shard(num_shards=5, index=0)\n",
        "B = ds_each_class[0].shard(num_shards=5, index=1)\n",
        "C = ds_each_class[0].shard(num_shards=5, index=2)\n",
        "D = ds_each_class[0].shard(num_shards=5, index=3)\n",
        "E = ds_each_class[0].shard(num_shards=5, index=4)\n",
        "for i in range(1, 10):\n",
        "  A = A.concatenate(ds_each_class[i].shard(num_shards=5, index=0))\n",
        "  B = B.concatenate(ds_each_class[i].shard(num_shards=5, index=1))\n",
        "  C = C.concatenate(ds_each_class[i].shard(num_shards=5, index=2))\n",
        "  D = D.concatenate(ds_each_class[i].shard(num_shards=5, index=3))\n",
        "  E = E.concatenate(ds_each_class[i].shard(num_shards=5, index=4))"
      ],
      "execution_count": 9,
      "outputs": []
    },
    {
      "cell_type": "code",
      "metadata": {
        "id": "-9oYdHkhrwdz",
        "outputId": "cfc42986-c662-4f48-aadc-96f89d9e634e",
        "colab": {
          "base_uri": "https://localhost:8080/"
        }
      },
      "source": [
        "# check no. of samples in each partition is the same\n",
        "print(A.cardinality().numpy())\n",
        "print(B.cardinality().numpy())\n",
        "print(C.cardinality().numpy())\n",
        "print(D.cardinality().numpy())\n",
        "print(E.cardinality().numpy())"
      ],
      "execution_count": 10,
      "outputs": [
        {
          "output_type": "stream",
          "name": "stdout",
          "text": [
            "200\n200\n200\n200\n200\n"
          ]
        }
      ]
    },
    {
      "cell_type": "code",
      "metadata": {
        "id": "8BdD3FMHtGRV"
      },
      "source": [
        "def get_label(file_path):\n",
        "  # convert the path to a list of path components\n",
        "  parts = tf.strings.split(file_path, os.path.sep)\n",
        "  # The second to last is the class-directory\n",
        "  one_hot = parts[-2] == class_names\n",
        "  # Integer encode the label\n",
        "  return tf.argmax(one_hot)"
      ],
      "execution_count": 11,
      "outputs": []
    },
    {
      "cell_type": "code",
      "metadata": {
        "id": "XfWduaL4tKDV"
      },
      "source": [
        "def decode_img(img):\n",
        "  # convert the compressed string to a 3D uint8 tensor\n",
        "  img = tf.image.decode_jpeg(img, channels=3)\n",
        "  # resize the image to the desired size\n",
        "  return tf.image.resize(img, [img_height, img_width])"
      ],
      "execution_count": 12,
      "outputs": []
    },
    {
      "cell_type": "code",
      "metadata": {
        "id": "5bGGe0KltMTC"
      },
      "source": [
        "def process_path(file_path):\n",
        "  label = get_label(file_path)\n",
        "  # load the raw data from the file as a string\n",
        "  img = tf.io.read_file(file_path)\n",
        "  img = decode_img(img)\n",
        "  return img, label"
      ],
      "execution_count": 13,
      "outputs": []
    },
    {
      "cell_type": "code",
      "metadata": {
        "id": "FcyZLwRxt1dy"
      },
      "source": [
        "# prompt the tf.data runtime to tune the number of elements to prefetch dynamically at runtime\n",
        "AUTOTUNE = tf.data.experimental.AUTOTUNE"
      ],
      "execution_count": 14,
      "outputs": []
    },
    {
      "cell_type": "code",
      "metadata": {
        "id": "OkBqAQlHtblh"
      },
      "source": [
        "# use the path of image to load the image into each partition of the dataset\n",
        "# Set `num_parallel_calls` so multiple images are loaded/processed in parallel.\n",
        "A = A.map(process_path, num_parallel_calls=AUTOTUNE)\n",
        "B = B.map(process_path, num_parallel_calls=AUTOTUNE)\n",
        "C = C.map(process_path, num_parallel_calls=AUTOTUNE)\n",
        "D = D.map(process_path, num_parallel_calls=AUTOTUNE)\n",
        "E = E.map(process_path, num_parallel_calls=AUTOTUNE)"
      ],
      "execution_count": 15,
      "outputs": []
    },
    {
      "cell_type": "code",
      "metadata": {
        "id": "cc9pmaQ5t9H5",
        "outputId": "f0f0e1a4-bc46-42c0-8285-602224f7f8e1",
        "colab": {
          "base_uri": "https://localhost:8080/"
        }
      },
      "source": [
        "for image, label in A.take(1):\n",
        "  print(\"Image shape: \", image.numpy().shape)\n",
        "  print(\"Label: \", label.numpy())"
      ],
      "execution_count": 16,
      "outputs": [
        {
          "output_type": "stream",
          "name": "stdout",
          "text": [
            "Image shape:  (299, 299, 3)\nLabel:  0\n"
          ]
        }
      ]
    },
    {
      "cell_type": "code",
      "metadata": {
        "id": "d_T2KNdGub1X"
      },
      "source": [
        "# shuffle, batch, and prefetch the dataset\n",
        "def configure_for_performance(ds):\n",
        "  ds = ds.cache()\n",
        "  ds = ds.shuffle(buffer_size=1000)\n",
        "  ds = ds.batch(batch_size)\n",
        "  ds = ds.prefetch(buffer_size=AUTOTUNE)\n",
        "  return ds"
      ],
      "execution_count": 17,
      "outputs": []
    },
    {
      "cell_type": "code",
      "metadata": {
        "id": "MWcojoVRuok5"
      },
      "source": [
        "# map the dataset partitions to integers for building training/test sets during cross-validation\n",
        "ds_fold_dict = {0:A, 1:B, 2:C, 3:D, 4:E}"
      ],
      "execution_count": 18,
      "outputs": []
    },
    {
      "cell_type": "code",
      "metadata": {
        "id": "Mx3xKoMZU9Yv"
      },
      "source": [
        "# normalise the input values to the pre-trained model's required range of values\n",
        "preprocess_input = keras.applications.resnet_v2.preprocess_input"
      ],
      "execution_count": 19,
      "outputs": []
    },
    {
      "cell_type": "code",
      "metadata": {
        "id": "EVOP5fIPwEx8",
        "outputId": "d84bfc66-ef4d-44f7-be79-211ada3b463e",
        "colab": {
          "base_uri": "https://localhost:8080/"
        }
      },
      "source": [
        "# get pre-trained model\n",
        "base_model = keras.applications.ResNet152V2(include_top=False, input_shape=(img_height, img_width, 3))"
      ],
      "execution_count": 20,
      "outputs": []
    },
    {
      "cell_type": "code",
      "metadata": {
        "id": "DS2kAceGVW0e"
      },
      "source": [
        "# don't train base model weights\n",
        "base_model.trainable = False"
      ],
      "execution_count": 21,
      "outputs": []
    },
    {
      "cell_type": "code",
      "metadata": {
        "id": "KGkReMX60ScJ",
        "outputId": "c4af9954-ecce-4005-a06a-eced1df247ee",
        "colab": {
          "base_uri": "https://localhost:8080/"
        },
        "tags": [
          "outputPrepend"
        ]
      },
      "source": [
        "base_model.summary()"
      ],
      "execution_count": 22,
      "outputs": [
        {
          "output_type": "stream",
          "name": "stdout",
          "text": [
            "31_2_conv[0][0]       \n__________________________________________________________________________________________________\nconv4_block31_2_relu (Activatio (None, 19, 19, 256)  0           conv4_block31_2_bn[0][0]         \n__________________________________________________________________________________________________\nconv4_block31_3_conv (Conv2D)   (None, 19, 19, 1024) 263168      conv4_block31_2_relu[0][0]       \n__________________________________________________________________________________________________\nconv4_block31_out (Add)         (None, 19, 19, 1024) 0           conv4_block30_out[0][0]          \n                                                                 conv4_block31_3_conv[0][0]       \n__________________________________________________________________________________________________\nconv4_block32_preact_bn (BatchN (None, 19, 19, 1024) 4096        conv4_block31_out[0][0]          \n__________________________________________________________________________________________________\nconv4_block32_preact_relu (Acti (None, 19, 19, 1024) 0           conv4_block32_preact_bn[0][0]    \n__________________________________________________________________________________________________\nconv4_block32_1_conv (Conv2D)   (None, 19, 19, 256)  262144      conv4_block32_preact_relu[0][0]  \n__________________________________________________________________________________________________\nconv4_block32_1_bn (BatchNormal (None, 19, 19, 256)  1024        conv4_block32_1_conv[0][0]       \n__________________________________________________________________________________________________\nconv4_block32_1_relu (Activatio (None, 19, 19, 256)  0           conv4_block32_1_bn[0][0]         \n__________________________________________________________________________________________________\nconv4_block32_2_pad (ZeroPaddin (None, 21, 21, 256)  0           conv4_block32_1_relu[0][0]       \n__________________________________________________________________________________________________\nconv4_block32_2_conv (Conv2D)   (None, 19, 19, 256)  589824      conv4_block32_2_pad[0][0]        \n__________________________________________________________________________________________________\nconv4_block32_2_bn (BatchNormal (None, 19, 19, 256)  1024        conv4_block32_2_conv[0][0]       \n__________________________________________________________________________________________________\nconv4_block32_2_relu (Activatio (None, 19, 19, 256)  0           conv4_block32_2_bn[0][0]         \n__________________________________________________________________________________________________\nconv4_block32_3_conv (Conv2D)   (None, 19, 19, 1024) 263168      conv4_block32_2_relu[0][0]       \n__________________________________________________________________________________________________\nconv4_block32_out (Add)         (None, 19, 19, 1024) 0           conv4_block31_out[0][0]          \n                                                                 conv4_block32_3_conv[0][0]       \n__________________________________________________________________________________________________\nconv4_block33_preact_bn (BatchN (None, 19, 19, 1024) 4096        conv4_block32_out[0][0]          \n__________________________________________________________________________________________________\nconv4_block33_preact_relu (Acti (None, 19, 19, 1024) 0           conv4_block33_preact_bn[0][0]    \n__________________________________________________________________________________________________\nconv4_block33_1_conv (Conv2D)   (None, 19, 19, 256)  262144      conv4_block33_preact_relu[0][0]  \n__________________________________________________________________________________________________\nconv4_block33_1_bn (BatchNormal (None, 19, 19, 256)  1024        conv4_block33_1_conv[0][0]       \n__________________________________________________________________________________________________\nconv4_block33_1_relu (Activatio (None, 19, 19, 256)  0           conv4_block33_1_bn[0][0]         \n__________________________________________________________________________________________________\nconv4_block33_2_pad (ZeroPaddin (None, 21, 21, 256)  0           conv4_block33_1_relu[0][0]       \n__________________________________________________________________________________________________\nconv4_block33_2_conv (Conv2D)   (None, 19, 19, 256)  589824      conv4_block33_2_pad[0][0]        \n__________________________________________________________________________________________________\nconv4_block33_2_bn (BatchNormal (None, 19, 19, 256)  1024        conv4_block33_2_conv[0][0]       \n__________________________________________________________________________________________________\nconv4_block33_2_relu (Activatio (None, 19, 19, 256)  0           conv4_block33_2_bn[0][0]         \n__________________________________________________________________________________________________\nconv4_block33_3_conv (Conv2D)   (None, 19, 19, 1024) 263168      conv4_block33_2_relu[0][0]       \n__________________________________________________________________________________________________\nconv4_block33_out (Add)         (None, 19, 19, 1024) 0           conv4_block32_out[0][0]          \n                                                                 conv4_block33_3_conv[0][0]       \n__________________________________________________________________________________________________\nconv4_block34_preact_bn (BatchN (None, 19, 19, 1024) 4096        conv4_block33_out[0][0]          \n__________________________________________________________________________________________________\nconv4_block34_preact_relu (Acti (None, 19, 19, 1024) 0           conv4_block34_preact_bn[0][0]    \n__________________________________________________________________________________________________\nconv4_block34_1_conv (Conv2D)   (None, 19, 19, 256)  262144      conv4_block34_preact_relu[0][0]  \n__________________________________________________________________________________________________\nconv4_block34_1_bn (BatchNormal (None, 19, 19, 256)  1024        conv4_block34_1_conv[0][0]       \n__________________________________________________________________________________________________\nconv4_block34_1_relu (Activatio (None, 19, 19, 256)  0           conv4_block34_1_bn[0][0]         \n__________________________________________________________________________________________________\nconv4_block34_2_pad (ZeroPaddin (None, 21, 21, 256)  0           conv4_block34_1_relu[0][0]       \n__________________________________________________________________________________________________\nconv4_block34_2_conv (Conv2D)   (None, 19, 19, 256)  589824      conv4_block34_2_pad[0][0]        \n__________________________________________________________________________________________________\nconv4_block34_2_bn (BatchNormal (None, 19, 19, 256)  1024        conv4_block34_2_conv[0][0]       \n__________________________________________________________________________________________________\nconv4_block34_2_relu (Activatio (None, 19, 19, 256)  0           conv4_block34_2_bn[0][0]         \n__________________________________________________________________________________________________\nconv4_block34_3_conv (Conv2D)   (None, 19, 19, 1024) 263168      conv4_block34_2_relu[0][0]       \n__________________________________________________________________________________________________\nconv4_block34_out (Add)         (None, 19, 19, 1024) 0           conv4_block33_out[0][0]          \n                                                                 conv4_block34_3_conv[0][0]       \n__________________________________________________________________________________________________\nconv4_block35_preact_bn (BatchN (None, 19, 19, 1024) 4096        conv4_block34_out[0][0]          \n__________________________________________________________________________________________________\nconv4_block35_preact_relu (Acti (None, 19, 19, 1024) 0           conv4_block35_preact_bn[0][0]    \n__________________________________________________________________________________________________\nconv4_block35_1_conv (Conv2D)   (None, 19, 19, 256)  262144      conv4_block35_preact_relu[0][0]  \n__________________________________________________________________________________________________\nconv4_block35_1_bn (BatchNormal (None, 19, 19, 256)  1024        conv4_block35_1_conv[0][0]       \n__________________________________________________________________________________________________\nconv4_block35_1_relu (Activatio (None, 19, 19, 256)  0           conv4_block35_1_bn[0][0]         \n__________________________________________________________________________________________________\nconv4_block35_2_pad (ZeroPaddin (None, 21, 21, 256)  0           conv4_block35_1_relu[0][0]       \n__________________________________________________________________________________________________\nconv4_block35_2_conv (Conv2D)   (None, 19, 19, 256)  589824      conv4_block35_2_pad[0][0]        \n__________________________________________________________________________________________________\nconv4_block35_2_bn (BatchNormal (None, 19, 19, 256)  1024        conv4_block35_2_conv[0][0]       \n__________________________________________________________________________________________________\nconv4_block35_2_relu (Activatio (None, 19, 19, 256)  0           conv4_block35_2_bn[0][0]         \n__________________________________________________________________________________________________\nconv4_block35_3_conv (Conv2D)   (None, 19, 19, 1024) 263168      conv4_block35_2_relu[0][0]       \n__________________________________________________________________________________________________\nconv4_block35_out (Add)         (None, 19, 19, 1024) 0           conv4_block34_out[0][0]          \n                                                                 conv4_block35_3_conv[0][0]       \n__________________________________________________________________________________________________\nconv4_block36_preact_bn (BatchN (None, 19, 19, 1024) 4096        conv4_block35_out[0][0]          \n__________________________________________________________________________________________________\nconv4_block36_preact_relu (Acti (None, 19, 19, 1024) 0           conv4_block36_preact_bn[0][0]    \n__________________________________________________________________________________________________\nconv4_block36_1_conv (Conv2D)   (None, 19, 19, 256)  262144      conv4_block36_preact_relu[0][0]  \n__________________________________________________________________________________________________\nconv4_block36_1_bn (BatchNormal (None, 19, 19, 256)  1024        conv4_block36_1_conv[0][0]       \n__________________________________________________________________________________________________\nconv4_block36_1_relu (Activatio (None, 19, 19, 256)  0           conv4_block36_1_bn[0][0]         \n__________________________________________________________________________________________________\nconv4_block36_2_pad (ZeroPaddin (None, 21, 21, 256)  0           conv4_block36_1_relu[0][0]       \n__________________________________________________________________________________________________\nconv4_block36_2_conv (Conv2D)   (None, 10, 10, 256)  589824      conv4_block36_2_pad[0][0]        \n__________________________________________________________________________________________________\nconv4_block36_2_bn (BatchNormal (None, 10, 10, 256)  1024        conv4_block36_2_conv[0][0]       \n__________________________________________________________________________________________________\nconv4_block36_2_relu (Activatio (None, 10, 10, 256)  0           conv4_block36_2_bn[0][0]         \n__________________________________________________________________________________________________\nmax_pooling2d_2 (MaxPooling2D)  (None, 10, 10, 1024) 0           conv4_block35_out[0][0]          \n__________________________________________________________________________________________________\nconv4_block36_3_conv (Conv2D)   (None, 10, 10, 1024) 263168      conv4_block36_2_relu[0][0]       \n__________________________________________________________________________________________________\nconv4_block36_out (Add)         (None, 10, 10, 1024) 0           max_pooling2d_2[0][0]            \n                                                                 conv4_block36_3_conv[0][0]       \n__________________________________________________________________________________________________\nconv5_block1_preact_bn (BatchNo (None, 10, 10, 1024) 4096        conv4_block36_out[0][0]          \n__________________________________________________________________________________________________\nconv5_block1_preact_relu (Activ (None, 10, 10, 1024) 0           conv5_block1_preact_bn[0][0]     \n__________________________________________________________________________________________________\nconv5_block1_1_conv (Conv2D)    (None, 10, 10, 512)  524288      conv5_block1_preact_relu[0][0]   \n__________________________________________________________________________________________________\nconv5_block1_1_bn (BatchNormali (None, 10, 10, 512)  2048        conv5_block1_1_conv[0][0]        \n__________________________________________________________________________________________________\nconv5_block1_1_relu (Activation (None, 10, 10, 512)  0           conv5_block1_1_bn[0][0]          \n__________________________________________________________________________________________________\nconv5_block1_2_pad (ZeroPadding (None, 12, 12, 512)  0           conv5_block1_1_relu[0][0]        \n__________________________________________________________________________________________________\nconv5_block1_2_conv (Conv2D)    (None, 10, 10, 512)  2359296     conv5_block1_2_pad[0][0]         \n__________________________________________________________________________________________________\nconv5_block1_2_bn (BatchNormali (None, 10, 10, 512)  2048        conv5_block1_2_conv[0][0]        \n__________________________________________________________________________________________________\nconv5_block1_2_relu (Activation (None, 10, 10, 512)  0           conv5_block1_2_bn[0][0]          \n__________________________________________________________________________________________________\nconv5_block1_0_conv (Conv2D)    (None, 10, 10, 2048) 2099200     conv5_block1_preact_relu[0][0]   \n__________________________________________________________________________________________________\nconv5_block1_3_conv (Conv2D)    (None, 10, 10, 2048) 1050624     conv5_block1_2_relu[0][0]        \n__________________________________________________________________________________________________\nconv5_block1_out (Add)          (None, 10, 10, 2048) 0           conv5_block1_0_conv[0][0]        \n                                                                 conv5_block1_3_conv[0][0]        \n__________________________________________________________________________________________________\nconv5_block2_preact_bn (BatchNo (None, 10, 10, 2048) 8192        conv5_block1_out[0][0]           \n__________________________________________________________________________________________________\nconv5_block2_preact_relu (Activ (None, 10, 10, 2048) 0           conv5_block2_preact_bn[0][0]     \n__________________________________________________________________________________________________\nconv5_block2_1_conv (Conv2D)    (None, 10, 10, 512)  1048576     conv5_block2_preact_relu[0][0]   \n__________________________________________________________________________________________________\nconv5_block2_1_bn (BatchNormali (None, 10, 10, 512)  2048        conv5_block2_1_conv[0][0]        \n__________________________________________________________________________________________________\nconv5_block2_1_relu (Activation (None, 10, 10, 512)  0           conv5_block2_1_bn[0][0]          \n__________________________________________________________________________________________________\nconv5_block2_2_pad (ZeroPadding (None, 12, 12, 512)  0           conv5_block2_1_relu[0][0]        \n__________________________________________________________________________________________________\nconv5_block2_2_conv (Conv2D)    (None, 10, 10, 512)  2359296     conv5_block2_2_pad[0][0]         \n__________________________________________________________________________________________________\nconv5_block2_2_bn (BatchNormali (None, 10, 10, 512)  2048        conv5_block2_2_conv[0][0]        \n__________________________________________________________________________________________________\nconv5_block2_2_relu (Activation (None, 10, 10, 512)  0           conv5_block2_2_bn[0][0]          \n__________________________________________________________________________________________________\nconv5_block2_3_conv (Conv2D)    (None, 10, 10, 2048) 1050624     conv5_block2_2_relu[0][0]        \n__________________________________________________________________________________________________\nconv5_block2_out (Add)          (None, 10, 10, 2048) 0           conv5_block1_out[0][0]           \n                                                                 conv5_block2_3_conv[0][0]        \n__________________________________________________________________________________________________\nconv5_block3_preact_bn (BatchNo (None, 10, 10, 2048) 8192        conv5_block2_out[0][0]           \n__________________________________________________________________________________________________\nconv5_block3_preact_relu (Activ (None, 10, 10, 2048) 0           conv5_block3_preact_bn[0][0]     \n__________________________________________________________________________________________________\nconv5_block3_1_conv (Conv2D)    (None, 10, 10, 512)  1048576     conv5_block3_preact_relu[0][0]   \n__________________________________________________________________________________________________\nconv5_block3_1_bn (BatchNormali (None, 10, 10, 512)  2048        conv5_block3_1_conv[0][0]        \n__________________________________________________________________________________________________\nconv5_block3_1_relu (Activation (None, 10, 10, 512)  0           conv5_block3_1_bn[0][0]          \n__________________________________________________________________________________________________\nconv5_block3_2_pad (ZeroPadding (None, 12, 12, 512)  0           conv5_block3_1_relu[0][0]        \n__________________________________________________________________________________________________\nconv5_block3_2_conv (Conv2D)    (None, 10, 10, 512)  2359296     conv5_block3_2_pad[0][0]         \n__________________________________________________________________________________________________\nconv5_block3_2_bn (BatchNormali (None, 10, 10, 512)  2048        conv5_block3_2_conv[0][0]        \n__________________________________________________________________________________________________\nconv5_block3_2_relu (Activation (None, 10, 10, 512)  0           conv5_block3_2_bn[0][0]          \n__________________________________________________________________________________________________\nconv5_block3_3_conv (Conv2D)    (None, 10, 10, 2048) 1050624     conv5_block3_2_relu[0][0]        \n__________________________________________________________________________________________________\nconv5_block3_out (Add)          (None, 10, 10, 2048) 0           conv5_block2_out[0][0]           \n                                                                 conv5_block3_3_conv[0][0]        \n__________________________________________________________________________________________________\npost_bn (BatchNormalization)    (None, 10, 10, 2048) 8192        conv5_block3_out[0][0]           \n__________________________________________________________________________________________________\npost_relu (Activation)          (None, 10, 10, 2048) 0           post_bn[0][0]                    \n==================================================================================================\nTotal params: 58,331,648\nTrainable params: 0\nNon-trainable params: 58,331,648\n__________________________________________________________________________________________________\n"
          ]
        }
      ]
    },
    {
      "cell_type": "code",
      "metadata": {
        "id": "BzhaWb2aX2if"
      },
      "source": [
        "# set a low learning rate to avoid overfitting too quickly\n",
        "base_learning_rate = 0.0001\n",
        "\n",
        "# create the model to train using the pre-trained model as base model\n",
        "def create_model():\n",
        "  # generate additional training data from input training data by augmenting them using random flip, rotation & zoom\n",
        "  data_augmentation = keras.Sequential(\n",
        "    [\n",
        "      layers.experimental.preprocessing.RandomFlip(\"horizontal\", \n",
        "                                                  input_shape=(img_height, \n",
        "                                                                img_width,\n",
        "                                                                3)),\n",
        "      layers.experimental.preprocessing.RandomRotation(0.1),\n",
        "      layers.experimental.preprocessing.RandomZoom(0.1),\n",
        "    ]\n",
        "  )\n",
        "\n",
        "  # average over the spatial locations to convert the features to a single vector per image\n",
        "  global_average_layer = keras.layers.GlobalAveragePooling2D()\n",
        "  # convert these features into a single prediction per image\n",
        "  prediction_layer = keras.layers.Dense(10)\n",
        "\n",
        "  # Build a model by chaining together the layers using the Keras Functional API.\n",
        "  inputs = keras.Input(shape=(img_height, img_width, 3))\n",
        "  x = data_augmentation(inputs)\n",
        "  x = preprocess_input(x)\n",
        "  x = base_model(x, training=False) # use training=False as the base model contains a BatchNormalization layer\n",
        "  x = global_average_layer(x)\n",
        "  x = keras.layers.Dropout(0.2)(x) # add dropout to fully connected layer to reduce overfitting\n",
        "  outputs = prediction_layer(x)\n",
        "  model = keras.Model(inputs, outputs)\n",
        "  optimizer = keras.optimizers.Adam(lr=base_learning_rate)\n",
        "  loss= keras.losses.SparseCategoricalCrossentropy(from_logits=True)\n",
        "  # compile model with Adam optimizer with specified learning rate\n",
        "  model.compile(optimizer=optimizer,\n",
        "                loss=loss,\n",
        "                metrics=['accuracy'])\n",
        "  model.summary()\n",
        "  return model"
      ],
      "execution_count": 23,
      "outputs": []
    },
    {
      "cell_type": "code",
      "metadata": {
        "id": "Z-5TEZRgY2l_"
      },
      "source": [
        "no_epochs = 100"
      ],
      "execution_count": 24,
      "outputs": []
    },
    {
      "cell_type": "code",
      "metadata": {
        "id": "Ya698zRbu7Ep",
        "tags": [
          "outputPrepend"
        ]
      },
      "source": [
        "# store results to plot graphs and get cross-validated accuracies\n",
        "history_map = {}\n",
        "base_model_acc_list = []\n",
        "final_acc_list = []\n",
        "\n",
        "# do 5-fold cross-validation\n",
        "for i in range(5):\n",
        "  print('fold', i + 1)\n",
        "  temp_dict = ds_fold_dict.copy()\n",
        "  # get test set for this iteration\n",
        "  current_val_ds = temp_dict[i]\n",
        "\n",
        "  # get training set for this iteration from remaining data samples\n",
        "  del temp_dict[i]\n",
        "  current_train_ds = None\n",
        "  for ds_shard in temp_dict.values():\n",
        "    if current_train_ds is None:\n",
        "      current_train_ds = ds_shard\n",
        "    else:\n",
        "      current_train_ds = current_train_ds.concatenate(ds_shard)\n",
        "  \n",
        "  # configure both training and test sets to improve performance\n",
        "  current_train_ds = configure_for_performance(current_train_ds)\n",
        "  current_val_ds = configure_for_performance(current_val_ds)\n",
        "\n",
        "  # create a new model\n",
        "  model = create_model()\n",
        "  # get initial test accuracy\n",
        "  base_model_acc_list.append(model.evaluate(current_val_ds)[1])\n",
        "  # train for specified epochs\n",
        "  history = model.fit(current_train_ds,\n",
        "                    epochs=no_epochs,\n",
        "                    validation_data=current_val_ds)\n",
        "  \n",
        "  # save results\n",
        "  if i == 0:\n",
        "    history_map['accuracy'] = [history.history['accuracy']]\n",
        "    history_map['val_accuracy'] = [history.history['val_accuracy']]\n",
        "    history_map['loss'] = [history.history['loss']]\n",
        "    history_map['val_loss'] = [history.history['val_loss']]\n",
        "  else:\n",
        "    history_map['accuracy'].append(history.history['accuracy'])\n",
        "    history_map['val_accuracy'].append(history.history['val_accuracy'])\n",
        "    history_map['loss'].append(history.history['loss'])\n",
        "    history_map['val_loss'].append(history.history['val_loss'])\n",
        "  \n",
        "  # get final test accuracy by taking the max accuracy over the whole training\n",
        "  final_acc_list.append(np.amax(history.history['val_accuracy']))"
      ],
      "execution_count": 25,
      "outputs": [
        {
          "output_type": "stream",
          "name": "stdout",
          "text": [
            "acy: 0.9550 - val_loss: 0.4461 - val_accuracy: 0.8650\n",
            "Epoch 73/100\n",
            "50/50 [==============================] - 8s 166ms/step - loss: 0.1937 - accuracy: 0.9588 - val_loss: 0.4463 - val_accuracy: 0.8550\n",
            "Epoch 74/100\n",
            "50/50 [==============================] - 8s 166ms/step - loss: 0.2086 - accuracy: 0.9538 - val_loss: 0.4456 - val_accuracy: 0.8600\n",
            "Epoch 75/100\n",
            "50/50 [==============================] - 8s 166ms/step - loss: 0.1940 - accuracy: 0.9563 - val_loss: 0.4437 - val_accuracy: 0.8550\n",
            "Epoch 76/100\n",
            "50/50 [==============================] - 8s 166ms/step - loss: 0.1993 - accuracy: 0.9588 - val_loss: 0.4429 - val_accuracy: 0.8550\n",
            "Epoch 77/100\n",
            "50/50 [==============================] - 8s 165ms/step - loss: 0.2011 - accuracy: 0.9550 - val_loss: 0.4414 - val_accuracy: 0.8600\n",
            "Epoch 78/100\n",
            "50/50 [==============================] - 8s 166ms/step - loss: 0.1952 - accuracy: 0.9588 - val_loss: 0.4417 - val_accuracy: 0.8550\n",
            "Epoch 79/100\n",
            "50/50 [==============================] - 8s 164ms/step - loss: 0.1921 - accuracy: 0.9563 - val_loss: 0.4408 - val_accuracy: 0.8550\n",
            "Epoch 80/100\n",
            "50/50 [==============================] - 8s 165ms/step - loss: 0.1754 - accuracy: 0.9663 - val_loss: 0.4414 - val_accuracy: 0.8550\n",
            "Epoch 81/100\n",
            "50/50 [==============================] - 8s 165ms/step - loss: 0.1821 - accuracy: 0.9575 - val_loss: 0.4391 - val_accuracy: 0.8600\n",
            "Epoch 82/100\n",
            "50/50 [==============================] - 8s 166ms/step - loss: 0.1843 - accuracy: 0.9538 - val_loss: 0.4345 - val_accuracy: 0.8550\n",
            "Epoch 83/100\n",
            "50/50 [==============================] - 8s 164ms/step - loss: 0.1786 - accuracy: 0.9575 - val_loss: 0.4375 - val_accuracy: 0.8550\n",
            "Epoch 84/100\n",
            "50/50 [==============================] - 8s 165ms/step - loss: 0.1808 - accuracy: 0.9600 - val_loss: 0.4400 - val_accuracy: 0.8600\n",
            "Epoch 85/100\n",
            "50/50 [==============================] - 8s 163ms/step - loss: 0.1840 - accuracy: 0.9588 - val_loss: 0.4358 - val_accuracy: 0.8550\n",
            "Epoch 86/100\n",
            "50/50 [==============================] - 8s 157ms/step - loss: 0.1545 - accuracy: 0.9712 - val_loss: 0.4346 - val_accuracy: 0.8550\n",
            "Epoch 87/100\n",
            "50/50 [==============================] - 8s 157ms/step - loss: 0.1717 - accuracy: 0.9650 - val_loss: 0.4375 - val_accuracy: 0.8650\n",
            "Epoch 88/100\n",
            "50/50 [==============================] - 8s 157ms/step - loss: 0.1581 - accuracy: 0.9700 - val_loss: 0.4341 - val_accuracy: 0.8550\n",
            "Epoch 89/100\n",
            "50/50 [==============================] - 8s 156ms/step - loss: 0.1720 - accuracy: 0.9688 - val_loss: 0.4328 - val_accuracy: 0.8550\n",
            "Epoch 90/100\n",
            "50/50 [==============================] - 8s 157ms/step - loss: 0.1632 - accuracy: 0.9688 - val_loss: 0.4348 - val_accuracy: 0.8600\n",
            "Epoch 91/100\n",
            "50/50 [==============================] - 8s 157ms/step - loss: 0.1820 - accuracy: 0.9613 - val_loss: 0.4352 - val_accuracy: 0.8550\n",
            "Epoch 92/100\n",
            "50/50 [==============================] - 8s 157ms/step - loss: 0.1479 - accuracy: 0.9700 - val_loss: 0.4325 - val_accuracy: 0.8550\n",
            "Epoch 93/100\n",
            "50/50 [==============================] - 8s 157ms/step - loss: 0.1780 - accuracy: 0.9588 - val_loss: 0.4286 - val_accuracy: 0.8550\n",
            "Epoch 94/100\n",
            "50/50 [==============================] - 8s 157ms/step - loss: 0.1545 - accuracy: 0.9613 - val_loss: 0.4256 - val_accuracy: 0.8500\n",
            "Epoch 95/100\n",
            "50/50 [==============================] - 8s 157ms/step - loss: 0.1506 - accuracy: 0.9725 - val_loss: 0.4294 - val_accuracy: 0.8600\n",
            "Epoch 96/100\n",
            "50/50 [==============================] - 8s 156ms/step - loss: 0.1433 - accuracy: 0.9775 - val_loss: 0.4309 - val_accuracy: 0.8600\n",
            "Epoch 97/100\n",
            "50/50 [==============================] - 8s 156ms/step - loss: 0.1320 - accuracy: 0.9775 - val_loss: 0.4284 - val_accuracy: 0.8550\n",
            "Epoch 98/100\n",
            "50/50 [==============================] - 8s 165ms/step - loss: 0.1333 - accuracy: 0.9837 - val_loss: 0.4336 - val_accuracy: 0.8650\n",
            "Epoch 99/100\n",
            "50/50 [==============================] - 8s 168ms/step - loss: 0.1460 - accuracy: 0.9737 - val_loss: 0.4257 - val_accuracy: 0.8550\n",
            "Epoch 100/100\n",
            "50/50 [==============================] - 8s 156ms/step - loss: 0.1302 - accuracy: 0.9762 - val_loss: 0.4255 - val_accuracy: 0.8650\n",
            "fold 5\n",
            "Model: \"functional_9\"\n",
            "_________________________________________________________________\n",
            "Layer (type)                 Output Shape              Param #   \n",
            "=================================================================\n",
            "input_6 (InputLayer)         [(None, 299, 299, 3)]     0         \n",
            "_________________________________________________________________\n",
            "sequential_4 (Sequential)    (None, 299, 299, 3)       0         \n",
            "_________________________________________________________________\n",
            "tf_op_layer_RealDiv_4 (Tenso [(None, 299, 299, 3)]     0         \n",
            "_________________________________________________________________\n",
            "tf_op_layer_Sub_4 (TensorFlo [(None, 299, 299, 3)]     0         \n",
            "_________________________________________________________________\n",
            "resnet152v2 (Functional)     (None, 10, 10, 2048)      58331648  \n",
            "_________________________________________________________________\n",
            "global_average_pooling2d_4 ( (None, 2048)              0         \n",
            "_________________________________________________________________\n",
            "dropout_4 (Dropout)          (None, 2048)              0         \n",
            "_________________________________________________________________\n",
            "dense_4 (Dense)              (None, 10)                20490     \n",
            "=================================================================\n",
            "Total params: 58,352,138\n",
            "Trainable params: 20,490\n",
            "Non-trainable params: 58,331,648\n",
            "_________________________________________________________________\n",
            "13/13 [==============================] - 1s 108ms/step - loss: 2.7601 - accuracy: 0.0800\n",
            "Epoch 1/100\n",
            "50/50 [==============================] - 8s 150ms/step - loss: 2.5946 - accuracy: 0.1262 - val_loss: 2.3715 - val_accuracy: 0.1500\n",
            "Epoch 2/100\n",
            "50/50 [==============================] - 8s 151ms/step - loss: 2.2483 - accuracy: 0.2212 - val_loss: 2.1054 - val_accuracy: 0.2800\n",
            "Epoch 3/100\n",
            "50/50 [==============================] - 8s 151ms/step - loss: 1.9907 - accuracy: 0.3000 - val_loss: 1.8816 - val_accuracy: 0.3550\n",
            "Epoch 4/100\n",
            "50/50 [==============================] - 8s 151ms/step - loss: 1.7971 - accuracy: 0.3850 - val_loss: 1.6901 - val_accuracy: 0.4200\n",
            "Epoch 5/100\n",
            "50/50 [==============================] - 8s 152ms/step - loss: 1.6498 - accuracy: 0.4475 - val_loss: 1.5388 - val_accuracy: 0.4800\n",
            "Epoch 6/100\n",
            "50/50 [==============================] - 8s 153ms/step - loss: 1.4691 - accuracy: 0.5188 - val_loss: 1.4112 - val_accuracy: 0.5450\n",
            "Epoch 7/100\n",
            "50/50 [==============================] - 8s 152ms/step - loss: 1.3281 - accuracy: 0.5888 - val_loss: 1.2981 - val_accuracy: 0.5850\n",
            "Epoch 8/100\n",
            "50/50 [==============================] - 8s 153ms/step - loss: 1.2380 - accuracy: 0.6212 - val_loss: 1.2090 - val_accuracy: 0.6200\n",
            "Epoch 9/100\n",
            "50/50 [==============================] - 8s 153ms/step - loss: 1.1210 - accuracy: 0.6550 - val_loss: 1.1259 - val_accuracy: 0.6800\n",
            "Epoch 10/100\n",
            "50/50 [==============================] - 8s 152ms/step - loss: 1.0229 - accuracy: 0.7025 - val_loss: 1.0592 - val_accuracy: 0.7050\n",
            "Epoch 11/100\n",
            "50/50 [==============================] - 8s 152ms/step - loss: 0.9808 - accuracy: 0.7025 - val_loss: 1.0037 - val_accuracy: 0.7300\n",
            "Epoch 12/100\n",
            "50/50 [==============================] - 8s 153ms/step - loss: 0.9397 - accuracy: 0.7300 - val_loss: 0.9580 - val_accuracy: 0.7450\n",
            "Epoch 13/100\n",
            "50/50 [==============================] - 8s 153ms/step - loss: 0.8725 - accuracy: 0.7550 - val_loss: 0.9168 - val_accuracy: 0.7500\n",
            "Epoch 14/100\n",
            "50/50 [==============================] - 8s 154ms/step - loss: 0.8232 - accuracy: 0.7563 - val_loss: 0.8802 - val_accuracy: 0.7600\n",
            "Epoch 15/100\n",
            "50/50 [==============================] - 8s 153ms/step - loss: 0.7914 - accuracy: 0.7763 - val_loss: 0.8426 - val_accuracy: 0.7700\n",
            "Epoch 16/100\n",
            "50/50 [==============================] - 8s 154ms/step - loss: 0.7558 - accuracy: 0.8000 - val_loss: 0.8149 - val_accuracy: 0.7750\n",
            "Epoch 17/100\n",
            "50/50 [==============================] - 8s 154ms/step - loss: 0.7225 - accuracy: 0.8175 - val_loss: 0.7894 - val_accuracy: 0.7750\n",
            "Epoch 18/100\n",
            "50/50 [==============================] - 8s 152ms/step - loss: 0.6768 - accuracy: 0.8050 - val_loss: 0.7682 - val_accuracy: 0.7750\n",
            "Epoch 19/100\n",
            "50/50 [==============================] - 8s 153ms/step - loss: 0.6403 - accuracy: 0.8313 - val_loss: 0.7478 - val_accuracy: 0.7800\n",
            "Epoch 20/100\n",
            "50/50 [==============================] - 8s 152ms/step - loss: 0.6400 - accuracy: 0.8138 - val_loss: 0.7264 - val_accuracy: 0.7950\n",
            "Epoch 21/100\n",
            "50/50 [==============================] - 8s 154ms/step - loss: 0.6074 - accuracy: 0.8375 - val_loss: 0.7123 - val_accuracy: 0.7900\n",
            "Epoch 22/100\n",
            "50/50 [==============================] - 8s 154ms/step - loss: 0.5877 - accuracy: 0.8375 - val_loss: 0.6957 - val_accuracy: 0.8200\n",
            "Epoch 23/100\n",
            "50/50 [==============================] - 8s 154ms/step - loss: 0.5861 - accuracy: 0.8350 - val_loss: 0.6786 - val_accuracy: 0.8150\n",
            "Epoch 24/100\n",
            "50/50 [==============================] - 8s 153ms/step - loss: 0.5665 - accuracy: 0.8462 - val_loss: 0.6647 - val_accuracy: 0.8200\n",
            "Epoch 25/100\n",
            "50/50 [==============================] - 8s 153ms/step - loss: 0.5588 - accuracy: 0.8413 - val_loss: 0.6528 - val_accuracy: 0.8200\n",
            "Epoch 26/100\n",
            "50/50 [==============================] - 8s 154ms/step - loss: 0.5363 - accuracy: 0.8612 - val_loss: 0.6404 - val_accuracy: 0.8200\n",
            "Epoch 27/100\n",
            "50/50 [==============================] - 8s 154ms/step - loss: 0.5058 - accuracy: 0.8625 - val_loss: 0.6300 - val_accuracy: 0.8150\n",
            "Epoch 28/100\n",
            "50/50 [==============================] - 8s 153ms/step - loss: 0.4897 - accuracy: 0.8675 - val_loss: 0.6228 - val_accuracy: 0.8150\n",
            "Epoch 29/100\n",
            "50/50 [==============================] - 8s 154ms/step - loss: 0.4900 - accuracy: 0.8737 - val_loss: 0.6112 - val_accuracy: 0.8250\n",
            "Epoch 30/100\n",
            "50/50 [==============================] - 8s 153ms/step - loss: 0.4581 - accuracy: 0.8838 - val_loss: 0.6035 - val_accuracy: 0.8250\n",
            "Epoch 31/100\n",
            "50/50 [==============================] - 8s 153ms/step - loss: 0.4484 - accuracy: 0.8825 - val_loss: 0.5926 - val_accuracy: 0.8350\n",
            "Epoch 32/100\n",
            "50/50 [==============================] - 8s 154ms/step - loss: 0.4488 - accuracy: 0.8775 - val_loss: 0.5857 - val_accuracy: 0.8350\n",
            "Epoch 33/100\n",
            "50/50 [==============================] - 8s 153ms/step - loss: 0.4466 - accuracy: 0.8888 - val_loss: 0.5765 - val_accuracy: 0.8200\n",
            "Epoch 34/100\n",
            "50/50 [==============================] - 8s 153ms/step - loss: 0.3998 - accuracy: 0.8913 - val_loss: 0.5723 - val_accuracy: 0.8200\n",
            "Epoch 35/100\n",
            "50/50 [==============================] - 8s 153ms/step - loss: 0.4204 - accuracy: 0.8850 - val_loss: 0.5663 - val_accuracy: 0.8150\n",
            "Epoch 36/100\n",
            "50/50 [==============================] - 8s 153ms/step - loss: 0.4048 - accuracy: 0.9000 - val_loss: 0.5582 - val_accuracy: 0.8250\n",
            "Epoch 37/100\n",
            "50/50 [==============================] - 8s 154ms/step - loss: 0.3817 - accuracy: 0.8925 - val_loss: 0.5546 - val_accuracy: 0.8200\n",
            "Epoch 38/100\n",
            "50/50 [==============================] - 8s 153ms/step - loss: 0.3769 - accuracy: 0.9125 - val_loss: 0.5503 - val_accuracy: 0.8300\n",
            "Epoch 39/100\n",
            "50/50 [==============================] - 8s 154ms/step - loss: 0.3739 - accuracy: 0.9013 - val_loss: 0.5452 - val_accuracy: 0.8350\n",
            "Epoch 40/100\n",
            "50/50 [==============================] - 8s 153ms/step - loss: 0.3615 - accuracy: 0.9100 - val_loss: 0.5428 - val_accuracy: 0.8300\n",
            "Epoch 41/100\n",
            "50/50 [==============================] - 8s 153ms/step - loss: 0.3579 - accuracy: 0.9025 - val_loss: 0.5387 - val_accuracy: 0.8350\n",
            "Epoch 42/100\n",
            "50/50 [==============================] - 8s 153ms/step - loss: 0.3619 - accuracy: 0.8975 - val_loss: 0.5333 - val_accuracy: 0.8300\n",
            "Epoch 43/100\n",
            "50/50 [==============================] - 8s 154ms/step - loss: 0.3436 - accuracy: 0.9038 - val_loss: 0.5301 - val_accuracy: 0.8350\n",
            "Epoch 44/100\n",
            "50/50 [==============================] - 8s 153ms/step - loss: 0.3405 - accuracy: 0.9050 - val_loss: 0.5254 - val_accuracy: 0.8300\n",
            "Epoch 45/100\n",
            "50/50 [==============================] - 8s 153ms/step - loss: 0.3192 - accuracy: 0.9137 - val_loss: 0.5236 - val_accuracy: 0.8300\n",
            "Epoch 46/100\n",
            "50/50 [==============================] - 8s 154ms/step - loss: 0.3176 - accuracy: 0.9200 - val_loss: 0.5190 - val_accuracy: 0.8400\n",
            "Epoch 47/100\n",
            "50/50 [==============================] - 8s 153ms/step - loss: 0.3443 - accuracy: 0.9150 - val_loss: 0.5172 - val_accuracy: 0.8400\n",
            "Epoch 48/100\n",
            "50/50 [==============================] - 8s 154ms/step - loss: 0.3083 - accuracy: 0.9225 - val_loss: 0.5140 - val_accuracy: 0.8400\n",
            "Epoch 49/100\n",
            "50/50 [==============================] - 8s 154ms/step - loss: 0.3114 - accuracy: 0.9250 - val_loss: 0.5094 - val_accuracy: 0.8400\n",
            "Epoch 50/100\n",
            "50/50 [==============================] - 8s 153ms/step - loss: 0.3014 - accuracy: 0.9237 - val_loss: 0.5060 - val_accuracy: 0.8350\n",
            "Epoch 51/100\n",
            "50/50 [==============================] - 8s 153ms/step - loss: 0.2895 - accuracy: 0.9275 - val_loss: 0.5025 - val_accuracy: 0.8350\n",
            "Epoch 52/100\n",
            "50/50 [==============================] - 8s 153ms/step - loss: 0.2791 - accuracy: 0.9388 - val_loss: 0.4998 - val_accuracy: 0.8450\n",
            "Epoch 53/100\n",
            "50/50 [==============================] - 8s 153ms/step - loss: 0.2736 - accuracy: 0.9400 - val_loss: 0.4994 - val_accuracy: 0.8350\n",
            "Epoch 54/100\n",
            "50/50 [==============================] - 8s 153ms/step - loss: 0.2695 - accuracy: 0.9287 - val_loss: 0.4965 - val_accuracy: 0.8500\n",
            "Epoch 55/100\n",
            "50/50 [==============================] - 8s 154ms/step - loss: 0.2842 - accuracy: 0.9312 - val_loss: 0.4951 - val_accuracy: 0.8450\n",
            "Epoch 56/100\n",
            "50/50 [==============================] - 8s 154ms/step - loss: 0.2782 - accuracy: 0.9312 - val_loss: 0.4935 - val_accuracy: 0.8500\n",
            "Epoch 57/100\n",
            "50/50 [==============================] - 8s 153ms/step - loss: 0.2546 - accuracy: 0.9425 - val_loss: 0.4898 - val_accuracy: 0.8500\n",
            "Epoch 58/100\n",
            "50/50 [==============================] - 8s 153ms/step - loss: 0.2745 - accuracy: 0.9388 - val_loss: 0.4894 - val_accuracy: 0.8550\n",
            "Epoch 59/100\n",
            "50/50 [==============================] - 8s 154ms/step - loss: 0.2622 - accuracy: 0.9438 - val_loss: 0.4883 - val_accuracy: 0.8600\n",
            "Epoch 60/100\n",
            "50/50 [==============================] - 8s 153ms/step - loss: 0.2602 - accuracy: 0.9312 - val_loss: 0.4852 - val_accuracy: 0.8500\n",
            "Epoch 61/100\n",
            "50/50 [==============================] - 8s 153ms/step - loss: 0.2312 - accuracy: 0.9563 - val_loss: 0.4857 - val_accuracy: 0.8550\n",
            "Epoch 62/100\n",
            "50/50 [==============================] - 8s 153ms/step - loss: 0.2430 - accuracy: 0.9388 - val_loss: 0.4831 - val_accuracy: 0.8550\n",
            "Epoch 63/100\n",
            "50/50 [==============================] - 8s 153ms/step - loss: 0.2279 - accuracy: 0.9438 - val_loss: 0.4810 - val_accuracy: 0.8550\n",
            "Epoch 64/100\n",
            "50/50 [==============================] - 8s 152ms/step - loss: 0.2383 - accuracy: 0.9463 - val_loss: 0.4793 - val_accuracy: 0.8550\n",
            "Epoch 65/100\n",
            "50/50 [==============================] - 8s 154ms/step - loss: 0.2262 - accuracy: 0.9575 - val_loss: 0.4775 - val_accuracy: 0.8600\n",
            "Epoch 66/100\n",
            "50/50 [==============================] - 8s 153ms/step - loss: 0.2227 - accuracy: 0.9550 - val_loss: 0.4757 - val_accuracy: 0.8550\n",
            "Epoch 67/100\n",
            "50/50 [==============================] - 8s 153ms/step - loss: 0.2076 - accuracy: 0.9525 - val_loss: 0.4770 - val_accuracy: 0.8600\n",
            "Epoch 68/100\n",
            "50/50 [==============================] - 8s 153ms/step - loss: 0.2189 - accuracy: 0.9575 - val_loss: 0.4755 - val_accuracy: 0.8550\n",
            "Epoch 69/100\n",
            "50/50 [==============================] - 8s 152ms/step - loss: 0.2261 - accuracy: 0.9513 - val_loss: 0.4755 - val_accuracy: 0.8650\n",
            "Epoch 70/100\n",
            "50/50 [==============================] - 8s 153ms/step - loss: 0.2212 - accuracy: 0.9450 - val_loss: 0.4708 - val_accuracy: 0.8650\n",
            "Epoch 71/100\n",
            "50/50 [==============================] - 8s 153ms/step - loss: 0.2060 - accuracy: 0.9575 - val_loss: 0.4705 - val_accuracy: 0.8650\n",
            "Epoch 72/100\n",
            "50/50 [==============================] - 8s 153ms/step - loss: 0.1973 - accuracy: 0.9575 - val_loss: 0.4685 - val_accuracy: 0.8600\n",
            "Epoch 73/100\n",
            "50/50 [==============================] - 8s 153ms/step - loss: 0.1958 - accuracy: 0.9625 - val_loss: 0.4682 - val_accuracy: 0.8650\n",
            "Epoch 74/100\n",
            "50/50 [==============================] - 8s 153ms/step - loss: 0.2194 - accuracy: 0.9438 - val_loss: 0.4680 - val_accuracy: 0.8600\n",
            "Epoch 75/100\n",
            "50/50 [==============================] - 8s 154ms/step - loss: 0.1955 - accuracy: 0.9575 - val_loss: 0.4664 - val_accuracy: 0.8650\n",
            "Epoch 76/100\n",
            "50/50 [==============================] - 8s 154ms/step - loss: 0.1949 - accuracy: 0.9600 - val_loss: 0.4658 - val_accuracy: 0.8650\n",
            "Epoch 77/100\n",
            "50/50 [==============================] - 8s 153ms/step - loss: 0.2027 - accuracy: 0.9600 - val_loss: 0.4668 - val_accuracy: 0.8650\n",
            "Epoch 78/100\n",
            "50/50 [==============================] - 8s 153ms/step - loss: 0.1919 - accuracy: 0.9638 - val_loss: 0.4662 - val_accuracy: 0.8650\n",
            "Epoch 79/100\n",
            "50/50 [==============================] - 8s 153ms/step - loss: 0.1900 - accuracy: 0.9613 - val_loss: 0.4659 - val_accuracy: 0.8650\n",
            "Epoch 80/100\n",
            "50/50 [==============================] - 8s 153ms/step - loss: 0.1885 - accuracy: 0.9638 - val_loss: 0.4627 - val_accuracy: 0.8650\n",
            "Epoch 81/100\n",
            "50/50 [==============================] - 8s 154ms/step - loss: 0.1783 - accuracy: 0.9675 - val_loss: 0.4622 - val_accuracy: 0.8650\n",
            "Epoch 82/100\n",
            "50/50 [==============================] - 8s 155ms/step - loss: 0.1871 - accuracy: 0.9625 - val_loss: 0.4658 - val_accuracy: 0.8650\n",
            "Epoch 83/100\n",
            "50/50 [==============================] - 8s 152ms/step - loss: 0.1799 - accuracy: 0.9700 - val_loss: 0.4667 - val_accuracy: 0.8650\n",
            "Epoch 84/100\n",
            "50/50 [==============================] - 8s 154ms/step - loss: 0.1633 - accuracy: 0.9650 - val_loss: 0.4658 - val_accuracy: 0.8600\n",
            "Epoch 85/100\n",
            "50/50 [==============================] - 8s 159ms/step - loss: 0.1657 - accuracy: 0.9737 - val_loss: 0.4652 - val_accuracy: 0.8650\n",
            "Epoch 86/100\n",
            "50/50 [==============================] - 8s 156ms/step - loss: 0.1823 - accuracy: 0.9575 - val_loss: 0.4621 - val_accuracy: 0.8650\n",
            "Epoch 87/100\n",
            "50/50 [==============================] - 8s 161ms/step - loss: 0.1682 - accuracy: 0.9663 - val_loss: 0.4617 - val_accuracy: 0.8650\n",
            "Epoch 88/100\n",
            "50/50 [==============================] - 8s 164ms/step - loss: 0.1672 - accuracy: 0.9650 - val_loss: 0.4604 - val_accuracy: 0.8700\n",
            "Epoch 89/100\n",
            "50/50 [==============================] - 8s 164ms/step - loss: 0.1576 - accuracy: 0.9700 - val_loss: 0.4606 - val_accuracy: 0.8650\n",
            "Epoch 90/100\n",
            "50/50 [==============================] - 8s 162ms/step - loss: 0.1513 - accuracy: 0.9800 - val_loss: 0.4611 - val_accuracy: 0.8650\n",
            "Epoch 91/100\n",
            "50/50 [==============================] - 8s 158ms/step - loss: 0.1595 - accuracy: 0.9700 - val_loss: 0.4582 - val_accuracy: 0.8700\n",
            "Epoch 92/100\n",
            "50/50 [==============================] - 8s 155ms/step - loss: 0.1634 - accuracy: 0.9588 - val_loss: 0.4587 - val_accuracy: 0.8700\n",
            "Epoch 93/100\n",
            "50/50 [==============================] - 8s 158ms/step - loss: 0.1579 - accuracy: 0.9650 - val_loss: 0.4588 - val_accuracy: 0.8700\n",
            "Epoch 94/100\n",
            "50/50 [==============================] - 8s 158ms/step - loss: 0.1456 - accuracy: 0.9712 - val_loss: 0.4604 - val_accuracy: 0.8700\n",
            "Epoch 95/100\n",
            "50/50 [==============================] - 8s 158ms/step - loss: 0.1546 - accuracy: 0.9762 - val_loss: 0.4605 - val_accuracy: 0.8650\n",
            "Epoch 96/100\n",
            "50/50 [==============================] - 8s 158ms/step - loss: 0.1442 - accuracy: 0.9725 - val_loss: 0.4637 - val_accuracy: 0.8650\n",
            "Epoch 97/100\n",
            "50/50 [==============================] - 8s 158ms/step - loss: 0.1314 - accuracy: 0.9762 - val_loss: 0.4583 - val_accuracy: 0.8700\n",
            "Epoch 98/100\n",
            "50/50 [==============================] - 8s 158ms/step - loss: 0.1520 - accuracy: 0.9688 - val_loss: 0.4555 - val_accuracy: 0.8700\n",
            "Epoch 99/100\n",
            "50/50 [==============================] - 8s 159ms/step - loss: 0.1606 - accuracy: 0.9663 - val_loss: 0.4562 - val_accuracy: 0.8650\n",
            "Epoch 100/100\n",
            "50/50 [==============================] - 8s 156ms/step - loss: 0.1481 - accuracy: 0.9787 - val_loss: 0.4592 - val_accuracy: 0.8650\n"
          ]
        }
      ]
    },
    {
      "cell_type": "code",
      "metadata": {
        "id": "W2E72C3O30fv"
      },
      "source": [
        "# cross-validated accuracy for pre-trained model before training\n",
        "print(\"Base model accuracy:\", np.mean(base_model_acc_list))\n",
        "# cross-validated accuracy after training\n",
        "print(\"Final accuracy:\", np.mean(final_acc_list))"
      ],
      "execution_count": 26,
      "outputs": [
        {
          "output_type": "stream",
          "name": "stdout",
          "text": [
            "Base model accuracy: 0.08599999994039535\nFinal accuracy: 0.850000011920929\n"
          ]
        }
      ]
    },
    {
      "cell_type": "code",
      "metadata": {
        "id": "Dtn-03T_ZaRX"
      },
      "source": [
        "# plot graph of cross-validated accuracies\n",
        "acc = np.mean(history_map['accuracy'], axis=0)\n",
        "val_acc = np.mean(history_map['val_accuracy'], axis=0)\n",
        "\n",
        "plt.figure(1)\n",
        "plt.plot(acc, label='Training Accuracy')\n",
        "plt.plot(val_acc, label='Validation Accuracy')\n",
        "plt.legend(loc='lower right')\n",
        "plt.ylabel('Accuracy')\n",
        "plt.ylim([min(plt.ylim()),1])\n",
        "plt.title('Training and Validation Accuracy')\n",
        "plt.show()"
      ],
      "execution_count": 27,
      "outputs": [
        {
          "output_type": "display_data",
          "data": {
            "text/plain": "<Figure size 432x288 with 1 Axes>",
            "image/svg+xml": "<?xml version=\"1.0\" encoding=\"utf-8\" standalone=\"no\"?>\r\n<!DOCTYPE svg PUBLIC \"-//W3C//DTD SVG 1.1//EN\"\r\n  \"http://www.w3.org/Graphics/SVG/1.1/DTD/svg11.dtd\">\r\n<!-- Created with matplotlib (http://matplotlib.org/) -->\r\n<svg height=\"263.63625pt\" version=\"1.1\" viewBox=\"0 0 389.28125 263.63625\" width=\"389.28125pt\" xmlns=\"http://www.w3.org/2000/svg\" xmlns:xlink=\"http://www.w3.org/1999/xlink\">\r\n <defs>\r\n  <style type=\"text/css\">\r\n*{stroke-linecap:butt;stroke-linejoin:round;}\r\n  </style>\r\n </defs>\r\n <g id=\"figure_1\">\r\n  <g id=\"patch_1\">\r\n   <path d=\"M 0 263.63625 \r\nL 389.28125 263.63625 \r\nL 389.28125 0 \r\nL 0 0 \r\nz\r\n\" style=\"fill:none;\"/>\r\n  </g>\r\n  <g id=\"axes_1\">\r\n   <g id=\"patch_2\">\r\n    <path d=\"M 43.78125 239.758125 \r\nL 378.58125 239.758125 \r\nL 378.58125 22.318125 \r\nL 43.78125 22.318125 \r\nz\r\n\" style=\"fill:#ffffff;\"/>\r\n   </g>\r\n   <g id=\"matplotlib.axis_1\">\r\n    <g id=\"xtick_1\">\r\n     <g id=\"line2d_1\">\r\n      <defs>\r\n       <path d=\"M 0 0 \r\nL 0 3.5 \r\n\" id=\"m39d7620f54\" style=\"stroke:#000000;stroke-width:0.8;\"/>\r\n      </defs>\r\n      <g>\r\n       <use style=\"stroke:#000000;stroke-width:0.8;\" x=\"58.999432\" xlink:href=\"#m39d7620f54\" y=\"239.758125\"/>\r\n      </g>\r\n     </g>\r\n     <g id=\"text_1\">\r\n      <!-- 0 -->\r\n      <defs>\r\n       <path d=\"M 31.78125 66.40625 \r\nQ 24.171875 66.40625 20.328125 58.90625 \r\nQ 16.5 51.421875 16.5 36.375 \r\nQ 16.5 21.390625 20.328125 13.890625 \r\nQ 24.171875 6.390625 31.78125 6.390625 \r\nQ 39.453125 6.390625 43.28125 13.890625 \r\nQ 47.125 21.390625 47.125 36.375 \r\nQ 47.125 51.421875 43.28125 58.90625 \r\nQ 39.453125 66.40625 31.78125 66.40625 \r\nz\r\nM 31.78125 74.21875 \r\nQ 44.046875 74.21875 50.515625 64.515625 \r\nQ 56.984375 54.828125 56.984375 36.375 \r\nQ 56.984375 17.96875 50.515625 8.265625 \r\nQ 44.046875 -1.421875 31.78125 -1.421875 \r\nQ 19.53125 -1.421875 13.0625 8.265625 \r\nQ 6.59375 17.96875 6.59375 36.375 \r\nQ 6.59375 54.828125 13.0625 64.515625 \r\nQ 19.53125 74.21875 31.78125 74.21875 \r\nz\r\n\" id=\"DejaVuSans-30\"/>\r\n      </defs>\r\n      <g transform=\"translate(55.818182 254.356563)scale(0.1 -0.1)\">\r\n       <use xlink:href=\"#DejaVuSans-30\"/>\r\n      </g>\r\n     </g>\r\n    </g>\r\n    <g id=\"xtick_2\">\r\n     <g id=\"line2d_2\">\r\n      <g>\r\n       <use style=\"stroke:#000000;stroke-width:0.8;\" x=\"120.487035\" xlink:href=\"#m39d7620f54\" y=\"239.758125\"/>\r\n      </g>\r\n     </g>\r\n     <g id=\"text_2\">\r\n      <!-- 20 -->\r\n      <defs>\r\n       <path d=\"M 19.1875 8.296875 \r\nL 53.609375 8.296875 \r\nL 53.609375 0 \r\nL 7.328125 0 \r\nL 7.328125 8.296875 \r\nQ 12.9375 14.109375 22.625 23.890625 \r\nQ 32.328125 33.6875 34.8125 36.53125 \r\nQ 39.546875 41.84375 41.421875 45.53125 \r\nQ 43.3125 49.21875 43.3125 52.78125 \r\nQ 43.3125 58.59375 39.234375 62.25 \r\nQ 35.15625 65.921875 28.609375 65.921875 \r\nQ 23.96875 65.921875 18.8125 64.3125 \r\nQ 13.671875 62.703125 7.8125 59.421875 \r\nL 7.8125 69.390625 \r\nQ 13.765625 71.78125 18.9375 73 \r\nQ 24.125 74.21875 28.421875 74.21875 \r\nQ 39.75 74.21875 46.484375 68.546875 \r\nQ 53.21875 62.890625 53.21875 53.421875 \r\nQ 53.21875 48.921875 51.53125 44.890625 \r\nQ 49.859375 40.875 45.40625 35.40625 \r\nQ 44.1875 33.984375 37.640625 27.21875 \r\nQ 31.109375 20.453125 19.1875 8.296875 \r\nz\r\n\" id=\"DejaVuSans-32\"/>\r\n      </defs>\r\n      <g transform=\"translate(114.124535 254.356563)scale(0.1 -0.1)\">\r\n       <use xlink:href=\"#DejaVuSans-32\"/>\r\n       <use x=\"63.623047\" xlink:href=\"#DejaVuSans-30\"/>\r\n      </g>\r\n     </g>\r\n    </g>\r\n    <g id=\"xtick_3\">\r\n     <g id=\"line2d_3\">\r\n      <g>\r\n       <use style=\"stroke:#000000;stroke-width:0.8;\" x=\"181.974638\" xlink:href=\"#m39d7620f54\" y=\"239.758125\"/>\r\n      </g>\r\n     </g>\r\n     <g id=\"text_3\">\r\n      <!-- 40 -->\r\n      <defs>\r\n       <path d=\"M 37.796875 64.3125 \r\nL 12.890625 25.390625 \r\nL 37.796875 25.390625 \r\nz\r\nM 35.203125 72.90625 \r\nL 47.609375 72.90625 \r\nL 47.609375 25.390625 \r\nL 58.015625 25.390625 \r\nL 58.015625 17.1875 \r\nL 47.609375 17.1875 \r\nL 47.609375 0 \r\nL 37.796875 0 \r\nL 37.796875 17.1875 \r\nL 4.890625 17.1875 \r\nL 4.890625 26.703125 \r\nz\r\n\" id=\"DejaVuSans-34\"/>\r\n      </defs>\r\n      <g transform=\"translate(175.612138 254.356563)scale(0.1 -0.1)\">\r\n       <use xlink:href=\"#DejaVuSans-34\"/>\r\n       <use x=\"63.623047\" xlink:href=\"#DejaVuSans-30\"/>\r\n      </g>\r\n     </g>\r\n    </g>\r\n    <g id=\"xtick_4\">\r\n     <g id=\"line2d_4\">\r\n      <g>\r\n       <use style=\"stroke:#000000;stroke-width:0.8;\" x=\"243.462242\" xlink:href=\"#m39d7620f54\" y=\"239.758125\"/>\r\n      </g>\r\n     </g>\r\n     <g id=\"text_4\">\r\n      <!-- 60 -->\r\n      <defs>\r\n       <path d=\"M 33.015625 40.375 \r\nQ 26.375 40.375 22.484375 35.828125 \r\nQ 18.609375 31.296875 18.609375 23.390625 \r\nQ 18.609375 15.53125 22.484375 10.953125 \r\nQ 26.375 6.390625 33.015625 6.390625 \r\nQ 39.65625 6.390625 43.53125 10.953125 \r\nQ 47.40625 15.53125 47.40625 23.390625 \r\nQ 47.40625 31.296875 43.53125 35.828125 \r\nQ 39.65625 40.375 33.015625 40.375 \r\nz\r\nM 52.59375 71.296875 \r\nL 52.59375 62.3125 \r\nQ 48.875 64.0625 45.09375 64.984375 \r\nQ 41.3125 65.921875 37.59375 65.921875 \r\nQ 27.828125 65.921875 22.671875 59.328125 \r\nQ 17.53125 52.734375 16.796875 39.40625 \r\nQ 19.671875 43.65625 24.015625 45.921875 \r\nQ 28.375 48.1875 33.59375 48.1875 \r\nQ 44.578125 48.1875 50.953125 41.515625 \r\nQ 57.328125 34.859375 57.328125 23.390625 \r\nQ 57.328125 12.15625 50.6875 5.359375 \r\nQ 44.046875 -1.421875 33.015625 -1.421875 \r\nQ 20.359375 -1.421875 13.671875 8.265625 \r\nQ 6.984375 17.96875 6.984375 36.375 \r\nQ 6.984375 53.65625 15.1875 63.9375 \r\nQ 23.390625 74.21875 37.203125 74.21875 \r\nQ 40.921875 74.21875 44.703125 73.484375 \r\nQ 48.484375 72.75 52.59375 71.296875 \r\nz\r\n\" id=\"DejaVuSans-36\"/>\r\n      </defs>\r\n      <g transform=\"translate(237.099742 254.356563)scale(0.1 -0.1)\">\r\n       <use xlink:href=\"#DejaVuSans-36\"/>\r\n       <use x=\"63.623047\" xlink:href=\"#DejaVuSans-30\"/>\r\n      </g>\r\n     </g>\r\n    </g>\r\n    <g id=\"xtick_5\">\r\n     <g id=\"line2d_5\">\r\n      <g>\r\n       <use style=\"stroke:#000000;stroke-width:0.8;\" x=\"304.949845\" xlink:href=\"#m39d7620f54\" y=\"239.758125\"/>\r\n      </g>\r\n     </g>\r\n     <g id=\"text_5\">\r\n      <!-- 80 -->\r\n      <defs>\r\n       <path d=\"M 31.78125 34.625 \r\nQ 24.75 34.625 20.71875 30.859375 \r\nQ 16.703125 27.09375 16.703125 20.515625 \r\nQ 16.703125 13.921875 20.71875 10.15625 \r\nQ 24.75 6.390625 31.78125 6.390625 \r\nQ 38.8125 6.390625 42.859375 10.171875 \r\nQ 46.921875 13.96875 46.921875 20.515625 \r\nQ 46.921875 27.09375 42.890625 30.859375 \r\nQ 38.875 34.625 31.78125 34.625 \r\nz\r\nM 21.921875 38.8125 \r\nQ 15.578125 40.375 12.03125 44.71875 \r\nQ 8.5 49.078125 8.5 55.328125 \r\nQ 8.5 64.0625 14.71875 69.140625 \r\nQ 20.953125 74.21875 31.78125 74.21875 \r\nQ 42.671875 74.21875 48.875 69.140625 \r\nQ 55.078125 64.0625 55.078125 55.328125 \r\nQ 55.078125 49.078125 51.53125 44.71875 \r\nQ 48 40.375 41.703125 38.8125 \r\nQ 48.828125 37.15625 52.796875 32.3125 \r\nQ 56.78125 27.484375 56.78125 20.515625 \r\nQ 56.78125 9.90625 50.3125 4.234375 \r\nQ 43.84375 -1.421875 31.78125 -1.421875 \r\nQ 19.734375 -1.421875 13.25 4.234375 \r\nQ 6.78125 9.90625 6.78125 20.515625 \r\nQ 6.78125 27.484375 10.78125 32.3125 \r\nQ 14.796875 37.15625 21.921875 38.8125 \r\nz\r\nM 18.3125 54.390625 \r\nQ 18.3125 48.734375 21.84375 45.5625 \r\nQ 25.390625 42.390625 31.78125 42.390625 \r\nQ 38.140625 42.390625 41.71875 45.5625 \r\nQ 45.3125 48.734375 45.3125 54.390625 \r\nQ 45.3125 60.0625 41.71875 63.234375 \r\nQ 38.140625 66.40625 31.78125 66.40625 \r\nQ 25.390625 66.40625 21.84375 63.234375 \r\nQ 18.3125 60.0625 18.3125 54.390625 \r\nz\r\n\" id=\"DejaVuSans-38\"/>\r\n      </defs>\r\n      <g transform=\"translate(298.587345 254.356563)scale(0.1 -0.1)\">\r\n       <use xlink:href=\"#DejaVuSans-38\"/>\r\n       <use x=\"63.623047\" xlink:href=\"#DejaVuSans-30\"/>\r\n      </g>\r\n     </g>\r\n    </g>\r\n    <g id=\"xtick_6\">\r\n     <g id=\"line2d_6\">\r\n      <g>\r\n       <use style=\"stroke:#000000;stroke-width:0.8;\" x=\"366.437448\" xlink:href=\"#m39d7620f54\" y=\"239.758125\"/>\r\n      </g>\r\n     </g>\r\n     <g id=\"text_6\">\r\n      <!-- 100 -->\r\n      <defs>\r\n       <path d=\"M 12.40625 8.296875 \r\nL 28.515625 8.296875 \r\nL 28.515625 63.921875 \r\nL 10.984375 60.40625 \r\nL 10.984375 69.390625 \r\nL 28.421875 72.90625 \r\nL 38.28125 72.90625 \r\nL 38.28125 8.296875 \r\nL 54.390625 8.296875 \r\nL 54.390625 0 \r\nL 12.40625 0 \r\nz\r\n\" id=\"DejaVuSans-31\"/>\r\n      </defs>\r\n      <g transform=\"translate(356.893698 254.356563)scale(0.1 -0.1)\">\r\n       <use xlink:href=\"#DejaVuSans-31\"/>\r\n       <use x=\"63.623047\" xlink:href=\"#DejaVuSans-30\"/>\r\n       <use x=\"127.246094\" xlink:href=\"#DejaVuSans-30\"/>\r\n      </g>\r\n     </g>\r\n    </g>\r\n   </g>\r\n   <g id=\"matplotlib.axis_2\">\r\n    <g id=\"ytick_1\">\r\n     <g id=\"line2d_7\">\r\n      <defs>\r\n       <path d=\"M 0 0 \r\nL -3.5 0 \r\n\" id=\"m90e35ef493\" style=\"stroke:#000000;stroke-width:0.8;\"/>\r\n      </defs>\r\n      <g>\r\n       <use style=\"stroke:#000000;stroke-width:0.8;\" x=\"43.78125\" xlink:href=\"#m90e35ef493\" y=\"211.15777\"/>\r\n      </g>\r\n     </g>\r\n     <g id=\"text_7\">\r\n      <!-- 0.2 -->\r\n      <defs>\r\n       <path d=\"M 10.6875 12.40625 \r\nL 21 12.40625 \r\nL 21 0 \r\nL 10.6875 0 \r\nz\r\n\" id=\"DejaVuSans-2e\"/>\r\n      </defs>\r\n      <g transform=\"translate(20.878125 214.956989)scale(0.1 -0.1)\">\r\n       <use xlink:href=\"#DejaVuSans-30\"/>\r\n       <use x=\"63.623047\" xlink:href=\"#DejaVuSans-2e\"/>\r\n       <use x=\"95.410156\" xlink:href=\"#DejaVuSans-32\"/>\r\n      </g>\r\n     </g>\r\n    </g>\r\n    <g id=\"ytick_2\">\r\n     <g id=\"line2d_8\">\r\n      <g>\r\n       <use style=\"stroke:#000000;stroke-width:0.8;\" x=\"43.78125\" xlink:href=\"#m90e35ef493\" y=\"163.947859\"/>\r\n      </g>\r\n     </g>\r\n     <g id=\"text_8\">\r\n      <!-- 0.4 -->\r\n      <g transform=\"translate(20.878125 167.747078)scale(0.1 -0.1)\">\r\n       <use xlink:href=\"#DejaVuSans-30\"/>\r\n       <use x=\"63.623047\" xlink:href=\"#DejaVuSans-2e\"/>\r\n       <use x=\"95.410156\" xlink:href=\"#DejaVuSans-34\"/>\r\n      </g>\r\n     </g>\r\n    </g>\r\n    <g id=\"ytick_3\">\r\n     <g id=\"line2d_9\">\r\n      <g>\r\n       <use style=\"stroke:#000000;stroke-width:0.8;\" x=\"43.78125\" xlink:href=\"#m90e35ef493\" y=\"116.737948\"/>\r\n      </g>\r\n     </g>\r\n     <g id=\"text_9\">\r\n      <!-- 0.6 -->\r\n      <g transform=\"translate(20.878125 120.537166)scale(0.1 -0.1)\">\r\n       <use xlink:href=\"#DejaVuSans-30\"/>\r\n       <use x=\"63.623047\" xlink:href=\"#DejaVuSans-2e\"/>\r\n       <use x=\"95.410156\" xlink:href=\"#DejaVuSans-36\"/>\r\n      </g>\r\n     </g>\r\n    </g>\r\n    <g id=\"ytick_4\">\r\n     <g id=\"line2d_10\">\r\n      <g>\r\n       <use style=\"stroke:#000000;stroke-width:0.8;\" x=\"43.78125\" xlink:href=\"#m90e35ef493\" y=\"69.528036\"/>\r\n      </g>\r\n     </g>\r\n     <g id=\"text_10\">\r\n      <!-- 0.8 -->\r\n      <g transform=\"translate(20.878125 73.327255)scale(0.1 -0.1)\">\r\n       <use xlink:href=\"#DejaVuSans-30\"/>\r\n       <use x=\"63.623047\" xlink:href=\"#DejaVuSans-2e\"/>\r\n       <use x=\"95.410156\" xlink:href=\"#DejaVuSans-38\"/>\r\n      </g>\r\n     </g>\r\n    </g>\r\n    <g id=\"ytick_5\">\r\n     <g id=\"line2d_11\">\r\n      <g>\r\n       <use style=\"stroke:#000000;stroke-width:0.8;\" x=\"43.78125\" xlink:href=\"#m90e35ef493\" y=\"22.318125\"/>\r\n      </g>\r\n     </g>\r\n     <g id=\"text_11\">\r\n      <!-- 1.0 -->\r\n      <g transform=\"translate(20.878125 26.117344)scale(0.1 -0.1)\">\r\n       <use xlink:href=\"#DejaVuSans-31\"/>\r\n       <use x=\"63.623047\" xlink:href=\"#DejaVuSans-2e\"/>\r\n       <use x=\"95.410156\" xlink:href=\"#DejaVuSans-30\"/>\r\n      </g>\r\n     </g>\r\n    </g>\r\n    <g id=\"text_12\">\r\n     <!-- Accuracy -->\r\n     <defs>\r\n      <path d=\"M 34.1875 63.1875 \r\nL 20.796875 26.90625 \r\nL 47.609375 26.90625 \r\nz\r\nM 28.609375 72.90625 \r\nL 39.796875 72.90625 \r\nL 67.578125 0 \r\nL 57.328125 0 \r\nL 50.6875 18.703125 \r\nL 17.828125 18.703125 \r\nL 11.1875 0 \r\nL 0.78125 0 \r\nz\r\n\" id=\"DejaVuSans-41\"/>\r\n      <path d=\"M 48.78125 52.59375 \r\nL 48.78125 44.1875 \r\nQ 44.96875 46.296875 41.140625 47.34375 \r\nQ 37.3125 48.390625 33.40625 48.390625 \r\nQ 24.65625 48.390625 19.8125 42.84375 \r\nQ 14.984375 37.3125 14.984375 27.296875 \r\nQ 14.984375 17.28125 19.8125 11.734375 \r\nQ 24.65625 6.203125 33.40625 6.203125 \r\nQ 37.3125 6.203125 41.140625 7.25 \r\nQ 44.96875 8.296875 48.78125 10.40625 \r\nL 48.78125 2.09375 \r\nQ 45.015625 0.34375 40.984375 -0.53125 \r\nQ 36.96875 -1.421875 32.421875 -1.421875 \r\nQ 20.0625 -1.421875 12.78125 6.34375 \r\nQ 5.515625 14.109375 5.515625 27.296875 \r\nQ 5.515625 40.671875 12.859375 48.328125 \r\nQ 20.21875 56 33.015625 56 \r\nQ 37.15625 56 41.109375 55.140625 \r\nQ 45.0625 54.296875 48.78125 52.59375 \r\nz\r\n\" id=\"DejaVuSans-63\"/>\r\n      <path d=\"M 8.5 21.578125 \r\nL 8.5 54.6875 \r\nL 17.484375 54.6875 \r\nL 17.484375 21.921875 \r\nQ 17.484375 14.15625 20.5 10.265625 \r\nQ 23.53125 6.390625 29.59375 6.390625 \r\nQ 36.859375 6.390625 41.078125 11.03125 \r\nQ 45.3125 15.671875 45.3125 23.6875 \r\nL 45.3125 54.6875 \r\nL 54.296875 54.6875 \r\nL 54.296875 0 \r\nL 45.3125 0 \r\nL 45.3125 8.40625 \r\nQ 42.046875 3.421875 37.71875 1 \r\nQ 33.40625 -1.421875 27.6875 -1.421875 \r\nQ 18.265625 -1.421875 13.375 4.4375 \r\nQ 8.5 10.296875 8.5 21.578125 \r\nz\r\nM 31.109375 56 \r\nz\r\n\" id=\"DejaVuSans-75\"/>\r\n      <path d=\"M 41.109375 46.296875 \r\nQ 39.59375 47.171875 37.8125 47.578125 \r\nQ 36.03125 48 33.890625 48 \r\nQ 26.265625 48 22.1875 43.046875 \r\nQ 18.109375 38.09375 18.109375 28.8125 \r\nL 18.109375 0 \r\nL 9.078125 0 \r\nL 9.078125 54.6875 \r\nL 18.109375 54.6875 \r\nL 18.109375 46.1875 \r\nQ 20.953125 51.171875 25.484375 53.578125 \r\nQ 30.03125 56 36.53125 56 \r\nQ 37.453125 56 38.578125 55.875 \r\nQ 39.703125 55.765625 41.0625 55.515625 \r\nz\r\n\" id=\"DejaVuSans-72\"/>\r\n      <path d=\"M 34.28125 27.484375 \r\nQ 23.390625 27.484375 19.1875 25 \r\nQ 14.984375 22.515625 14.984375 16.5 \r\nQ 14.984375 11.71875 18.140625 8.90625 \r\nQ 21.296875 6.109375 26.703125 6.109375 \r\nQ 34.1875 6.109375 38.703125 11.40625 \r\nQ 43.21875 16.703125 43.21875 25.484375 \r\nL 43.21875 27.484375 \r\nz\r\nM 52.203125 31.203125 \r\nL 52.203125 0 \r\nL 43.21875 0 \r\nL 43.21875 8.296875 \r\nQ 40.140625 3.328125 35.546875 0.953125 \r\nQ 30.953125 -1.421875 24.3125 -1.421875 \r\nQ 15.921875 -1.421875 10.953125 3.296875 \r\nQ 6 8.015625 6 15.921875 \r\nQ 6 25.140625 12.171875 29.828125 \r\nQ 18.359375 34.515625 30.609375 34.515625 \r\nL 43.21875 34.515625 \r\nL 43.21875 35.40625 \r\nQ 43.21875 41.609375 39.140625 45 \r\nQ 35.0625 48.390625 27.6875 48.390625 \r\nQ 23 48.390625 18.546875 47.265625 \r\nQ 14.109375 46.140625 10.015625 43.890625 \r\nL 10.015625 52.203125 \r\nQ 14.9375 54.109375 19.578125 55.046875 \r\nQ 24.21875 56 28.609375 56 \r\nQ 40.484375 56 46.34375 49.84375 \r\nQ 52.203125 43.703125 52.203125 31.203125 \r\nz\r\n\" id=\"DejaVuSans-61\"/>\r\n      <path d=\"M 32.171875 -5.078125 \r\nQ 28.375 -14.84375 24.75 -17.8125 \r\nQ 21.140625 -20.796875 15.09375 -20.796875 \r\nL 7.90625 -20.796875 \r\nL 7.90625 -13.28125 \r\nL 13.1875 -13.28125 \r\nQ 16.890625 -13.28125 18.9375 -11.515625 \r\nQ 21 -9.765625 23.484375 -3.21875 \r\nL 25.09375 0.875 \r\nL 2.984375 54.6875 \r\nL 12.5 54.6875 \r\nL 29.59375 11.921875 \r\nL 46.6875 54.6875 \r\nL 56.203125 54.6875 \r\nz\r\n\" id=\"DejaVuSans-79\"/>\r\n     </defs>\r\n     <g transform=\"translate(14.798438 153.952969)rotate(-90)scale(0.1 -0.1)\">\r\n      <use xlink:href=\"#DejaVuSans-41\"/>\r\n      <use x=\"68.392578\" xlink:href=\"#DejaVuSans-63\"/>\r\n      <use x=\"123.373047\" xlink:href=\"#DejaVuSans-63\"/>\r\n      <use x=\"178.353516\" xlink:href=\"#DejaVuSans-75\"/>\r\n      <use x=\"241.732422\" xlink:href=\"#DejaVuSans-72\"/>\r\n      <use x=\"282.845703\" xlink:href=\"#DejaVuSans-61\"/>\r\n      <use x=\"344.125\" xlink:href=\"#DejaVuSans-63\"/>\r\n      <use x=\"399.105469\" xlink:href=\"#DejaVuSans-79\"/>\r\n     </g>\r\n    </g>\r\n   </g>\r\n   <g id=\"line2d_12\">\r\n    <path clip-path=\"url(#p4962932b0d)\" d=\"M 58.999432 229.687661 \r\nL 62.073812 209.623449 \r\nL 65.148192 190.621457 \r\nL 68.222572 167.311565 \r\nL 71.296952 151.732295 \r\nL 74.371333 135.267839 \r\nL 77.445713 120.986841 \r\nL 80.520093 109.951522 \r\nL 83.594473 101.925842 \r\nL 86.668853 94.372252 \r\nL 89.743233 91.185584 \r\nL 92.817614 86.287556 \r\nL 95.891994 83.336936 \r\nL 98.966374 79.560141 \r\nL 102.040754 73.245815 \r\nL 105.115134 71.534456 \r\nL 108.189514 70.826311 \r\nL 111.263895 69.17396 \r\nL 114.338275 65.515192 \r\nL 117.412655 65.987291 \r\nL 120.487035 62.387537 \r\nL 123.561415 62.269515 \r\nL 126.635795 60.676181 \r\nL 129.710176 58.72877 \r\nL 132.784556 57.489506 \r\nL 135.858936 55.77815 \r\nL 138.933316 53.417654 \r\nL 142.007696 54.892961 \r\nL 145.082076 54.420865 \r\nL 148.156457 52.001358 \r\nL 151.230837 51.352221 \r\nL 154.305217 51.824317 \r\nL 157.379597 50.585062 \r\nL 160.453977 48.637651 \r\nL 163.528357 49.050739 \r\nL 166.602738 48.342591 \r\nL 169.677118 46.80827 \r\nL 172.751498 45.864067 \r\nL 175.825878 45.155919 \r\nL 178.900258 45.628015 \r\nL 181.974638 42.854439 \r\nL 185.049019 45.096908 \r\nL 188.123399 44.152711 \r\nL 191.197779 43.444563 \r\nL 194.272159 42.677401 \r\nL 197.346539 42.559376 \r\nL 200.420919 41.792212 \r\nL 203.4953 40.139866 \r\nL 206.56968 39.490729 \r\nL 209.64406 40.19888 \r\nL 212.71844 41.084064 \r\nL 215.79282 37.897395 \r\nL 218.8672 38.192455 \r\nL 221.941581 39.372705 \r\nL 225.015961 38.310486 \r\nL 228.090341 37.071222 \r\nL 231.164721 36.186036 \r\nL 234.239101 37.956409 \r\nL 237.313481 36.599121 \r\nL 240.387862 36.481099 \r\nL 243.462242 35.005789 \r\nL 246.536622 36.304061 \r\nL 249.611002 36.068008 \r\nL 252.685382 34.592702 \r\nL 255.759762 33.766529 \r\nL 258.834143 34.179617 \r\nL 261.908523 34.238628 \r\nL 264.982903 34.002578 \r\nL 268.057283 35.182822 \r\nL 271.131663 33.884554 \r\nL 274.206043 33.707515 \r\nL 277.280424 33.648504 \r\nL 280.354804 32.232208 \r\nL 283.429184 34.061589 \r\nL 286.503564 32.940356 \r\nL 289.577944 32.291219 \r\nL 292.652324 32.586285 \r\nL 295.726705 31.524057 \r\nL 298.801085 32.173194 \r\nL 301.875465 30.992948 \r\nL 304.949845 31.228997 \r\nL 308.024225 32.468258 \r\nL 311.098605 31.642085 \r\nL 314.172986 31.642085 \r\nL 317.247366 30.166772 \r\nL 320.321746 31.347022 \r\nL 323.396126 30.756898 \r\nL 326.470506 30.520849 \r\nL 329.544886 30.520846 \r\nL 332.619267 29.458624 \r\nL 335.693647 31.051956 \r\nL 338.768027 30.87492 \r\nL 341.842407 30.461835 \r\nL 344.916787 30.225786 \r\nL 347.991167 28.868498 \r\nL 351.065548 28.632449 \r\nL 354.139928 28.278372 \r\nL 357.214308 28.809487 \r\nL 360.288688 28.573435 \r\nL 363.363068 28.868501 \r\n\" style=\"fill:none;stroke:#1f77b4;stroke-linecap:square;stroke-width:1.5;\"/>\r\n   </g>\r\n   <g id=\"line2d_13\">\r\n    <path clip-path=\"url(#p4962932b0d)\" d=\"M 58.999432 218.947405 \r\nL 62.073812 194.87035 \r\nL 65.148192 171.265397 \r\nL 68.222572 150.965133 \r\nL 71.296952 134.913765 \r\nL 74.371333 120.986839 \r\nL 77.445713 113.669304 \r\nL 80.520093 107.295966 \r\nL 83.594473 99.270277 \r\nL 86.668853 94.549291 \r\nL 89.743233 91.244595 \r\nL 92.817614 89.3562 \r\nL 95.891994 87.703852 \r\nL 98.966374 85.815454 \r\nL 102.040754 84.635208 \r\nL 105.115134 81.330514 \r\nL 108.189514 78.970021 \r\nL 111.263895 78.733969 \r\nL 114.338275 77.081623 \r\nL 117.412655 75.901374 \r\nL 120.487035 74.485075 \r\nL 123.561415 73.068779 \r\nL 126.635795 72.59668 \r\nL 129.710176 72.360631 \r\nL 132.784556 72.124582 \r\nL 135.858936 71.65248 \r\nL 138.933316 71.65248 \r\nL 142.007696 70.708283 \r\nL 145.082076 70.000135 \r\nL 148.156457 70.000135 \r\nL 151.230837 68.583839 \r\nL 154.305217 68.34779 \r\nL 157.379597 69.291987 \r\nL 160.453977 68.11174 \r\nL 163.528357 68.11174 \r\nL 166.602738 66.931494 \r\nL 169.677118 65.751247 \r\nL 172.751498 65.043099 \r\nL 175.825878 65.279148 \r\nL 178.900258 65.751247 \r\nL 181.974638 65.279148 \r\nL 185.049019 65.987296 \r\nL 188.123399 64.570998 \r\nL 191.197779 65.043099 \r\nL 194.272159 64.571 \r\nL 197.346539 63.626797 \r\nL 200.420919 63.390751 \r\nL 203.4953 62.918652 \r\nL 206.56968 62.6826 \r\nL 209.64406 62.918649 \r\nL 212.71844 62.210499 \r\nL 215.79282 61.974446 \r\nL 218.8672 62.446548 \r\nL 221.941581 61.974449 \r\nL 225.015961 61.738397 \r\nL 228.090341 61.502348 \r\nL 231.164721 61.502348 \r\nL 234.239101 61.266298 \r\nL 237.313481 60.558151 \r\nL 240.387862 60.558151 \r\nL 243.462242 60.322101 \r\nL 246.536622 59.613953 \r\nL 249.611002 59.850003 \r\nL 252.685382 60.558151 \r\nL 255.759762 60.322101 \r\nL 258.834143 60.558151 \r\nL 261.908523 60.322101 \r\nL 264.982903 60.086052 \r\nL 268.057283 59.377904 \r\nL 271.131663 59.141855 \r\nL 274.206043 59.850003 \r\nL 277.280424 59.377904 \r\nL 280.354804 59.850003 \r\nL 283.429184 59.613953 \r\nL 286.503564 60.086052 \r\nL 289.577944 59.850003 \r\nL 292.652324 59.613953 \r\nL 295.726705 59.141855 \r\nL 298.801085 59.850003 \r\nL 301.875465 59.377901 \r\nL 304.949845 59.377904 \r\nL 308.024225 60.322101 \r\nL 311.098605 59.377901 \r\nL 314.172986 59.85 \r\nL 317.247366 59.61395 \r\nL 320.321746 59.613953 \r\nL 323.396126 58.905802 \r\nL 326.470506 59.613953 \r\nL 329.544886 59.377901 \r\nL 332.619267 59.613953 \r\nL 335.693647 58.905802 \r\nL 338.768027 59.377901 \r\nL 341.842407 58.905802 \r\nL 344.916787 59.141852 \r\nL 347.991167 59.141852 \r\nL 351.065548 59.141852 \r\nL 354.139928 58.905802 \r\nL 357.214308 58.433707 \r\nL 360.288688 58.905802 \r\nL 363.363068 58.433704 \r\n\" style=\"fill:none;stroke:#ff7f0e;stroke-linecap:square;stroke-width:1.5;\"/>\r\n   </g>\r\n   <g id=\"patch_3\">\r\n    <path d=\"M 43.78125 239.758125 \r\nL 43.78125 22.318125 \r\n\" style=\"fill:none;stroke:#000000;stroke-linecap:square;stroke-linejoin:miter;stroke-width:0.8;\"/>\r\n   </g>\r\n   <g id=\"patch_4\">\r\n    <path d=\"M 378.58125 239.758125 \r\nL 378.58125 22.318125 \r\n\" style=\"fill:none;stroke:#000000;stroke-linecap:square;stroke-linejoin:miter;stroke-width:0.8;\"/>\r\n   </g>\r\n   <g id=\"patch_5\">\r\n    <path d=\"M 43.78125 239.758125 \r\nL 378.58125 239.758125 \r\n\" style=\"fill:none;stroke:#000000;stroke-linecap:square;stroke-linejoin:miter;stroke-width:0.8;\"/>\r\n   </g>\r\n   <g id=\"patch_6\">\r\n    <path d=\"M 43.78125 22.318125 \r\nL 378.58125 22.318125 \r\n\" style=\"fill:none;stroke:#000000;stroke-linecap:square;stroke-linejoin:miter;stroke-width:0.8;\"/>\r\n   </g>\r\n   <g id=\"text_13\">\r\n    <!-- Training and Validation Accuracy -->\r\n    <defs>\r\n     <path d=\"M -0.296875 72.90625 \r\nL 61.375 72.90625 \r\nL 61.375 64.59375 \r\nL 35.5 64.59375 \r\nL 35.5 0 \r\nL 25.59375 0 \r\nL 25.59375 64.59375 \r\nL -0.296875 64.59375 \r\nz\r\n\" id=\"DejaVuSans-54\"/>\r\n     <path d=\"M 9.421875 54.6875 \r\nL 18.40625 54.6875 \r\nL 18.40625 0 \r\nL 9.421875 0 \r\nz\r\nM 9.421875 75.984375 \r\nL 18.40625 75.984375 \r\nL 18.40625 64.59375 \r\nL 9.421875 64.59375 \r\nz\r\n\" id=\"DejaVuSans-69\"/>\r\n     <path d=\"M 54.890625 33.015625 \r\nL 54.890625 0 \r\nL 45.90625 0 \r\nL 45.90625 32.71875 \r\nQ 45.90625 40.484375 42.875 44.328125 \r\nQ 39.84375 48.1875 33.796875 48.1875 \r\nQ 26.515625 48.1875 22.3125 43.546875 \r\nQ 18.109375 38.921875 18.109375 30.90625 \r\nL 18.109375 0 \r\nL 9.078125 0 \r\nL 9.078125 54.6875 \r\nL 18.109375 54.6875 \r\nL 18.109375 46.1875 \r\nQ 21.34375 51.125 25.703125 53.5625 \r\nQ 30.078125 56 35.796875 56 \r\nQ 45.21875 56 50.046875 50.171875 \r\nQ 54.890625 44.34375 54.890625 33.015625 \r\nz\r\n\" id=\"DejaVuSans-6e\"/>\r\n     <path d=\"M 45.40625 27.984375 \r\nQ 45.40625 37.75 41.375 43.109375 \r\nQ 37.359375 48.484375 30.078125 48.484375 \r\nQ 22.859375 48.484375 18.828125 43.109375 \r\nQ 14.796875 37.75 14.796875 27.984375 \r\nQ 14.796875 18.265625 18.828125 12.890625 \r\nQ 22.859375 7.515625 30.078125 7.515625 \r\nQ 37.359375 7.515625 41.375 12.890625 \r\nQ 45.40625 18.265625 45.40625 27.984375 \r\nz\r\nM 54.390625 6.78125 \r\nQ 54.390625 -7.171875 48.1875 -13.984375 \r\nQ 42 -20.796875 29.203125 -20.796875 \r\nQ 24.46875 -20.796875 20.265625 -20.09375 \r\nQ 16.0625 -19.390625 12.109375 -17.921875 \r\nL 12.109375 -9.1875 \r\nQ 16.0625 -11.328125 19.921875 -12.34375 \r\nQ 23.78125 -13.375 27.78125 -13.375 \r\nQ 36.625 -13.375 41.015625 -8.765625 \r\nQ 45.40625 -4.15625 45.40625 5.171875 \r\nL 45.40625 9.625 \r\nQ 42.625 4.78125 38.28125 2.390625 \r\nQ 33.9375 0 27.875 0 \r\nQ 17.828125 0 11.671875 7.65625 \r\nQ 5.515625 15.328125 5.515625 27.984375 \r\nQ 5.515625 40.671875 11.671875 48.328125 \r\nQ 17.828125 56 27.875 56 \r\nQ 33.9375 56 38.28125 53.609375 \r\nQ 42.625 51.21875 45.40625 46.390625 \r\nL 45.40625 54.6875 \r\nL 54.390625 54.6875 \r\nz\r\n\" id=\"DejaVuSans-67\"/>\r\n     <path id=\"DejaVuSans-20\"/>\r\n     <path d=\"M 45.40625 46.390625 \r\nL 45.40625 75.984375 \r\nL 54.390625 75.984375 \r\nL 54.390625 0 \r\nL 45.40625 0 \r\nL 45.40625 8.203125 \r\nQ 42.578125 3.328125 38.25 0.953125 \r\nQ 33.9375 -1.421875 27.875 -1.421875 \r\nQ 17.96875 -1.421875 11.734375 6.484375 \r\nQ 5.515625 14.40625 5.515625 27.296875 \r\nQ 5.515625 40.1875 11.734375 48.09375 \r\nQ 17.96875 56 27.875 56 \r\nQ 33.9375 56 38.25 53.625 \r\nQ 42.578125 51.265625 45.40625 46.390625 \r\nz\r\nM 14.796875 27.296875 \r\nQ 14.796875 17.390625 18.875 11.75 \r\nQ 22.953125 6.109375 30.078125 6.109375 \r\nQ 37.203125 6.109375 41.296875 11.75 \r\nQ 45.40625 17.390625 45.40625 27.296875 \r\nQ 45.40625 37.203125 41.296875 42.84375 \r\nQ 37.203125 48.484375 30.078125 48.484375 \r\nQ 22.953125 48.484375 18.875 42.84375 \r\nQ 14.796875 37.203125 14.796875 27.296875 \r\nz\r\n\" id=\"DejaVuSans-64\"/>\r\n     <path d=\"M 28.609375 0 \r\nL 0.78125 72.90625 \r\nL 11.078125 72.90625 \r\nL 34.1875 11.53125 \r\nL 57.328125 72.90625 \r\nL 67.578125 72.90625 \r\nL 39.796875 0 \r\nz\r\n\" id=\"DejaVuSans-56\"/>\r\n     <path d=\"M 9.421875 75.984375 \r\nL 18.40625 75.984375 \r\nL 18.40625 0 \r\nL 9.421875 0 \r\nz\r\n\" id=\"DejaVuSans-6c\"/>\r\n     <path d=\"M 18.3125 70.21875 \r\nL 18.3125 54.6875 \r\nL 36.8125 54.6875 \r\nL 36.8125 47.703125 \r\nL 18.3125 47.703125 \r\nL 18.3125 18.015625 \r\nQ 18.3125 11.328125 20.140625 9.421875 \r\nQ 21.96875 7.515625 27.59375 7.515625 \r\nL 36.8125 7.515625 \r\nL 36.8125 0 \r\nL 27.59375 0 \r\nQ 17.1875 0 13.234375 3.875 \r\nQ 9.28125 7.765625 9.28125 18.015625 \r\nL 9.28125 47.703125 \r\nL 2.6875 47.703125 \r\nL 2.6875 54.6875 \r\nL 9.28125 54.6875 \r\nL 9.28125 70.21875 \r\nz\r\n\" id=\"DejaVuSans-74\"/>\r\n     <path d=\"M 30.609375 48.390625 \r\nQ 23.390625 48.390625 19.1875 42.75 \r\nQ 14.984375 37.109375 14.984375 27.296875 \r\nQ 14.984375 17.484375 19.15625 11.84375 \r\nQ 23.34375 6.203125 30.609375 6.203125 \r\nQ 37.796875 6.203125 41.984375 11.859375 \r\nQ 46.1875 17.53125 46.1875 27.296875 \r\nQ 46.1875 37.015625 41.984375 42.703125 \r\nQ 37.796875 48.390625 30.609375 48.390625 \r\nz\r\nM 30.609375 56 \r\nQ 42.328125 56 49.015625 48.375 \r\nQ 55.71875 40.765625 55.71875 27.296875 \r\nQ 55.71875 13.875 49.015625 6.21875 \r\nQ 42.328125 -1.421875 30.609375 -1.421875 \r\nQ 18.84375 -1.421875 12.171875 6.21875 \r\nQ 5.515625 13.875 5.515625 27.296875 \r\nQ 5.515625 40.765625 12.171875 48.375 \r\nQ 18.84375 56 30.609375 56 \r\nz\r\n\" id=\"DejaVuSans-6f\"/>\r\n    </defs>\r\n    <g transform=\"translate(112.044375 16.318125)scale(0.12 -0.12)\">\r\n     <use xlink:href=\"#DejaVuSans-54\"/>\r\n     <use x=\"60.865234\" xlink:href=\"#DejaVuSans-72\"/>\r\n     <use x=\"101.978516\" xlink:href=\"#DejaVuSans-61\"/>\r\n     <use x=\"163.257812\" xlink:href=\"#DejaVuSans-69\"/>\r\n     <use x=\"191.041016\" xlink:href=\"#DejaVuSans-6e\"/>\r\n     <use x=\"254.419922\" xlink:href=\"#DejaVuSans-69\"/>\r\n     <use x=\"282.203125\" xlink:href=\"#DejaVuSans-6e\"/>\r\n     <use x=\"345.582031\" xlink:href=\"#DejaVuSans-67\"/>\r\n     <use x=\"409.058594\" xlink:href=\"#DejaVuSans-20\"/>\r\n     <use x=\"440.845703\" xlink:href=\"#DejaVuSans-61\"/>\r\n     <use x=\"502.125\" xlink:href=\"#DejaVuSans-6e\"/>\r\n     <use x=\"565.503906\" xlink:href=\"#DejaVuSans-64\"/>\r\n     <use x=\"628.980469\" xlink:href=\"#DejaVuSans-20\"/>\r\n     <use x=\"660.767578\" xlink:href=\"#DejaVuSans-56\"/>\r\n     <use x=\"729.066406\" xlink:href=\"#DejaVuSans-61\"/>\r\n     <use x=\"790.345703\" xlink:href=\"#DejaVuSans-6c\"/>\r\n     <use x=\"818.128906\" xlink:href=\"#DejaVuSans-69\"/>\r\n     <use x=\"845.912109\" xlink:href=\"#DejaVuSans-64\"/>\r\n     <use x=\"909.388672\" xlink:href=\"#DejaVuSans-61\"/>\r\n     <use x=\"970.667969\" xlink:href=\"#DejaVuSans-74\"/>\r\n     <use x=\"1009.876953\" xlink:href=\"#DejaVuSans-69\"/>\r\n     <use x=\"1037.660156\" xlink:href=\"#DejaVuSans-6f\"/>\r\n     <use x=\"1098.841797\" xlink:href=\"#DejaVuSans-6e\"/>\r\n     <use x=\"1162.220703\" xlink:href=\"#DejaVuSans-20\"/>\r\n     <use x=\"1194.007812\" xlink:href=\"#DejaVuSans-41\"/>\r\n     <use x=\"1262.400391\" xlink:href=\"#DejaVuSans-63\"/>\r\n     <use x=\"1317.380859\" xlink:href=\"#DejaVuSans-63\"/>\r\n     <use x=\"1372.361328\" xlink:href=\"#DejaVuSans-75\"/>\r\n     <use x=\"1435.740234\" xlink:href=\"#DejaVuSans-72\"/>\r\n     <use x=\"1476.853516\" xlink:href=\"#DejaVuSans-61\"/>\r\n     <use x=\"1538.132812\" xlink:href=\"#DejaVuSans-63\"/>\r\n     <use x=\"1593.113281\" xlink:href=\"#DejaVuSans-79\"/>\r\n    </g>\r\n   </g>\r\n   <g id=\"legend_1\">\r\n    <g id=\"patch_7\">\r\n     <path d=\"M 240.428125 234.758125 \r\nL 371.58125 234.758125 \r\nQ 373.58125 234.758125 373.58125 232.758125 \r\nL 373.58125 204.401875 \r\nQ 373.58125 202.401875 371.58125 202.401875 \r\nL 240.428125 202.401875 \r\nQ 238.428125 202.401875 238.428125 204.401875 \r\nL 238.428125 232.758125 \r\nQ 238.428125 234.758125 240.428125 234.758125 \r\nz\r\n\" style=\"fill:#ffffff;opacity:0.8;stroke:#cccccc;stroke-linejoin:miter;\"/>\r\n    </g>\r\n    <g id=\"line2d_14\">\r\n     <path d=\"M 242.428125 210.500313 \r\nL 262.428125 210.500313 \r\n\" style=\"fill:none;stroke:#1f77b4;stroke-linecap:square;stroke-width:1.5;\"/>\r\n    </g>\r\n    <g id=\"line2d_15\"/>\r\n    <g id=\"text_14\">\r\n     <!-- Training Accuracy -->\r\n     <g transform=\"translate(270.428125 214.000313)scale(0.1 -0.1)\">\r\n      <use xlink:href=\"#DejaVuSans-54\"/>\r\n      <use x=\"60.865234\" xlink:href=\"#DejaVuSans-72\"/>\r\n      <use x=\"101.978516\" xlink:href=\"#DejaVuSans-61\"/>\r\n      <use x=\"163.257812\" xlink:href=\"#DejaVuSans-69\"/>\r\n      <use x=\"191.041016\" xlink:href=\"#DejaVuSans-6e\"/>\r\n      <use x=\"254.419922\" xlink:href=\"#DejaVuSans-69\"/>\r\n      <use x=\"282.203125\" xlink:href=\"#DejaVuSans-6e\"/>\r\n      <use x=\"345.582031\" xlink:href=\"#DejaVuSans-67\"/>\r\n      <use x=\"409.058594\" xlink:href=\"#DejaVuSans-20\"/>\r\n      <use x=\"440.845703\" xlink:href=\"#DejaVuSans-41\"/>\r\n      <use x=\"509.238281\" xlink:href=\"#DejaVuSans-63\"/>\r\n      <use x=\"564.21875\" xlink:href=\"#DejaVuSans-63\"/>\r\n      <use x=\"619.199219\" xlink:href=\"#DejaVuSans-75\"/>\r\n      <use x=\"682.578125\" xlink:href=\"#DejaVuSans-72\"/>\r\n      <use x=\"723.691406\" xlink:href=\"#DejaVuSans-61\"/>\r\n      <use x=\"784.970703\" xlink:href=\"#DejaVuSans-63\"/>\r\n      <use x=\"839.951172\" xlink:href=\"#DejaVuSans-79\"/>\r\n     </g>\r\n    </g>\r\n    <g id=\"line2d_16\">\r\n     <path d=\"M 242.428125 225.178438 \r\nL 262.428125 225.178438 \r\n\" style=\"fill:none;stroke:#ff7f0e;stroke-linecap:square;stroke-width:1.5;\"/>\r\n    </g>\r\n    <g id=\"line2d_17\"/>\r\n    <g id=\"text_15\">\r\n     <!-- Validation Accuracy -->\r\n     <g transform=\"translate(270.428125 228.678438)scale(0.1 -0.1)\">\r\n      <use xlink:href=\"#DejaVuSans-56\"/>\r\n      <use x=\"68.298828\" xlink:href=\"#DejaVuSans-61\"/>\r\n      <use x=\"129.578125\" xlink:href=\"#DejaVuSans-6c\"/>\r\n      <use x=\"157.361328\" xlink:href=\"#DejaVuSans-69\"/>\r\n      <use x=\"185.144531\" xlink:href=\"#DejaVuSans-64\"/>\r\n      <use x=\"248.621094\" xlink:href=\"#DejaVuSans-61\"/>\r\n      <use x=\"309.900391\" xlink:href=\"#DejaVuSans-74\"/>\r\n      <use x=\"349.109375\" xlink:href=\"#DejaVuSans-69\"/>\r\n      <use x=\"376.892578\" xlink:href=\"#DejaVuSans-6f\"/>\r\n      <use x=\"438.074219\" xlink:href=\"#DejaVuSans-6e\"/>\r\n      <use x=\"501.453125\" xlink:href=\"#DejaVuSans-20\"/>\r\n      <use x=\"533.240234\" xlink:href=\"#DejaVuSans-41\"/>\r\n      <use x=\"601.632812\" xlink:href=\"#DejaVuSans-63\"/>\r\n      <use x=\"656.613281\" xlink:href=\"#DejaVuSans-63\"/>\r\n      <use x=\"711.59375\" xlink:href=\"#DejaVuSans-75\"/>\r\n      <use x=\"774.972656\" xlink:href=\"#DejaVuSans-72\"/>\r\n      <use x=\"816.085938\" xlink:href=\"#DejaVuSans-61\"/>\r\n      <use x=\"877.365234\" xlink:href=\"#DejaVuSans-63\"/>\r\n      <use x=\"932.345703\" xlink:href=\"#DejaVuSans-79\"/>\r\n     </g>\r\n    </g>\r\n   </g>\r\n  </g>\r\n </g>\r\n <defs>\r\n  <clipPath id=\"p4962932b0d\">\r\n   <rect height=\"217.44\" width=\"334.8\" x=\"43.78125\" y=\"22.318125\"/>\r\n  </clipPath>\r\n </defs>\r\n</svg>\r\n",
            "image/png": "[encoded data removed]"
          },
          "metadata": {
            "needs_background": "light"
          }
        }
      ]
    },
    {
      "cell_type": "code",
      "metadata": {
        "id": "ftCYvBkKZmGa"
      },
      "source": [
        "# plot graph of cross-validated losses\n",
        "loss = np.mean(history_map['loss'], axis=0)\n",
        "val_loss = np.mean(history_map['val_loss'], axis=0)\n",
        "\n",
        "plt.figure(2)\n",
        "plt.plot(loss, label='Training Loss')\n",
        "plt.plot(val_loss, label='Validation Loss')\n",
        "plt.legend(loc='upper right')\n",
        "plt.ylabel('Cross Entropy')\n",
        "#plt.ylim([0,1.0])\n",
        "plt.title('Training and Validation Loss')\n",
        "plt.xlabel('epoch')\n",
        "plt.show()"
      ],
      "execution_count": 28,
      "outputs": [
        {
          "output_type": "display_data",
          "data": {
            "text/plain": "<Figure size 432x288 with 1 Axes>",
            "image/svg+xml": "<?xml version=\"1.0\" encoding=\"utf-8\" standalone=\"no\"?>\r\n<!DOCTYPE svg PUBLIC \"-//W3C//DTD SVG 1.1//EN\"\r\n  \"http://www.w3.org/Graphics/SVG/1.1/DTD/svg11.dtd\">\r\n<!-- Created with matplotlib (http://matplotlib.org/) -->\r\n<svg height=\"277.314375pt\" version=\"1.1\" viewBox=\"0 0 389.28125 277.314375\" width=\"389.28125pt\" xmlns=\"http://www.w3.org/2000/svg\" xmlns:xlink=\"http://www.w3.org/1999/xlink\">\r\n <defs>\r\n  <style type=\"text/css\">\r\n*{stroke-linecap:butt;stroke-linejoin:round;}\r\n  </style>\r\n </defs>\r\n <g id=\"figure_1\">\r\n  <g id=\"patch_1\">\r\n   <path d=\"M 0 277.314375 \r\nL 389.28125 277.314375 \r\nL 389.28125 0 \r\nL 0 0 \r\nz\r\n\" style=\"fill:none;\"/>\r\n  </g>\r\n  <g id=\"axes_1\">\r\n   <g id=\"patch_2\">\r\n    <path d=\"M 43.78125 239.758125 \r\nL 378.58125 239.758125 \r\nL 378.58125 22.318125 \r\nL 43.78125 22.318125 \r\nz\r\n\" style=\"fill:#ffffff;\"/>\r\n   </g>\r\n   <g id=\"matplotlib.axis_1\">\r\n    <g id=\"xtick_1\">\r\n     <g id=\"line2d_1\">\r\n      <defs>\r\n       <path d=\"M 0 0 \r\nL 0 3.5 \r\n\" id=\"m8e5bed55fc\" style=\"stroke:#000000;stroke-width:0.8;\"/>\r\n      </defs>\r\n      <g>\r\n       <use style=\"stroke:#000000;stroke-width:0.8;\" x=\"58.999432\" xlink:href=\"#m8e5bed55fc\" y=\"239.758125\"/>\r\n      </g>\r\n     </g>\r\n     <g id=\"text_1\">\r\n      <!-- 0 -->\r\n      <defs>\r\n       <path d=\"M 31.78125 66.40625 \r\nQ 24.171875 66.40625 20.328125 58.90625 \r\nQ 16.5 51.421875 16.5 36.375 \r\nQ 16.5 21.390625 20.328125 13.890625 \r\nQ 24.171875 6.390625 31.78125 6.390625 \r\nQ 39.453125 6.390625 43.28125 13.890625 \r\nQ 47.125 21.390625 47.125 36.375 \r\nQ 47.125 51.421875 43.28125 58.90625 \r\nQ 39.453125 66.40625 31.78125 66.40625 \r\nz\r\nM 31.78125 74.21875 \r\nQ 44.046875 74.21875 50.515625 64.515625 \r\nQ 56.984375 54.828125 56.984375 36.375 \r\nQ 56.984375 17.96875 50.515625 8.265625 \r\nQ 44.046875 -1.421875 31.78125 -1.421875 \r\nQ 19.53125 -1.421875 13.0625 8.265625 \r\nQ 6.59375 17.96875 6.59375 36.375 \r\nQ 6.59375 54.828125 13.0625 64.515625 \r\nQ 19.53125 74.21875 31.78125 74.21875 \r\nz\r\n\" id=\"DejaVuSans-30\"/>\r\n      </defs>\r\n      <g transform=\"translate(55.818182 254.356562)scale(0.1 -0.1)\">\r\n       <use xlink:href=\"#DejaVuSans-30\"/>\r\n      </g>\r\n     </g>\r\n    </g>\r\n    <g id=\"xtick_2\">\r\n     <g id=\"line2d_2\">\r\n      <g>\r\n       <use style=\"stroke:#000000;stroke-width:0.8;\" x=\"120.487035\" xlink:href=\"#m8e5bed55fc\" y=\"239.758125\"/>\r\n      </g>\r\n     </g>\r\n     <g id=\"text_2\">\r\n      <!-- 20 -->\r\n      <defs>\r\n       <path d=\"M 19.1875 8.296875 \r\nL 53.609375 8.296875 \r\nL 53.609375 0 \r\nL 7.328125 0 \r\nL 7.328125 8.296875 \r\nQ 12.9375 14.109375 22.625 23.890625 \r\nQ 32.328125 33.6875 34.8125 36.53125 \r\nQ 39.546875 41.84375 41.421875 45.53125 \r\nQ 43.3125 49.21875 43.3125 52.78125 \r\nQ 43.3125 58.59375 39.234375 62.25 \r\nQ 35.15625 65.921875 28.609375 65.921875 \r\nQ 23.96875 65.921875 18.8125 64.3125 \r\nQ 13.671875 62.703125 7.8125 59.421875 \r\nL 7.8125 69.390625 \r\nQ 13.765625 71.78125 18.9375 73 \r\nQ 24.125 74.21875 28.421875 74.21875 \r\nQ 39.75 74.21875 46.484375 68.546875 \r\nQ 53.21875 62.890625 53.21875 53.421875 \r\nQ 53.21875 48.921875 51.53125 44.890625 \r\nQ 49.859375 40.875 45.40625 35.40625 \r\nQ 44.1875 33.984375 37.640625 27.21875 \r\nQ 31.109375 20.453125 19.1875 8.296875 \r\nz\r\n\" id=\"DejaVuSans-32\"/>\r\n      </defs>\r\n      <g transform=\"translate(114.124535 254.356562)scale(0.1 -0.1)\">\r\n       <use xlink:href=\"#DejaVuSans-32\"/>\r\n       <use x=\"63.623047\" xlink:href=\"#DejaVuSans-30\"/>\r\n      </g>\r\n     </g>\r\n    </g>\r\n    <g id=\"xtick_3\">\r\n     <g id=\"line2d_3\">\r\n      <g>\r\n       <use style=\"stroke:#000000;stroke-width:0.8;\" x=\"181.974638\" xlink:href=\"#m8e5bed55fc\" y=\"239.758125\"/>\r\n      </g>\r\n     </g>\r\n     <g id=\"text_3\">\r\n      <!-- 40 -->\r\n      <defs>\r\n       <path d=\"M 37.796875 64.3125 \r\nL 12.890625 25.390625 \r\nL 37.796875 25.390625 \r\nz\r\nM 35.203125 72.90625 \r\nL 47.609375 72.90625 \r\nL 47.609375 25.390625 \r\nL 58.015625 25.390625 \r\nL 58.015625 17.1875 \r\nL 47.609375 17.1875 \r\nL 47.609375 0 \r\nL 37.796875 0 \r\nL 37.796875 17.1875 \r\nL 4.890625 17.1875 \r\nL 4.890625 26.703125 \r\nz\r\n\" id=\"DejaVuSans-34\"/>\r\n      </defs>\r\n      <g transform=\"translate(175.612138 254.356562)scale(0.1 -0.1)\">\r\n       <use xlink:href=\"#DejaVuSans-34\"/>\r\n       <use x=\"63.623047\" xlink:href=\"#DejaVuSans-30\"/>\r\n      </g>\r\n     </g>\r\n    </g>\r\n    <g id=\"xtick_4\">\r\n     <g id=\"line2d_4\">\r\n      <g>\r\n       <use style=\"stroke:#000000;stroke-width:0.8;\" x=\"243.462242\" xlink:href=\"#m8e5bed55fc\" y=\"239.758125\"/>\r\n      </g>\r\n     </g>\r\n     <g id=\"text_4\">\r\n      <!-- 60 -->\r\n      <defs>\r\n       <path d=\"M 33.015625 40.375 \r\nQ 26.375 40.375 22.484375 35.828125 \r\nQ 18.609375 31.296875 18.609375 23.390625 \r\nQ 18.609375 15.53125 22.484375 10.953125 \r\nQ 26.375 6.390625 33.015625 6.390625 \r\nQ 39.65625 6.390625 43.53125 10.953125 \r\nQ 47.40625 15.53125 47.40625 23.390625 \r\nQ 47.40625 31.296875 43.53125 35.828125 \r\nQ 39.65625 40.375 33.015625 40.375 \r\nz\r\nM 52.59375 71.296875 \r\nL 52.59375 62.3125 \r\nQ 48.875 64.0625 45.09375 64.984375 \r\nQ 41.3125 65.921875 37.59375 65.921875 \r\nQ 27.828125 65.921875 22.671875 59.328125 \r\nQ 17.53125 52.734375 16.796875 39.40625 \r\nQ 19.671875 43.65625 24.015625 45.921875 \r\nQ 28.375 48.1875 33.59375 48.1875 \r\nQ 44.578125 48.1875 50.953125 41.515625 \r\nQ 57.328125 34.859375 57.328125 23.390625 \r\nQ 57.328125 12.15625 50.6875 5.359375 \r\nQ 44.046875 -1.421875 33.015625 -1.421875 \r\nQ 20.359375 -1.421875 13.671875 8.265625 \r\nQ 6.984375 17.96875 6.984375 36.375 \r\nQ 6.984375 53.65625 15.1875 63.9375 \r\nQ 23.390625 74.21875 37.203125 74.21875 \r\nQ 40.921875 74.21875 44.703125 73.484375 \r\nQ 48.484375 72.75 52.59375 71.296875 \r\nz\r\n\" id=\"DejaVuSans-36\"/>\r\n      </defs>\r\n      <g transform=\"translate(237.099742 254.356562)scale(0.1 -0.1)\">\r\n       <use xlink:href=\"#DejaVuSans-36\"/>\r\n       <use x=\"63.623047\" xlink:href=\"#DejaVuSans-30\"/>\r\n      </g>\r\n     </g>\r\n    </g>\r\n    <g id=\"xtick_5\">\r\n     <g id=\"line2d_5\">\r\n      <g>\r\n       <use style=\"stroke:#000000;stroke-width:0.8;\" x=\"304.949845\" xlink:href=\"#m8e5bed55fc\" y=\"239.758125\"/>\r\n      </g>\r\n     </g>\r\n     <g id=\"text_5\">\r\n      <!-- 80 -->\r\n      <defs>\r\n       <path d=\"M 31.78125 34.625 \r\nQ 24.75 34.625 20.71875 30.859375 \r\nQ 16.703125 27.09375 16.703125 20.515625 \r\nQ 16.703125 13.921875 20.71875 10.15625 \r\nQ 24.75 6.390625 31.78125 6.390625 \r\nQ 38.8125 6.390625 42.859375 10.171875 \r\nQ 46.921875 13.96875 46.921875 20.515625 \r\nQ 46.921875 27.09375 42.890625 30.859375 \r\nQ 38.875 34.625 31.78125 34.625 \r\nz\r\nM 21.921875 38.8125 \r\nQ 15.578125 40.375 12.03125 44.71875 \r\nQ 8.5 49.078125 8.5 55.328125 \r\nQ 8.5 64.0625 14.71875 69.140625 \r\nQ 20.953125 74.21875 31.78125 74.21875 \r\nQ 42.671875 74.21875 48.875 69.140625 \r\nQ 55.078125 64.0625 55.078125 55.328125 \r\nQ 55.078125 49.078125 51.53125 44.71875 \r\nQ 48 40.375 41.703125 38.8125 \r\nQ 48.828125 37.15625 52.796875 32.3125 \r\nQ 56.78125 27.484375 56.78125 20.515625 \r\nQ 56.78125 9.90625 50.3125 4.234375 \r\nQ 43.84375 -1.421875 31.78125 -1.421875 \r\nQ 19.734375 -1.421875 13.25 4.234375 \r\nQ 6.78125 9.90625 6.78125 20.515625 \r\nQ 6.78125 27.484375 10.78125 32.3125 \r\nQ 14.796875 37.15625 21.921875 38.8125 \r\nz\r\nM 18.3125 54.390625 \r\nQ 18.3125 48.734375 21.84375 45.5625 \r\nQ 25.390625 42.390625 31.78125 42.390625 \r\nQ 38.140625 42.390625 41.71875 45.5625 \r\nQ 45.3125 48.734375 45.3125 54.390625 \r\nQ 45.3125 60.0625 41.71875 63.234375 \r\nQ 38.140625 66.40625 31.78125 66.40625 \r\nQ 25.390625 66.40625 21.84375 63.234375 \r\nQ 18.3125 60.0625 18.3125 54.390625 \r\nz\r\n\" id=\"DejaVuSans-38\"/>\r\n      </defs>\r\n      <g transform=\"translate(298.587345 254.356562)scale(0.1 -0.1)\">\r\n       <use xlink:href=\"#DejaVuSans-38\"/>\r\n       <use x=\"63.623047\" xlink:href=\"#DejaVuSans-30\"/>\r\n      </g>\r\n     </g>\r\n    </g>\r\n    <g id=\"xtick_6\">\r\n     <g id=\"line2d_6\">\r\n      <g>\r\n       <use style=\"stroke:#000000;stroke-width:0.8;\" x=\"366.437448\" xlink:href=\"#m8e5bed55fc\" y=\"239.758125\"/>\r\n      </g>\r\n     </g>\r\n     <g id=\"text_6\">\r\n      <!-- 100 -->\r\n      <defs>\r\n       <path d=\"M 12.40625 8.296875 \r\nL 28.515625 8.296875 \r\nL 28.515625 63.921875 \r\nL 10.984375 60.40625 \r\nL 10.984375 69.390625 \r\nL 28.421875 72.90625 \r\nL 38.28125 72.90625 \r\nL 38.28125 8.296875 \r\nL 54.390625 8.296875 \r\nL 54.390625 0 \r\nL 12.40625 0 \r\nz\r\n\" id=\"DejaVuSans-31\"/>\r\n      </defs>\r\n      <g transform=\"translate(356.893698 254.356562)scale(0.1 -0.1)\">\r\n       <use xlink:href=\"#DejaVuSans-31\"/>\r\n       <use x=\"63.623047\" xlink:href=\"#DejaVuSans-30\"/>\r\n       <use x=\"127.246094\" xlink:href=\"#DejaVuSans-30\"/>\r\n      </g>\r\n     </g>\r\n    </g>\r\n    <g id=\"text_7\">\r\n     <!-- epoch -->\r\n     <defs>\r\n      <path d=\"M 56.203125 29.59375 \r\nL 56.203125 25.203125 \r\nL 14.890625 25.203125 \r\nQ 15.484375 15.921875 20.484375 11.0625 \r\nQ 25.484375 6.203125 34.421875 6.203125 \r\nQ 39.59375 6.203125 44.453125 7.46875 \r\nQ 49.3125 8.734375 54.109375 11.28125 \r\nL 54.109375 2.78125 \r\nQ 49.265625 0.734375 44.1875 -0.34375 \r\nQ 39.109375 -1.421875 33.890625 -1.421875 \r\nQ 20.796875 -1.421875 13.15625 6.1875 \r\nQ 5.515625 13.8125 5.515625 26.8125 \r\nQ 5.515625 40.234375 12.765625 48.109375 \r\nQ 20.015625 56 32.328125 56 \r\nQ 43.359375 56 49.78125 48.890625 \r\nQ 56.203125 41.796875 56.203125 29.59375 \r\nz\r\nM 47.21875 32.234375 \r\nQ 47.125 39.59375 43.09375 43.984375 \r\nQ 39.0625 48.390625 32.421875 48.390625 \r\nQ 24.90625 48.390625 20.390625 44.140625 \r\nQ 15.875 39.890625 15.1875 32.171875 \r\nz\r\n\" id=\"DejaVuSans-65\"/>\r\n      <path d=\"M 18.109375 8.203125 \r\nL 18.109375 -20.796875 \r\nL 9.078125 -20.796875 \r\nL 9.078125 54.6875 \r\nL 18.109375 54.6875 \r\nL 18.109375 46.390625 \r\nQ 20.953125 51.265625 25.265625 53.625 \r\nQ 29.59375 56 35.59375 56 \r\nQ 45.5625 56 51.78125 48.09375 \r\nQ 58.015625 40.1875 58.015625 27.296875 \r\nQ 58.015625 14.40625 51.78125 6.484375 \r\nQ 45.5625 -1.421875 35.59375 -1.421875 \r\nQ 29.59375 -1.421875 25.265625 0.953125 \r\nQ 20.953125 3.328125 18.109375 8.203125 \r\nz\r\nM 48.6875 27.296875 \r\nQ 48.6875 37.203125 44.609375 42.84375 \r\nQ 40.53125 48.484375 33.40625 48.484375 \r\nQ 26.265625 48.484375 22.1875 42.84375 \r\nQ 18.109375 37.203125 18.109375 27.296875 \r\nQ 18.109375 17.390625 22.1875 11.75 \r\nQ 26.265625 6.109375 33.40625 6.109375 \r\nQ 40.53125 6.109375 44.609375 11.75 \r\nQ 48.6875 17.390625 48.6875 27.296875 \r\nz\r\n\" id=\"DejaVuSans-70\"/>\r\n      <path d=\"M 30.609375 48.390625 \r\nQ 23.390625 48.390625 19.1875 42.75 \r\nQ 14.984375 37.109375 14.984375 27.296875 \r\nQ 14.984375 17.484375 19.15625 11.84375 \r\nQ 23.34375 6.203125 30.609375 6.203125 \r\nQ 37.796875 6.203125 41.984375 11.859375 \r\nQ 46.1875 17.53125 46.1875 27.296875 \r\nQ 46.1875 37.015625 41.984375 42.703125 \r\nQ 37.796875 48.390625 30.609375 48.390625 \r\nz\r\nM 30.609375 56 \r\nQ 42.328125 56 49.015625 48.375 \r\nQ 55.71875 40.765625 55.71875 27.296875 \r\nQ 55.71875 13.875 49.015625 6.21875 \r\nQ 42.328125 -1.421875 30.609375 -1.421875 \r\nQ 18.84375 -1.421875 12.171875 6.21875 \r\nQ 5.515625 13.875 5.515625 27.296875 \r\nQ 5.515625 40.765625 12.171875 48.375 \r\nQ 18.84375 56 30.609375 56 \r\nz\r\n\" id=\"DejaVuSans-6f\"/>\r\n      <path d=\"M 48.78125 52.59375 \r\nL 48.78125 44.1875 \r\nQ 44.96875 46.296875 41.140625 47.34375 \r\nQ 37.3125 48.390625 33.40625 48.390625 \r\nQ 24.65625 48.390625 19.8125 42.84375 \r\nQ 14.984375 37.3125 14.984375 27.296875 \r\nQ 14.984375 17.28125 19.8125 11.734375 \r\nQ 24.65625 6.203125 33.40625 6.203125 \r\nQ 37.3125 6.203125 41.140625 7.25 \r\nQ 44.96875 8.296875 48.78125 10.40625 \r\nL 48.78125 2.09375 \r\nQ 45.015625 0.34375 40.984375 -0.53125 \r\nQ 36.96875 -1.421875 32.421875 -1.421875 \r\nQ 20.0625 -1.421875 12.78125 6.34375 \r\nQ 5.515625 14.109375 5.515625 27.296875 \r\nQ 5.515625 40.671875 12.859375 48.328125 \r\nQ 20.21875 56 33.015625 56 \r\nQ 37.15625 56 41.109375 55.140625 \r\nQ 45.0625 54.296875 48.78125 52.59375 \r\nz\r\n\" id=\"DejaVuSans-63\"/>\r\n      <path d=\"M 54.890625 33.015625 \r\nL 54.890625 0 \r\nL 45.90625 0 \r\nL 45.90625 32.71875 \r\nQ 45.90625 40.484375 42.875 44.328125 \r\nQ 39.84375 48.1875 33.796875 48.1875 \r\nQ 26.515625 48.1875 22.3125 43.546875 \r\nQ 18.109375 38.921875 18.109375 30.90625 \r\nL 18.109375 0 \r\nL 9.078125 0 \r\nL 9.078125 75.984375 \r\nL 18.109375 75.984375 \r\nL 18.109375 46.1875 \r\nQ 21.34375 51.125 25.703125 53.5625 \r\nQ 30.078125 56 35.796875 56 \r\nQ 45.21875 56 50.046875 50.171875 \r\nQ 54.890625 44.34375 54.890625 33.015625 \r\nz\r\n\" id=\"DejaVuSans-68\"/>\r\n     </defs>\r\n     <g transform=\"translate(195.953125 268.034687)scale(0.1 -0.1)\">\r\n      <use xlink:href=\"#DejaVuSans-65\"/>\r\n      <use x=\"61.523438\" xlink:href=\"#DejaVuSans-70\"/>\r\n      <use x=\"125\" xlink:href=\"#DejaVuSans-6f\"/>\r\n      <use x=\"186.181641\" xlink:href=\"#DejaVuSans-63\"/>\r\n      <use x=\"241.162109\" xlink:href=\"#DejaVuSans-68\"/>\r\n     </g>\r\n    </g>\r\n   </g>\r\n   <g id=\"matplotlib.axis_2\">\r\n    <g id=\"ytick_1\">\r\n     <g id=\"line2d_7\">\r\n      <defs>\r\n       <path d=\"M 0 0 \r\nL -3.5 0 \r\n\" id=\"m239f5d1432\" style=\"stroke:#000000;stroke-width:0.8;\"/>\r\n      </defs>\r\n      <g>\r\n       <use style=\"stroke:#000000;stroke-width:0.8;\" x=\"43.78125\" xlink:href=\"#m239f5d1432\" y=\"201.36517\"/>\r\n      </g>\r\n     </g>\r\n     <g id=\"text_8\">\r\n      <!-- 0.5 -->\r\n      <defs>\r\n       <path d=\"M 10.6875 12.40625 \r\nL 21 12.40625 \r\nL 21 0 \r\nL 10.6875 0 \r\nz\r\n\" id=\"DejaVuSans-2e\"/>\r\n       <path d=\"M 10.796875 72.90625 \r\nL 49.515625 72.90625 \r\nL 49.515625 64.59375 \r\nL 19.828125 64.59375 \r\nL 19.828125 46.734375 \r\nQ 21.96875 47.46875 24.109375 47.828125 \r\nQ 26.265625 48.1875 28.421875 48.1875 \r\nQ 40.625 48.1875 47.75 41.5 \r\nQ 54.890625 34.8125 54.890625 23.390625 \r\nQ 54.890625 11.625 47.5625 5.09375 \r\nQ 40.234375 -1.421875 26.90625 -1.421875 \r\nQ 22.3125 -1.421875 17.546875 -0.640625 \r\nQ 12.796875 0.140625 7.71875 1.703125 \r\nL 7.71875 11.625 \r\nQ 12.109375 9.234375 16.796875 8.0625 \r\nQ 21.484375 6.890625 26.703125 6.890625 \r\nQ 35.15625 6.890625 40.078125 11.328125 \r\nQ 45.015625 15.765625 45.015625 23.390625 \r\nQ 45.015625 31 40.078125 35.4375 \r\nQ 35.15625 39.890625 26.703125 39.890625 \r\nQ 22.75 39.890625 18.8125 39.015625 \r\nQ 14.890625 38.140625 10.796875 36.28125 \r\nz\r\n\" id=\"DejaVuSans-35\"/>\r\n      </defs>\r\n      <g transform=\"translate(20.878125 205.164388)scale(0.1 -0.1)\">\r\n       <use xlink:href=\"#DejaVuSans-30\"/>\r\n       <use x=\"63.623047\" xlink:href=\"#DejaVuSans-2e\"/>\r\n       <use x=\"95.410156\" xlink:href=\"#DejaVuSans-35\"/>\r\n      </g>\r\n     </g>\r\n    </g>\r\n    <g id=\"ytick_2\">\r\n     <g id=\"line2d_8\">\r\n      <g>\r\n       <use style=\"stroke:#000000;stroke-width:0.8;\" x=\"43.78125\" xlink:href=\"#m239f5d1432\" y=\"161.664453\"/>\r\n      </g>\r\n     </g>\r\n     <g id=\"text_9\">\r\n      <!-- 1.0 -->\r\n      <g transform=\"translate(20.878125 165.463672)scale(0.1 -0.1)\">\r\n       <use xlink:href=\"#DejaVuSans-31\"/>\r\n       <use x=\"63.623047\" xlink:href=\"#DejaVuSans-2e\"/>\r\n       <use x=\"95.410156\" xlink:href=\"#DejaVuSans-30\"/>\r\n      </g>\r\n     </g>\r\n    </g>\r\n    <g id=\"ytick_3\">\r\n     <g id=\"line2d_9\">\r\n      <g>\r\n       <use style=\"stroke:#000000;stroke-width:0.8;\" x=\"43.78125\" xlink:href=\"#m239f5d1432\" y=\"121.963736\"/>\r\n      </g>\r\n     </g>\r\n     <g id=\"text_10\">\r\n      <!-- 1.5 -->\r\n      <g transform=\"translate(20.878125 125.762955)scale(0.1 -0.1)\">\r\n       <use xlink:href=\"#DejaVuSans-31\"/>\r\n       <use x=\"63.623047\" xlink:href=\"#DejaVuSans-2e\"/>\r\n       <use x=\"95.410156\" xlink:href=\"#DejaVuSans-35\"/>\r\n      </g>\r\n     </g>\r\n    </g>\r\n    <g id=\"ytick_4\">\r\n     <g id=\"line2d_10\">\r\n      <g>\r\n       <use style=\"stroke:#000000;stroke-width:0.8;\" x=\"43.78125\" xlink:href=\"#m239f5d1432\" y=\"82.26302\"/>\r\n      </g>\r\n     </g>\r\n     <g id=\"text_11\">\r\n      <!-- 2.0 -->\r\n      <g transform=\"translate(20.878125 86.062238)scale(0.1 -0.1)\">\r\n       <use xlink:href=\"#DejaVuSans-32\"/>\r\n       <use x=\"63.623047\" xlink:href=\"#DejaVuSans-2e\"/>\r\n       <use x=\"95.410156\" xlink:href=\"#DejaVuSans-30\"/>\r\n      </g>\r\n     </g>\r\n    </g>\r\n    <g id=\"ytick_5\">\r\n     <g id=\"line2d_11\">\r\n      <g>\r\n       <use style=\"stroke:#000000;stroke-width:0.8;\" x=\"43.78125\" xlink:href=\"#m239f5d1432\" y=\"42.562303\"/>\r\n      </g>\r\n     </g>\r\n     <g id=\"text_12\">\r\n      <!-- 2.5 -->\r\n      <g transform=\"translate(20.878125 46.361522)scale(0.1 -0.1)\">\r\n       <use xlink:href=\"#DejaVuSans-32\"/>\r\n       <use x=\"63.623047\" xlink:href=\"#DejaVuSans-2e\"/>\r\n       <use x=\"95.410156\" xlink:href=\"#DejaVuSans-35\"/>\r\n      </g>\r\n     </g>\r\n    </g>\r\n    <g id=\"text_13\">\r\n     <!-- Cross Entropy -->\r\n     <defs>\r\n      <path d=\"M 64.40625 67.28125 \r\nL 64.40625 56.890625 \r\nQ 59.421875 61.53125 53.78125 63.8125 \r\nQ 48.140625 66.109375 41.796875 66.109375 \r\nQ 29.296875 66.109375 22.65625 58.46875 \r\nQ 16.015625 50.828125 16.015625 36.375 \r\nQ 16.015625 21.96875 22.65625 14.328125 \r\nQ 29.296875 6.6875 41.796875 6.6875 \r\nQ 48.140625 6.6875 53.78125 8.984375 \r\nQ 59.421875 11.28125 64.40625 15.921875 \r\nL 64.40625 5.609375 \r\nQ 59.234375 2.09375 53.4375 0.328125 \r\nQ 47.65625 -1.421875 41.21875 -1.421875 \r\nQ 24.65625 -1.421875 15.125 8.703125 \r\nQ 5.609375 18.84375 5.609375 36.375 \r\nQ 5.609375 53.953125 15.125 64.078125 \r\nQ 24.65625 74.21875 41.21875 74.21875 \r\nQ 47.75 74.21875 53.53125 72.484375 \r\nQ 59.328125 70.75 64.40625 67.28125 \r\nz\r\n\" id=\"DejaVuSans-43\"/>\r\n      <path d=\"M 41.109375 46.296875 \r\nQ 39.59375 47.171875 37.8125 47.578125 \r\nQ 36.03125 48 33.890625 48 \r\nQ 26.265625 48 22.1875 43.046875 \r\nQ 18.109375 38.09375 18.109375 28.8125 \r\nL 18.109375 0 \r\nL 9.078125 0 \r\nL 9.078125 54.6875 \r\nL 18.109375 54.6875 \r\nL 18.109375 46.1875 \r\nQ 20.953125 51.171875 25.484375 53.578125 \r\nQ 30.03125 56 36.53125 56 \r\nQ 37.453125 56 38.578125 55.875 \r\nQ 39.703125 55.765625 41.0625 55.515625 \r\nz\r\n\" id=\"DejaVuSans-72\"/>\r\n      <path d=\"M 44.28125 53.078125 \r\nL 44.28125 44.578125 \r\nQ 40.484375 46.53125 36.375 47.5 \r\nQ 32.28125 48.484375 27.875 48.484375 \r\nQ 21.1875 48.484375 17.84375 46.4375 \r\nQ 14.5 44.390625 14.5 40.28125 \r\nQ 14.5 37.15625 16.890625 35.375 \r\nQ 19.28125 33.59375 26.515625 31.984375 \r\nL 29.59375 31.296875 \r\nQ 39.15625 29.25 43.1875 25.515625 \r\nQ 47.21875 21.78125 47.21875 15.09375 \r\nQ 47.21875 7.46875 41.1875 3.015625 \r\nQ 35.15625 -1.421875 24.609375 -1.421875 \r\nQ 20.21875 -1.421875 15.453125 -0.5625 \r\nQ 10.6875 0.296875 5.421875 2 \r\nL 5.421875 11.28125 \r\nQ 10.40625 8.6875 15.234375 7.390625 \r\nQ 20.0625 6.109375 24.8125 6.109375 \r\nQ 31.15625 6.109375 34.5625 8.28125 \r\nQ 37.984375 10.453125 37.984375 14.40625 \r\nQ 37.984375 18.0625 35.515625 20.015625 \r\nQ 33.0625 21.96875 24.703125 23.78125 \r\nL 21.578125 24.515625 \r\nQ 13.234375 26.265625 9.515625 29.90625 \r\nQ 5.8125 33.546875 5.8125 39.890625 \r\nQ 5.8125 47.609375 11.28125 51.796875 \r\nQ 16.75 56 26.8125 56 \r\nQ 31.78125 56 36.171875 55.265625 \r\nQ 40.578125 54.546875 44.28125 53.078125 \r\nz\r\n\" id=\"DejaVuSans-73\"/>\r\n      <path id=\"DejaVuSans-20\"/>\r\n      <path d=\"M 9.8125 72.90625 \r\nL 55.90625 72.90625 \r\nL 55.90625 64.59375 \r\nL 19.671875 64.59375 \r\nL 19.671875 43.015625 \r\nL 54.390625 43.015625 \r\nL 54.390625 34.71875 \r\nL 19.671875 34.71875 \r\nL 19.671875 8.296875 \r\nL 56.78125 8.296875 \r\nL 56.78125 0 \r\nL 9.8125 0 \r\nz\r\n\" id=\"DejaVuSans-45\"/>\r\n      <path d=\"M 54.890625 33.015625 \r\nL 54.890625 0 \r\nL 45.90625 0 \r\nL 45.90625 32.71875 \r\nQ 45.90625 40.484375 42.875 44.328125 \r\nQ 39.84375 48.1875 33.796875 48.1875 \r\nQ 26.515625 48.1875 22.3125 43.546875 \r\nQ 18.109375 38.921875 18.109375 30.90625 \r\nL 18.109375 0 \r\nL 9.078125 0 \r\nL 9.078125 54.6875 \r\nL 18.109375 54.6875 \r\nL 18.109375 46.1875 \r\nQ 21.34375 51.125 25.703125 53.5625 \r\nQ 30.078125 56 35.796875 56 \r\nQ 45.21875 56 50.046875 50.171875 \r\nQ 54.890625 44.34375 54.890625 33.015625 \r\nz\r\n\" id=\"DejaVuSans-6e\"/>\r\n      <path d=\"M 18.3125 70.21875 \r\nL 18.3125 54.6875 \r\nL 36.8125 54.6875 \r\nL 36.8125 47.703125 \r\nL 18.3125 47.703125 \r\nL 18.3125 18.015625 \r\nQ 18.3125 11.328125 20.140625 9.421875 \r\nQ 21.96875 7.515625 27.59375 7.515625 \r\nL 36.8125 7.515625 \r\nL 36.8125 0 \r\nL 27.59375 0 \r\nQ 17.1875 0 13.234375 3.875 \r\nQ 9.28125 7.765625 9.28125 18.015625 \r\nL 9.28125 47.703125 \r\nL 2.6875 47.703125 \r\nL 2.6875 54.6875 \r\nL 9.28125 54.6875 \r\nL 9.28125 70.21875 \r\nz\r\n\" id=\"DejaVuSans-74\"/>\r\n      <path d=\"M 32.171875 -5.078125 \r\nQ 28.375 -14.84375 24.75 -17.8125 \r\nQ 21.140625 -20.796875 15.09375 -20.796875 \r\nL 7.90625 -20.796875 \r\nL 7.90625 -13.28125 \r\nL 13.1875 -13.28125 \r\nQ 16.890625 -13.28125 18.9375 -11.515625 \r\nQ 21 -9.765625 23.484375 -3.21875 \r\nL 25.09375 0.875 \r\nL 2.984375 54.6875 \r\nL 12.5 54.6875 \r\nL 29.59375 11.921875 \r\nL 46.6875 54.6875 \r\nL 56.203125 54.6875 \r\nz\r\n\" id=\"DejaVuSans-79\"/>\r\n     </defs>\r\n     <g transform=\"translate(14.798438 165.976406)rotate(-90)scale(0.1 -0.1)\">\r\n      <use xlink:href=\"#DejaVuSans-43\"/>\r\n      <use x=\"69.824219\" xlink:href=\"#DejaVuSans-72\"/>\r\n      <use x=\"110.90625\" xlink:href=\"#DejaVuSans-6f\"/>\r\n      <use x=\"172.087891\" xlink:href=\"#DejaVuSans-73\"/>\r\n      <use x=\"224.1875\" xlink:href=\"#DejaVuSans-73\"/>\r\n      <use x=\"276.287109\" xlink:href=\"#DejaVuSans-20\"/>\r\n      <use x=\"308.074219\" xlink:href=\"#DejaVuSans-45\"/>\r\n      <use x=\"371.257812\" xlink:href=\"#DejaVuSans-6e\"/>\r\n      <use x=\"434.636719\" xlink:href=\"#DejaVuSans-74\"/>\r\n      <use x=\"473.845703\" xlink:href=\"#DejaVuSans-72\"/>\r\n      <use x=\"514.927734\" xlink:href=\"#DejaVuSans-6f\"/>\r\n      <use x=\"576.109375\" xlink:href=\"#DejaVuSans-70\"/>\r\n      <use x=\"639.585938\" xlink:href=\"#DejaVuSans-79\"/>\r\n     </g>\r\n    </g>\r\n   </g>\r\n   <g id=\"line2d_12\">\r\n    <path clip-path=\"url(#p7372d11a96)\" d=\"M 58.999432 32.201761 \r\nL 62.073812 61.585844 \r\nL 65.148192 81.451929 \r\nL 68.222572 97.218119 \r\nL 71.296952 112.669365 \r\nL 74.371333 125.741994 \r\nL 77.445713 135.523238 \r\nL 80.520093 143.594118 \r\nL 83.594473 151.829282 \r\nL 86.668853 157.806113 \r\nL 89.743233 163.300294 \r\nL 92.817614 167.335108 \r\nL 95.891994 171.036268 \r\nL 98.966374 175.214884 \r\nL 102.040754 179.305686 \r\nL 105.115134 181.578363 \r\nL 108.189514 183.557895 \r\nL 111.263895 186.601046 \r\nL 114.338275 188.955414 \r\nL 117.412655 189.900058 \r\nL 120.487035 193.032257 \r\nL 123.561415 193.172986 \r\nL 126.635795 195.228717 \r\nL 129.710176 197.065159 \r\nL 132.784556 197.974662 \r\nL 135.858936 199.387923 \r\nL 138.933316 201.421508 \r\nL 142.007696 201.846476 \r\nL 145.082076 201.760438 \r\nL 148.156457 204.245487 \r\nL 151.230837 204.663359 \r\nL 154.305217 205.286459 \r\nL 157.379597 206.495664 \r\nL 160.453977 207.784427 \r\nL 163.528357 208.383385 \r\nL 166.602738 208.468817 \r\nL 169.677118 210.126264 \r\nL 172.751498 210.903651 \r\nL 175.825878 211.810707 \r\nL 178.900258 211.922798 \r\nL 181.974638 213.141387 \r\nL 185.049019 212.931232 \r\nL 188.123399 213.876478 \r\nL 191.197779 214.232869 \r\nL 194.272159 214.497111 \r\nL 197.346539 214.694551 \r\nL 200.420919 215.48995 \r\nL 203.4953 216.465065 \r\nL 206.56968 216.85472 \r\nL 209.64406 216.857782 \r\nL 212.71844 217.01019 \r\nL 215.79282 218.581515 \r\nL 218.8672 218.847117 \r\nL 221.941581 219.299334 \r\nL 225.015961 219.146972 \r\nL 228.090341 219.907615 \r\nL 231.164721 220.440739 \r\nL 234.239101 220.25784 \r\nL 237.313481 220.536821 \r\nL 240.387862 221.129227 \r\nL 243.462242 221.81089 \r\nL 246.536622 221.375704 \r\nL 249.611002 222.184136 \r\nL 252.685382 222.557246 \r\nL 255.759762 222.881791 \r\nL 258.834143 222.67673 \r\nL 261.908523 223.239242 \r\nL 264.982903 223.720218 \r\nL 268.057283 223.359527 \r\nL 271.131663 223.688645 \r\nL 274.206043 224.223716 \r\nL 277.280424 224.492016 \r\nL 280.354804 225.169168 \r\nL 283.429184 224.43034 \r\nL 286.503564 225.353015 \r\nL 289.577944 225.287408 \r\nL 292.652324 225.251623 \r\nL 295.726705 225.791912 \r\nL 298.801085 225.885615 \r\nL 301.875465 226.643849 \r\nL 304.949845 226.422169 \r\nL 308.024225 226.303991 \r\nL 311.098605 226.714493 \r\nL 314.172986 226.962275 \r\nL 317.247366 227.05324 \r\nL 320.321746 227.393266 \r\nL 323.396126 227.632975 \r\nL 326.470506 227.771972 \r\nL 329.544886 228.035933 \r\nL 332.619267 228.292705 \r\nL 335.693647 227.728825 \r\nL 338.768027 228.334049 \r\nL 341.842407 228.307328 \r\nL 344.916787 228.470787 \r\nL 347.991167 228.985262 \r\nL 351.065548 229.286362 \r\nL 354.139928 229.874489 \r\nL 357.214308 229.476808 \r\nL 360.288688 229.575363 \r\nL 363.363068 229.259713 \r\n\" style=\"fill:none;stroke:#1f77b4;stroke-linecap:square;stroke-width:1.5;\"/>\r\n   </g>\r\n   <g id=\"line2d_13\">\r\n    <path clip-path=\"url(#p7372d11a96)\" d=\"M 58.999432 53.416177 \r\nL 62.073812 74.384606 \r\nL 65.148192 92.476028 \r\nL 68.222572 107.332127 \r\nL 71.296952 119.494974 \r\nL 74.371333 129.530107 \r\nL 77.445713 137.932698 \r\nL 80.520093 144.937675 \r\nL 83.594473 150.913585 \r\nL 86.668853 155.86163 \r\nL 89.743233 160.219112 \r\nL 92.817614 163.76611 \r\nL 95.891994 167.023178 \r\nL 98.966374 169.820391 \r\nL 102.040754 172.345879 \r\nL 105.115134 174.380331 \r\nL 108.189514 176.443087 \r\nL 111.263895 178.211088 \r\nL 114.338275 179.798431 \r\nL 117.412655 181.248379 \r\nL 120.487035 182.536819 \r\nL 123.561415 183.747575 \r\nL 126.635795 184.966188 \r\nL 129.710176 185.95654 \r\nL 132.784556 186.955757 \r\nL 135.858936 187.825852 \r\nL 138.933316 188.574617 \r\nL 142.007696 189.282637 \r\nL 145.082076 189.953502 \r\nL 148.156457 190.581899 \r\nL 151.230837 191.295209 \r\nL 154.305217 191.867039 \r\nL 157.379597 192.429957 \r\nL 160.453977 192.935236 \r\nL 163.528357 193.312461 \r\nL 166.602738 193.77101 \r\nL 169.677118 194.301538 \r\nL 172.751498 194.562819 \r\nL 175.825878 194.919132 \r\nL 178.900258 195.201782 \r\nL 181.974638 195.613667 \r\nL 185.049019 195.967631 \r\nL 188.123399 196.291065 \r\nL 191.197779 196.468359 \r\nL 194.272159 196.773898 \r\nL 197.346539 197.014532 \r\nL 200.420919 197.262476 \r\nL 203.4953 197.61144 \r\nL 206.56968 197.853587 \r\nL 209.64406 198.016869 \r\nL 212.71844 198.250883 \r\nL 215.79282 198.506484 \r\nL 218.8672 198.549754 \r\nL 221.941581 198.622055 \r\nL 225.015961 198.916969 \r\nL 228.090341 199.031711 \r\nL 231.164721 199.12061 \r\nL 234.239101 199.25858 \r\nL 237.313481 199.358763 \r\nL 240.387862 199.570242 \r\nL 243.462242 199.650359 \r\nL 246.536622 199.744308 \r\nL 249.611002 199.99158 \r\nL 252.685382 200.044754 \r\nL 255.759762 200.077267 \r\nL 258.834143 200.256304 \r\nL 261.908523 200.267794 \r\nL 264.982903 200.407635 \r\nL 268.057283 200.376394 \r\nL 271.131663 200.58101 \r\nL 274.206043 200.736333 \r\nL 277.280424 200.95787 \r\nL 280.354804 200.795178 \r\nL 283.429184 200.876846 \r\nL 286.503564 201.004303 \r\nL 289.577944 201.060466 \r\nL 292.652324 201.168759 \r\nL 295.726705 201.185858 \r\nL 298.801085 201.223006 \r\nL 301.875465 201.29742 \r\nL 304.949845 201.350483 \r\nL 308.024225 201.388818 \r\nL 311.098605 201.293176 \r\nL 314.172986 201.215667 \r\nL 317.247366 201.313079 \r\nL 320.321746 201.467992 \r\nL 323.396126 201.371715 \r\nL 326.470506 201.483314 \r\nL 329.544886 201.516328 \r\nL 332.619267 201.404015 \r\nL 335.693647 201.588587 \r\nL 338.768027 201.68251 \r\nL 341.842407 201.661577 \r\nL 344.916787 201.600396 \r\nL 347.991167 201.524998 \r\nL 351.065548 201.324294 \r\nL 354.139928 201.693203 \r\nL 357.214308 201.589269 \r\nL 360.288688 201.65424 \r\nL 363.363068 201.75528 \r\n\" style=\"fill:none;stroke:#ff7f0e;stroke-linecap:square;stroke-width:1.5;\"/>\r\n   </g>\r\n   <g id=\"patch_3\">\r\n    <path d=\"M 43.78125 239.758125 \r\nL 43.78125 22.318125 \r\n\" style=\"fill:none;stroke:#000000;stroke-linecap:square;stroke-linejoin:miter;stroke-width:0.8;\"/>\r\n   </g>\r\n   <g id=\"patch_4\">\r\n    <path d=\"M 378.58125 239.758125 \r\nL 378.58125 22.318125 \r\n\" style=\"fill:none;stroke:#000000;stroke-linecap:square;stroke-linejoin:miter;stroke-width:0.8;\"/>\r\n   </g>\r\n   <g id=\"patch_5\">\r\n    <path d=\"M 43.78125 239.758125 \r\nL 378.58125 239.758125 \r\n\" style=\"fill:none;stroke:#000000;stroke-linecap:square;stroke-linejoin:miter;stroke-width:0.8;\"/>\r\n   </g>\r\n   <g id=\"patch_6\">\r\n    <path d=\"M 43.78125 22.318125 \r\nL 378.58125 22.318125 \r\n\" style=\"fill:none;stroke:#000000;stroke-linecap:square;stroke-linejoin:miter;stroke-width:0.8;\"/>\r\n   </g>\r\n   <g id=\"text_14\">\r\n    <!-- Training and Validation Loss -->\r\n    <defs>\r\n     <path d=\"M -0.296875 72.90625 \r\nL 61.375 72.90625 \r\nL 61.375 64.59375 \r\nL 35.5 64.59375 \r\nL 35.5 0 \r\nL 25.59375 0 \r\nL 25.59375 64.59375 \r\nL -0.296875 64.59375 \r\nz\r\n\" id=\"DejaVuSans-54\"/>\r\n     <path d=\"M 34.28125 27.484375 \r\nQ 23.390625 27.484375 19.1875 25 \r\nQ 14.984375 22.515625 14.984375 16.5 \r\nQ 14.984375 11.71875 18.140625 8.90625 \r\nQ 21.296875 6.109375 26.703125 6.109375 \r\nQ 34.1875 6.109375 38.703125 11.40625 \r\nQ 43.21875 16.703125 43.21875 25.484375 \r\nL 43.21875 27.484375 \r\nz\r\nM 52.203125 31.203125 \r\nL 52.203125 0 \r\nL 43.21875 0 \r\nL 43.21875 8.296875 \r\nQ 40.140625 3.328125 35.546875 0.953125 \r\nQ 30.953125 -1.421875 24.3125 -1.421875 \r\nQ 15.921875 -1.421875 10.953125 3.296875 \r\nQ 6 8.015625 6 15.921875 \r\nQ 6 25.140625 12.171875 29.828125 \r\nQ 18.359375 34.515625 30.609375 34.515625 \r\nL 43.21875 34.515625 \r\nL 43.21875 35.40625 \r\nQ 43.21875 41.609375 39.140625 45 \r\nQ 35.0625 48.390625 27.6875 48.390625 \r\nQ 23 48.390625 18.546875 47.265625 \r\nQ 14.109375 46.140625 10.015625 43.890625 \r\nL 10.015625 52.203125 \r\nQ 14.9375 54.109375 19.578125 55.046875 \r\nQ 24.21875 56 28.609375 56 \r\nQ 40.484375 56 46.34375 49.84375 \r\nQ 52.203125 43.703125 52.203125 31.203125 \r\nz\r\n\" id=\"DejaVuSans-61\"/>\r\n     <path d=\"M 9.421875 54.6875 \r\nL 18.40625 54.6875 \r\nL 18.40625 0 \r\nL 9.421875 0 \r\nz\r\nM 9.421875 75.984375 \r\nL 18.40625 75.984375 \r\nL 18.40625 64.59375 \r\nL 9.421875 64.59375 \r\nz\r\n\" id=\"DejaVuSans-69\"/>\r\n     <path d=\"M 45.40625 27.984375 \r\nQ 45.40625 37.75 41.375 43.109375 \r\nQ 37.359375 48.484375 30.078125 48.484375 \r\nQ 22.859375 48.484375 18.828125 43.109375 \r\nQ 14.796875 37.75 14.796875 27.984375 \r\nQ 14.796875 18.265625 18.828125 12.890625 \r\nQ 22.859375 7.515625 30.078125 7.515625 \r\nQ 37.359375 7.515625 41.375 12.890625 \r\nQ 45.40625 18.265625 45.40625 27.984375 \r\nz\r\nM 54.390625 6.78125 \r\nQ 54.390625 -7.171875 48.1875 -13.984375 \r\nQ 42 -20.796875 29.203125 -20.796875 \r\nQ 24.46875 -20.796875 20.265625 -20.09375 \r\nQ 16.0625 -19.390625 12.109375 -17.921875 \r\nL 12.109375 -9.1875 \r\nQ 16.0625 -11.328125 19.921875 -12.34375 \r\nQ 23.78125 -13.375 27.78125 -13.375 \r\nQ 36.625 -13.375 41.015625 -8.765625 \r\nQ 45.40625 -4.15625 45.40625 5.171875 \r\nL 45.40625 9.625 \r\nQ 42.625 4.78125 38.28125 2.390625 \r\nQ 33.9375 0 27.875 0 \r\nQ 17.828125 0 11.671875 7.65625 \r\nQ 5.515625 15.328125 5.515625 27.984375 \r\nQ 5.515625 40.671875 11.671875 48.328125 \r\nQ 17.828125 56 27.875 56 \r\nQ 33.9375 56 38.28125 53.609375 \r\nQ 42.625 51.21875 45.40625 46.390625 \r\nL 45.40625 54.6875 \r\nL 54.390625 54.6875 \r\nz\r\n\" id=\"DejaVuSans-67\"/>\r\n     <path d=\"M 45.40625 46.390625 \r\nL 45.40625 75.984375 \r\nL 54.390625 75.984375 \r\nL 54.390625 0 \r\nL 45.40625 0 \r\nL 45.40625 8.203125 \r\nQ 42.578125 3.328125 38.25 0.953125 \r\nQ 33.9375 -1.421875 27.875 -1.421875 \r\nQ 17.96875 -1.421875 11.734375 6.484375 \r\nQ 5.515625 14.40625 5.515625 27.296875 \r\nQ 5.515625 40.1875 11.734375 48.09375 \r\nQ 17.96875 56 27.875 56 \r\nQ 33.9375 56 38.25 53.625 \r\nQ 42.578125 51.265625 45.40625 46.390625 \r\nz\r\nM 14.796875 27.296875 \r\nQ 14.796875 17.390625 18.875 11.75 \r\nQ 22.953125 6.109375 30.078125 6.109375 \r\nQ 37.203125 6.109375 41.296875 11.75 \r\nQ 45.40625 17.390625 45.40625 27.296875 \r\nQ 45.40625 37.203125 41.296875 42.84375 \r\nQ 37.203125 48.484375 30.078125 48.484375 \r\nQ 22.953125 48.484375 18.875 42.84375 \r\nQ 14.796875 37.203125 14.796875 27.296875 \r\nz\r\n\" id=\"DejaVuSans-64\"/>\r\n     <path d=\"M 28.609375 0 \r\nL 0.78125 72.90625 \r\nL 11.078125 72.90625 \r\nL 34.1875 11.53125 \r\nL 57.328125 72.90625 \r\nL 67.578125 72.90625 \r\nL 39.796875 0 \r\nz\r\n\" id=\"DejaVuSans-56\"/>\r\n     <path d=\"M 9.421875 75.984375 \r\nL 18.40625 75.984375 \r\nL 18.40625 0 \r\nL 9.421875 0 \r\nz\r\n\" id=\"DejaVuSans-6c\"/>\r\n     <path d=\"M 9.8125 72.90625 \r\nL 19.671875 72.90625 \r\nL 19.671875 8.296875 \r\nL 55.171875 8.296875 \r\nL 55.171875 0 \r\nL 9.8125 0 \r\nz\r\n\" id=\"DejaVuSans-4c\"/>\r\n    </defs>\r\n    <g transform=\"translate(126.2775 16.318125)scale(0.12 -0.12)\">\r\n     <use xlink:href=\"#DejaVuSans-54\"/>\r\n     <use x=\"60.865234\" xlink:href=\"#DejaVuSans-72\"/>\r\n     <use x=\"101.978516\" xlink:href=\"#DejaVuSans-61\"/>\r\n     <use x=\"163.257812\" xlink:href=\"#DejaVuSans-69\"/>\r\n     <use x=\"191.041016\" xlink:href=\"#DejaVuSans-6e\"/>\r\n     <use x=\"254.419922\" xlink:href=\"#DejaVuSans-69\"/>\r\n     <use x=\"282.203125\" xlink:href=\"#DejaVuSans-6e\"/>\r\n     <use x=\"345.582031\" xlink:href=\"#DejaVuSans-67\"/>\r\n     <use x=\"409.058594\" xlink:href=\"#DejaVuSans-20\"/>\r\n     <use x=\"440.845703\" xlink:href=\"#DejaVuSans-61\"/>\r\n     <use x=\"502.125\" xlink:href=\"#DejaVuSans-6e\"/>\r\n     <use x=\"565.503906\" xlink:href=\"#DejaVuSans-64\"/>\r\n     <use x=\"628.980469\" xlink:href=\"#DejaVuSans-20\"/>\r\n     <use x=\"660.767578\" xlink:href=\"#DejaVuSans-56\"/>\r\n     <use x=\"729.066406\" xlink:href=\"#DejaVuSans-61\"/>\r\n     <use x=\"790.345703\" xlink:href=\"#DejaVuSans-6c\"/>\r\n     <use x=\"818.128906\" xlink:href=\"#DejaVuSans-69\"/>\r\n     <use x=\"845.912109\" xlink:href=\"#DejaVuSans-64\"/>\r\n     <use x=\"909.388672\" xlink:href=\"#DejaVuSans-61\"/>\r\n     <use x=\"970.667969\" xlink:href=\"#DejaVuSans-74\"/>\r\n     <use x=\"1009.876953\" xlink:href=\"#DejaVuSans-69\"/>\r\n     <use x=\"1037.660156\" xlink:href=\"#DejaVuSans-6f\"/>\r\n     <use x=\"1098.841797\" xlink:href=\"#DejaVuSans-6e\"/>\r\n     <use x=\"1162.220703\" xlink:href=\"#DejaVuSans-20\"/>\r\n     <use x=\"1194.007812\" xlink:href=\"#DejaVuSans-4c\"/>\r\n     <use x=\"1249.705078\" xlink:href=\"#DejaVuSans-6f\"/>\r\n     <use x=\"1310.886719\" xlink:href=\"#DejaVuSans-73\"/>\r\n     <use x=\"1362.986328\" xlink:href=\"#DejaVuSans-73\"/>\r\n    </g>\r\n   </g>\r\n   <g id=\"legend_1\">\r\n    <g id=\"patch_7\">\r\n     <path d=\"M 264.15 59.674375 \r\nL 371.58125 59.674375 \r\nQ 373.58125 59.674375 373.58125 57.674375 \r\nL 373.58125 29.318125 \r\nQ 373.58125 27.318125 371.58125 27.318125 \r\nL 264.15 27.318125 \r\nQ 262.15 27.318125 262.15 29.318125 \r\nL 262.15 57.674375 \r\nQ 262.15 59.674375 264.15 59.674375 \r\nz\r\n\" style=\"fill:#ffffff;opacity:0.8;stroke:#cccccc;stroke-linejoin:miter;\"/>\r\n    </g>\r\n    <g id=\"line2d_14\">\r\n     <path d=\"M 266.15 35.416562 \r\nL 286.15 35.416562 \r\n\" style=\"fill:none;stroke:#1f77b4;stroke-linecap:square;stroke-width:1.5;\"/>\r\n    </g>\r\n    <g id=\"line2d_15\"/>\r\n    <g id=\"text_15\">\r\n     <!-- Training Loss -->\r\n     <g transform=\"translate(294.15 38.916562)scale(0.1 -0.1)\">\r\n      <use xlink:href=\"#DejaVuSans-54\"/>\r\n      <use x=\"60.865234\" xlink:href=\"#DejaVuSans-72\"/>\r\n      <use x=\"101.978516\" xlink:href=\"#DejaVuSans-61\"/>\r\n      <use x=\"163.257812\" xlink:href=\"#DejaVuSans-69\"/>\r\n      <use x=\"191.041016\" xlink:href=\"#DejaVuSans-6e\"/>\r\n      <use x=\"254.419922\" xlink:href=\"#DejaVuSans-69\"/>\r\n      <use x=\"282.203125\" xlink:href=\"#DejaVuSans-6e\"/>\r\n      <use x=\"345.582031\" xlink:href=\"#DejaVuSans-67\"/>\r\n      <use x=\"409.058594\" xlink:href=\"#DejaVuSans-20\"/>\r\n      <use x=\"440.845703\" xlink:href=\"#DejaVuSans-4c\"/>\r\n      <use x=\"496.542969\" xlink:href=\"#DejaVuSans-6f\"/>\r\n      <use x=\"557.724609\" xlink:href=\"#DejaVuSans-73\"/>\r\n      <use x=\"609.824219\" xlink:href=\"#DejaVuSans-73\"/>\r\n     </g>\r\n    </g>\r\n    <g id=\"line2d_16\">\r\n     <path d=\"M 266.15 50.094687 \r\nL 286.15 50.094687 \r\n\" style=\"fill:none;stroke:#ff7f0e;stroke-linecap:square;stroke-width:1.5;\"/>\r\n    </g>\r\n    <g id=\"line2d_17\"/>\r\n    <g id=\"text_16\">\r\n     <!-- Validation Loss -->\r\n     <g transform=\"translate(294.15 53.594687)scale(0.1 -0.1)\">\r\n      <use xlink:href=\"#DejaVuSans-56\"/>\r\n      <use x=\"68.298828\" xlink:href=\"#DejaVuSans-61\"/>\r\n      <use x=\"129.578125\" xlink:href=\"#DejaVuSans-6c\"/>\r\n      <use x=\"157.361328\" xlink:href=\"#DejaVuSans-69\"/>\r\n      <use x=\"185.144531\" xlink:href=\"#DejaVuSans-64\"/>\r\n      <use x=\"248.621094\" xlink:href=\"#DejaVuSans-61\"/>\r\n      <use x=\"309.900391\" xlink:href=\"#DejaVuSans-74\"/>\r\n      <use x=\"349.109375\" xlink:href=\"#DejaVuSans-69\"/>\r\n      <use x=\"376.892578\" xlink:href=\"#DejaVuSans-6f\"/>\r\n      <use x=\"438.074219\" xlink:href=\"#DejaVuSans-6e\"/>\r\n      <use x=\"501.453125\" xlink:href=\"#DejaVuSans-20\"/>\r\n      <use x=\"533.240234\" xlink:href=\"#DejaVuSans-4c\"/>\r\n      <use x=\"588.9375\" xlink:href=\"#DejaVuSans-6f\"/>\r\n      <use x=\"650.119141\" xlink:href=\"#DejaVuSans-73\"/>\r\n      <use x=\"702.21875\" xlink:href=\"#DejaVuSans-73\"/>\r\n     </g>\r\n    </g>\r\n   </g>\r\n  </g>\r\n </g>\r\n <defs>\r\n  <clipPath id=\"p7372d11a96\">\r\n   <rect height=\"217.44\" width=\"334.8\" x=\"43.78125\" y=\"22.318125\"/>\r\n  </clipPath>\r\n </defs>\r\n</svg>\r\n",
            "image/png": "[encoded data removed]"
          },
          "metadata": {
            "needs_background": "light"
          }
        }
      ]
    }
  ]
}