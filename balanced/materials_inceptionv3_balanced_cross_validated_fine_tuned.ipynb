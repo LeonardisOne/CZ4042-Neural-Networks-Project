{
  "nbformat": 4,
  "nbformat_minor": 0,
  "metadata": {
    "colab": {
      "name": "materials-balanced-cross-validated-fine-tuned.ipynb",
      "provenance": [],
      "collapsed_sections": []
    },
    "kernelspec": {
      "display_name": "Python 3",
      "name": "python3"
    }
  },
  "cells": [
    {
      "cell_type": "code",
      "metadata": {
        "id": "ERKJLyg2z-Uq"
      },
      "source": [
        "import matplotlib.pyplot as plt\n",
        "import numpy as np\n",
        "import os\n",
        "import PIL\n",
        "import tensorflow as tf\n",
        "\n",
        "from tensorflow import keras\n",
        "from tensorflow.keras import layers\n",
        "from tensorflow.keras.models import Sequential"
      ],
      "execution_count": 2,
      "outputs": []
    },
    {
      "cell_type": "code",
      "metadata": {
        "id": "7fIbsvD01EQm"
      },
      "source": [
        "import pathlib\n",
        "\n",
        "# set path to FMD image directory\n",
        "data_dir = pathlib.Path(\"image\")\n",
        "\n",
        "# total no. of images in FMD dataset\n",
        "image_count = len(list(data_dir.glob('*/*.jpg')))\n",
        "print(image_count)"
      ],
      "execution_count": 3,
      "outputs": [
        {
          "output_type": "stream",
          "name": "stdout",
          "text": [
            "1000\n"
          ]
        }
      ]
    },
    {
      "cell_type": "code",
      "metadata": {
        "id": "cL3rBqoe3sK5"
      },
      "source": [
        "# set batch size for training\n",
        "batch_size = 16\n",
        "\n",
        "# set dimensions to change images into for training\n",
        "# 299x299 images is required for pre-trained models like Inception V3\n",
        "img_height = 299\n",
        "img_width = 299"
      ],
      "execution_count": 5,
      "outputs": []
    },
    {
      "cell_type": "code",
      "metadata": {
        "id": "EFKuhNRxqxcB"
      },
      "source": [
        "# get class names from the folder names in data_dir\n",
        "class_names = np.array(sorted([item.name for item in data_dir.glob('*') if item.name != \"LICENSE.txt\"]))\n",
        "print(class_names)"
      ],
      "execution_count": 6,
      "outputs": [
        {
          "output_type": "stream",
          "name": "stdout",
          "text": [
            "['fabric' 'foliage' 'glass' 'leather' 'metal' 'paper' 'plastic' 'stone'\n 'water' 'wood']\n"
          ]
        }
      ]
    },
    {
      "cell_type": "code",
      "metadata": {
        "id": "ap_FpvbEqWrS"
      },
      "source": [
        "# create list containing the dataset for each class\n",
        "ds_each_class = [tf.data.Dataset.list_files(str(data_dir/f'{class_name}/*.jpg'), shuffle=False) for class_name in class_names]\n",
        "\n",
        "# shuffle the 100 images in each class with the random seed value of 123 before training\n",
        "for index, ds in enumerate(ds_each_class):\n",
        "  ds_each_class[index] = ds.shuffle(image_count//10, seed=123, reshuffle_each_iteration=False)"
      ],
      "execution_count": 7,
      "outputs": []
    },
    {
      "cell_type": "code",
      "metadata": {
        "id": "ty_LijJpqbEx"
      },
      "source": [
        "# display some samples from a class to verify each class dataset contains only the class images\n",
        "for f in ds_each_class[0].take(10):\n",
        "  print(f.numpy())\n",
        "\n",
        "for f in ds_each_class[1].take(10):\n",
        "  print(f.numpy())"
      ],
      "execution_count": 8,
      "outputs": [
        {
          "output_type": "stream",
          "name": "stdout",
          "text": [
            "b'image\\\\fabric\\\\fabric_moderate_037_new.jpg'\nb'image\\\\fabric\\\\fabric_moderate_004_new.jpg'\nb'image\\\\fabric\\\\fabric_moderate_008_new.jpg'\nb'image\\\\fabric\\\\fabric_object_003_new.jpg'\nb'image\\\\fabric\\\\fabric_object_017_new.jpg'\nb'image\\\\fabric\\\\fabric_object_001_new.jpg'\nb'image\\\\fabric\\\\fabric_moderate_032_new.jpg'\nb'image\\\\fabric\\\\fabric_moderate_030_new.jpg'\nb'image\\\\fabric\\\\fabric_moderate_038_new.jpg'\nb'image\\\\fabric\\\\fabric_object_009_new.jpg'\nb'image\\\\foliage\\\\foliage_final_037_new.jpg'\nb'image\\\\foliage\\\\foliage_final_004_new.jpg'\nb'image\\\\foliage\\\\foliage_final_008_new.jpg'\nb'image\\\\foliage\\\\foliage_final_053_new.jpg'\nb'image\\\\foliage\\\\foliage_final_067_new.jpg'\nb'image\\\\foliage\\\\foliage_final_051_new.jpg'\nb'image\\\\foliage\\\\foliage_final_032_new.jpg'\nb'image\\\\foliage\\\\foliage_final_030_new.jpg'\nb'image\\\\foliage\\\\foliage_final_038_new.jpg'\nb'image\\\\foliage\\\\foliage_final_059_new.jpg'\n"
          ]
        }
      ]
    },
    {
      "cell_type": "code",
      "metadata": {
        "id": "ACILObxurdXN"
      },
      "source": [
        "# split first class dataset into 5 equal sized partitions\n",
        "# then for remaining classes' datasets do the same and add to corresponding partition\n",
        "# for 5-fold cross validation\n",
        "A = ds_each_class[0].shard(num_shards=5, index=0)\n",
        "B = ds_each_class[0].shard(num_shards=5, index=1)\n",
        "C = ds_each_class[0].shard(num_shards=5, index=2)\n",
        "D = ds_each_class[0].shard(num_shards=5, index=3)\n",
        "E = ds_each_class[0].shard(num_shards=5, index=4)\n",
        "for i in range(1, 10):\n",
        "  A = A.concatenate(ds_each_class[i].shard(num_shards=5, index=0))\n",
        "  B = B.concatenate(ds_each_class[i].shard(num_shards=5, index=1))\n",
        "  C = C.concatenate(ds_each_class[i].shard(num_shards=5, index=2))\n",
        "  D = D.concatenate(ds_each_class[i].shard(num_shards=5, index=3))\n",
        "  E = E.concatenate(ds_each_class[i].shard(num_shards=5, index=4))"
      ],
      "execution_count": 9,
      "outputs": []
    },
    {
      "cell_type": "code",
      "metadata": {
        "id": "YVZDDZxa4d8J"
      },
      "source": [
        "# take some samples to verify each partition contains 20 images of each class (for balanced dataset)\n",
        "for f in A.take(41):\n",
        "  print(f.numpy())"
      ],
      "execution_count": 10,
      "outputs": [
        {
          "output_type": "stream",
          "name": "stdout",
          "text": [
            "b'image\\\\fabric\\\\fabric_moderate_037_new.jpg'\nb'image\\\\fabric\\\\fabric_object_001_new.jpg'\nb'image\\\\fabric\\\\fabric_moderate_003_new.jpg'\nb'image\\\\fabric\\\\fabric_moderate_043_new.jpg'\nb'image\\\\fabric\\\\fabric_object_048_new.jpg'\nb'image\\\\fabric\\\\fabric_moderate_018_new.jpg'\nb'image\\\\fabric\\\\fabric_object_006_new.jpg'\nb'image\\\\fabric\\\\fabric_object_034_new.jpg'\nb'image\\\\fabric\\\\fabric_object_022_new.jpg'\nb'image\\\\fabric\\\\fabric_moderate_026_new.jpg'\nb'image\\\\fabric\\\\fabric_object_027_new.jpg'\nb'image\\\\fabric\\\\fabric_object_023_new.jpg'\nb'image\\\\fabric\\\\fabric_object_040_new.jpg'\nb'image\\\\fabric\\\\fabric_object_049_new.jpg'\nb'image\\\\fabric\\\\fabric_moderate_027_new.jpg'\nb'image\\\\fabric\\\\fabric_object_011_new.jpg'\nb'image\\\\fabric\\\\fabric_object_035_new.jpg'\nb'image\\\\fabric\\\\fabric_moderate_016_new.jpg'\nb'image\\\\fabric\\\\fabric_moderate_017_new.jpg'\nb'image\\\\fabric\\\\fabric_object_043_new.jpg'\nb'image\\\\foliage\\\\foliage_final_037_new.jpg'\nb'image\\\\foliage\\\\foliage_final_051_new.jpg'\nb'image\\\\foliage\\\\foliage_final_003_new.jpg'\nb'image\\\\foliage\\\\foliage_final_043_new.jpg'\nb'image\\\\foliage\\\\foliage_final_098_new.jpg'\nb'image\\\\foliage\\\\foliage_final_018_new.jpg'\nb'image\\\\foliage\\\\foliage_final_056_new.jpg'\nb'image\\\\foliage\\\\foliage_final_084_new.jpg'\nb'image\\\\foliage\\\\foliage_final_072_new.jpg'\nb'image\\\\foliage\\\\foliage_final_026_new.jpg'\nb'image\\\\foliage\\\\foliage_final_077_new.jpg'\nb'image\\\\foliage\\\\foliage_final_073_new.jpg'\nb'image\\\\foliage\\\\foliage_final_090_new.jpg'\nb'image\\\\foliage\\\\foliage_final_099_new.jpg'\nb'image\\\\foliage\\\\foliage_final_027_new.jpg'\nb'image\\\\foliage\\\\foliage_final_061_new.jpg'\nb'image\\\\foliage\\\\foliage_final_085_new.jpg'\nb'image\\\\foliage\\\\foliage_final_016_new.jpg'\nb'image\\\\foliage\\\\foliage_final_017_new.jpg'\nb'image\\\\foliage\\\\foliage_final_093_new.jpg'\nb'image\\\\glass\\\\glass_moderate_037_new.jpg'\n"
          ]
        }
      ]
    },
    {
      "cell_type": "code",
      "metadata": {
        "id": "eu3fQc2l4lcr"
      },
      "source": [
        "for f in B.take(41):\n",
        "  print(f.numpy())"
      ],
      "execution_count": 11,
      "outputs": [
        {
          "output_type": "stream",
          "name": "stdout",
          "text": [
            "b'image\\\\fabric\\\\fabric_moderate_004_new.jpg'\nb'image\\\\fabric\\\\fabric_moderate_032_new.jpg'\nb'image\\\\fabric\\\\fabric_object_042_new.jpg'\nb'image\\\\fabric\\\\fabric_moderate_047_new.jpg'\nb'image\\\\fabric\\\\fabric_moderate_009_new.jpg'\nb'image\\\\fabric\\\\fabric_moderate_041_new.jpg'\nb'image\\\\fabric\\\\fabric_moderate_039_new.jpg'\nb'image\\\\fabric\\\\fabric_object_028_new.jpg'\nb'image\\\\fabric\\\\fabric_moderate_001_new.jpg'\nb'image\\\\fabric\\\\fabric_moderate_024_new.jpg'\nb'image\\\\fabric\\\\fabric_object_014_new.jpg'\nb'image\\\\fabric\\\\fabric_object_007_new.jpg'\nb'image\\\\fabric\\\\fabric_moderate_036_new.jpg'\nb'image\\\\fabric\\\\fabric_moderate_050_new.jpg'\nb'image\\\\fabric\\\\fabric_moderate_035_new.jpg'\nb'image\\\\fabric\\\\fabric_object_019_new.jpg'\nb'image\\\\fabric\\\\fabric_object_026_new.jpg'\nb'image\\\\fabric\\\\fabric_moderate_013_new.jpg'\nb'image\\\\fabric\\\\fabric_moderate_045_new.jpg'\nb'image\\\\fabric\\\\fabric_moderate_033_new.jpg'\nb'image\\\\foliage\\\\foliage_final_004_new.jpg'\nb'image\\\\foliage\\\\foliage_final_032_new.jpg'\nb'image\\\\foliage\\\\foliage_final_092_new.jpg'\nb'image\\\\foliage\\\\foliage_final_047_new.jpg'\nb'image\\\\foliage\\\\foliage_final_009_new.jpg'\nb'image\\\\foliage\\\\foliage_final_041_new.jpg'\nb'image\\\\foliage\\\\foliage_final_039_new.jpg'\nb'image\\\\foliage\\\\foliage_final_078_new.jpg'\nb'image\\\\foliage\\\\foliage_final_001_new.jpg'\nb'image\\\\foliage\\\\foliage_final_024_new.jpg'\nb'image\\\\foliage\\\\foliage_final_064_new.jpg'\nb'image\\\\foliage\\\\foliage_final_057_new.jpg'\nb'image\\\\foliage\\\\foliage_final_036_new.jpg'\nb'image\\\\foliage\\\\foliage_final_050_new.jpg'\nb'image\\\\foliage\\\\foliage_final_035_new.jpg'\nb'image\\\\foliage\\\\foliage_final_069_new.jpg'\nb'image\\\\foliage\\\\foliage_final_076_new.jpg'\nb'image\\\\foliage\\\\foliage_final_013_new.jpg'\nb'image\\\\foliage\\\\foliage_final_045_new.jpg'\nb'image\\\\foliage\\\\foliage_final_033_new.jpg'\nb'image\\\\glass\\\\glass_moderate_004_new.jpg'\n"
          ]
        }
      ]
    },
    {
      "cell_type": "code",
      "metadata": {
        "id": "hmgErnBY4nLX"
      },
      "source": [
        "for f in C.take(41):\n",
        "  print(f.numpy())"
      ],
      "execution_count": 12,
      "outputs": [
        {
          "output_type": "stream",
          "name": "stdout",
          "text": [
            "b'image\\\\fabric\\\\fabric_moderate_008_new.jpg'\n",
            "b'image\\\\fabric\\\\fabric_moderate_030_new.jpg'\n",
            "b'image\\\\fabric\\\\fabric_object_044_new.jpg'\n",
            "b'image\\\\fabric\\\\fabric_moderate_015_new.jpg'\n",
            "b'image\\\\fabric\\\\fabric_object_024_new.jpg'\n",
            "b'image\\\\fabric\\\\fabric_object_038_new.jpg'\n",
            "b'image\\\\fabric\\\\fabric_object_008_new.jpg'\n",
            "b'image\\\\fabric\\\\fabric_moderate_049_new.jpg'\n",
            "b'image\\\\fabric\\\\fabric_object_018_new.jpg'\n",
            "b'image\\\\fabric\\\\fabric_moderate_011_new.jpg'\n",
            "b'image\\\\fabric\\\\fabric_moderate_044_new.jpg'\n",
            "b'image\\\\fabric\\\\fabric_moderate_002_new.jpg'\n",
            "b'image\\\\fabric\\\\fabric_object_046_new.jpg'\n",
            "b'image\\\\fabric\\\\fabric_object_029_new.jpg'\n",
            "b'image\\\\fabric\\\\fabric_object_005_new.jpg'\n",
            "b'image\\\\fabric\\\\fabric_object_041_new.jpg'\n",
            "b'image\\\\fabric\\\\fabric_object_010_new.jpg'\n",
            "b'image\\\\fabric\\\\fabric_moderate_010_new.jpg'\n",
            "b'image\\\\fabric\\\\fabric_object_030_new.jpg'\n",
            "b'image\\\\fabric\\\\fabric_moderate_046_new.jpg'\n",
            "b'image\\\\foliage\\\\foliage_final_008_new.jpg'\n",
            "b'image\\\\foliage\\\\foliage_final_030_new.jpg'\n",
            "b'image\\\\foliage\\\\foliage_final_094_new.jpg'\n",
            "b'image\\\\foliage\\\\foliage_final_015_new.jpg'\n",
            "b'image\\\\foliage\\\\foliage_final_074_new.jpg'\n",
            "b'image\\\\foliage\\\\foliage_final_088_new.jpg'\n",
            "b'image\\\\foliage\\\\foliage_final_058_new.jpg'\n",
            "b'image\\\\foliage\\\\foliage_final_049_new.jpg'\n",
            "b'image\\\\foliage\\\\foliage_final_068_new.jpg'\n",
            "b'image\\\\foliage\\\\foliage_final_011_new.jpg'\n",
            "b'image\\\\foliage\\\\foliage_final_044_new.jpg'\n",
            "b'image\\\\foliage\\\\foliage_final_002_new.jpg'\n",
            "b'image\\\\foliage\\\\foliage_final_096_new.jpg'\n",
            "b'image\\\\foliage\\\\foliage_final_079_new.jpg'\n",
            "b'image\\\\foliage\\\\foliage_final_055_new.jpg'\n",
            "b'image\\\\foliage\\\\foliage_final_091_new.jpg'\n",
            "b'image\\\\foliage\\\\foliage_final_060_new.jpg'\n",
            "b'image\\\\foliage\\\\foliage_final_010_new.jpg'\n",
            "b'image\\\\foliage\\\\foliage_final_080_new.jpg'\n",
            "b'image\\\\foliage\\\\foliage_final_046_new.jpg'\n",
            "b'image\\\\glass\\\\glass_moderate_008_new.jpg'\n"
          ]
        }
      ]
    },
    {
      "cell_type": "code",
      "metadata": {
        "id": "WVreECLQ4qDS"
      },
      "source": [
        "for f in D.take(41):\n",
        "  print(f.numpy())"
      ],
      "execution_count": 13,
      "outputs": [
        {
          "output_type": "stream",
          "name": "stdout",
          "text": [
            "b'image\\\\fabric\\\\fabric_object_003_new.jpg'\nb'image\\\\fabric\\\\fabric_moderate_038_new.jpg'\nb'image\\\\fabric\\\\fabric_object_004_new.jpg'\nb'image\\\\fabric\\\\fabric_object_033_new.jpg'\nb'image\\\\fabric\\\\fabric_moderate_048_new.jpg'\nb'image\\\\fabric\\\\fabric_object_013_new.jpg'\nb'image\\\\fabric\\\\fabric_moderate_023_new.jpg'\nb'image\\\\fabric\\\\fabric_object_020_new.jpg'\nb'image\\\\fabric\\\\fabric_object_032_new.jpg'\nb'image\\\\fabric\\\\fabric_moderate_034_new.jpg'\nb'image\\\\fabric\\\\fabric_object_039_new.jpg'\nb'image\\\\fabric\\\\fabric_moderate_007_new.jpg'\nb'image\\\\fabric\\\\fabric_object_047_new.jpg'\nb'image\\\\fabric\\\\fabric_moderate_021_new.jpg'\nb'image\\\\fabric\\\\fabric_moderate_025_new.jpg'\nb'image\\\\fabric\\\\fabric_object_037_new.jpg'\nb'image\\\\fabric\\\\fabric_object_002_new.jpg'\nb'image\\\\fabric\\\\fabric_moderate_012_new.jpg'\nb'image\\\\fabric\\\\fabric_moderate_031_new.jpg'\nb'image\\\\fabric\\\\fabric_moderate_020_new.jpg'\nb'image\\\\foliage\\\\foliage_final_053_new.jpg'\nb'image\\\\foliage\\\\foliage_final_038_new.jpg'\nb'image\\\\foliage\\\\foliage_final_054_new.jpg'\nb'image\\\\foliage\\\\foliage_final_083_new.jpg'\nb'image\\\\foliage\\\\foliage_final_048_new.jpg'\nb'image\\\\foliage\\\\foliage_final_063_new.jpg'\nb'image\\\\foliage\\\\foliage_final_023_new.jpg'\nb'image\\\\foliage\\\\foliage_final_070_new.jpg'\nb'image\\\\foliage\\\\foliage_final_082_new.jpg'\nb'image\\\\foliage\\\\foliage_final_034_new.jpg'\nb'image\\\\foliage\\\\foliage_final_089_new.jpg'\nb'image\\\\foliage\\\\foliage_final_007_new.jpg'\nb'image\\\\foliage\\\\foliage_final_097_new.jpg'\nb'image\\\\foliage\\\\foliage_final_021_new.jpg'\nb'image\\\\foliage\\\\foliage_final_025_new.jpg'\nb'image\\\\foliage\\\\foliage_final_087_new.jpg'\nb'image\\\\foliage\\\\foliage_final_052_new.jpg'\nb'image\\\\foliage\\\\foliage_final_012_new.jpg'\nb'image\\\\foliage\\\\foliage_final_031_new.jpg'\nb'image\\\\foliage\\\\foliage_final_020_new.jpg'\nb'image\\\\glass\\\\glass_object_003_new.jpg'\n"
          ]
        }
      ]
    },
    {
      "cell_type": "code",
      "metadata": {
        "id": "MHjL0oMp4q7b"
      },
      "source": [
        "for f in E.take(41):\n",
        "  print(f.numpy())"
      ],
      "execution_count": 14,
      "outputs": [
        {
          "output_type": "stream",
          "name": "stdout",
          "text": [
            "b'image\\\\fabric\\\\fabric_object_017_new.jpg'\nb'image\\\\fabric\\\\fabric_object_009_new.jpg'\nb'image\\\\fabric\\\\fabric_moderate_028_new.jpg'\nb'image\\\\fabric\\\\fabric_object_016_new.jpg'\nb'image\\\\fabric\\\\fabric_moderate_005_new.jpg'\nb'image\\\\fabric\\\\fabric_object_025_new.jpg'\nb'image\\\\fabric\\\\fabric_object_031_new.jpg'\nb'image\\\\fabric\\\\fabric_moderate_019_new.jpg'\nb'image\\\\fabric\\\\fabric_moderate_014_new.jpg'\nb'image\\\\fabric\\\\fabric_moderate_040_new.jpg'\nb'image\\\\fabric\\\\fabric_moderate_006_new.jpg'\nb'image\\\\fabric\\\\fabric_moderate_042_new.jpg'\nb'image\\\\fabric\\\\fabric_moderate_029_new.jpg'\nb'image\\\\fabric\\\\fabric_object_021_new.jpg'\nb'image\\\\fabric\\\\fabric_object_045_new.jpg'\nb'image\\\\fabric\\\\fabric_object_050_new.jpg'\nb'image\\\\fabric\\\\fabric_object_015_new.jpg'\nb'image\\\\fabric\\\\fabric_object_012_new.jpg'\nb'image\\\\fabric\\\\fabric_moderate_022_new.jpg'\nb'image\\\\fabric\\\\fabric_object_036_new.jpg'\nb'image\\\\foliage\\\\foliage_final_067_new.jpg'\nb'image\\\\foliage\\\\foliage_final_059_new.jpg'\nb'image\\\\foliage\\\\foliage_final_028_new.jpg'\nb'image\\\\foliage\\\\foliage_final_066_new.jpg'\nb'image\\\\foliage\\\\foliage_final_005_new.jpg'\nb'image\\\\foliage\\\\foliage_final_075_new.jpg'\nb'image\\\\foliage\\\\foliage_final_081_new.jpg'\nb'image\\\\foliage\\\\foliage_final_019_new.jpg'\nb'image\\\\foliage\\\\foliage_final_014_new.jpg'\nb'image\\\\foliage\\\\foliage_final_040_new.jpg'\nb'image\\\\foliage\\\\foliage_final_006_new.jpg'\nb'image\\\\foliage\\\\foliage_final_042_new.jpg'\nb'image\\\\foliage\\\\foliage_final_029_new.jpg'\nb'image\\\\foliage\\\\foliage_final_071_new.jpg'\nb'image\\\\foliage\\\\foliage_final_095_new.jpg'\nb'image\\\\foliage\\\\foliage_final_100_new.jpg'\nb'image\\\\foliage\\\\foliage_final_065_new.jpg'\nb'image\\\\foliage\\\\foliage_final_062_new.jpg'\nb'image\\\\foliage\\\\foliage_final_022_new.jpg'\nb'image\\\\foliage\\\\foliage_final_086_new.jpg'\nb'image\\\\glass\\\\glass_object_017_new.jpg'\n"
          ]
        }
      ]
    },
    {
      "cell_type": "code",
      "metadata": {
        "id": "-9oYdHkhrwdz"
      },
      "source": [
        "# check no. of samples in each partition is the same\n",
        "print(A.cardinality().numpy())\n",
        "print(B.cardinality().numpy())\n",
        "print(C.cardinality().numpy())\n",
        "print(D.cardinality().numpy())\n",
        "print(E.cardinality().numpy())"
      ],
      "execution_count": 15,
      "outputs": [
        {
          "output_type": "stream",
          "name": "stdout",
          "text": [
            "200\n200\n200\n200\n200\n"
          ]
        }
      ]
    },
    {
      "cell_type": "code",
      "metadata": {
        "id": "8BdD3FMHtGRV"
      },
      "source": [
        "def get_label(file_path):\n",
        "  # convert the path to a list of path components\n",
        "  parts = tf.strings.split(file_path, os.path.sep)\n",
        "  # The second to last is the class-directory\n",
        "  one_hot = parts[-2] == class_names\n",
        "  # Integer encode the label\n",
        "  return tf.argmax(one_hot)"
      ],
      "execution_count": 16,
      "outputs": []
    },
    {
      "cell_type": "code",
      "metadata": {
        "id": "XfWduaL4tKDV"
      },
      "source": [
        "def decode_img(img):\n",
        "  # convert the compressed string to a 3D uint8 tensor\n",
        "  img = tf.image.decode_jpeg(img, channels=3)\n",
        "  # resize the image to the desired size\n",
        "  return tf.image.resize(img, [img_height, img_width])"
      ],
      "execution_count": 17,
      "outputs": []
    },
    {
      "cell_type": "code",
      "metadata": {
        "id": "5bGGe0KltMTC"
      },
      "source": [
        "def process_path(file_path):\n",
        "  label = get_label(file_path)\n",
        "  # load the raw data from the file as a string\n",
        "  img = tf.io.read_file(file_path)\n",
        "  img = decode_img(img)\n",
        "  return img, label"
      ],
      "execution_count": 18,
      "outputs": []
    },
    {
      "cell_type": "code",
      "metadata": {
        "id": "FcyZLwRxt1dy"
      },
      "source": [
        "# prompt the tf.data runtime to tune the number of elements to prefetch dynamically at runtime\n",
        "AUTOTUNE = tf.data.experimental.AUTOTUNE"
      ],
      "execution_count": 19,
      "outputs": []
    },
    {
      "cell_type": "code",
      "metadata": {
        "id": "OkBqAQlHtblh"
      },
      "source": [
        "# use the path of image to load the image into each partition of the dataset\n",
        "# Set `num_parallel_calls` so multiple images are loaded/processed in parallel.\n",
        "A = A.map(process_path, num_parallel_calls=AUTOTUNE)\n",
        "B = B.map(process_path, num_parallel_calls=AUTOTUNE)\n",
        "C = C.map(process_path, num_parallel_calls=AUTOTUNE)\n",
        "D = D.map(process_path, num_parallel_calls=AUTOTUNE)\n",
        "E = E.map(process_path, num_parallel_calls=AUTOTUNE)"
      ],
      "execution_count": 20,
      "outputs": []
    },
    {
      "cell_type": "code",
      "metadata": {
        "id": "cc9pmaQ5t9H5"
      },
      "source": [
        "for image, label in A.take(1):\n",
        "  print(\"Image shape: \", image.numpy().shape)\n",
        "  print(\"Label: \", label.numpy())"
      ],
      "execution_count": 21,
      "outputs": [
        {
          "output_type": "stream",
          "name": "stdout",
          "text": [
            "Image shape:  (299, 299, 3)\nLabel:  0\n"
          ]
        }
      ]
    },
    {
      "cell_type": "code",
      "metadata": {
        "id": "d_T2KNdGub1X"
      },
      "source": [
        "# shuffle, batch, and prefetch the dataset\n",
        "def configure_for_performance(ds):\n",
        "  ds = ds.cache()\n",
        "  ds = ds.shuffle(buffer_size=1000)\n",
        "  ds = ds.batch(batch_size)\n",
        "  ds = ds.prefetch(buffer_size=AUTOTUNE)\n",
        "  return ds"
      ],
      "execution_count": 22,
      "outputs": []
    },
    {
      "cell_type": "code",
      "metadata": {
        "id": "MWcojoVRuok5"
      },
      "source": [
        "# map the dataset partitions to integers for building training/test sets during cross-validation\n",
        "ds_fold_dict = {0:A, 1:B, 2:C, 3:D, 4:E}"
      ],
      "execution_count": 23,
      "outputs": []
    },
    {
      "cell_type": "code",
      "metadata": {
        "id": "Mx3xKoMZU9Yv"
      },
      "source": [
        "# normalise the input values to the pre-trained model's required range of values\n",
        "preprocess_input = keras.applications.inception_v3.preprocess_input"
      ],
      "execution_count": 24,
      "outputs": []
    },
    {
      "cell_type": "code",
      "metadata": {
        "id": "BzhaWb2aX2if"
      },
      "source": [
        "# set a low learning rate to avoid overfitting too quickly\n",
        "base_learning_rate = 0.0001\n",
        "\n",
        "# create the model to train using the pre-trained model as base model\n",
        "def create_model(base_model):\n",
        "  # generate additional training data from input training data by augmenting them using random flip, rotation & zoom\n",
        "  data_augmentation = keras.Sequential(\n",
        "    [\n",
        "      layers.experimental.preprocessing.RandomFlip(\"horizontal\", \n",
        "                                                  input_shape=(img_height, \n",
        "                                                                img_width,\n",
        "                                                                3)),\n",
        "      layers.experimental.preprocessing.RandomRotation(0.1),\n",
        "      layers.experimental.preprocessing.RandomZoom(0.1),\n",
        "    ]\n",
        "  )\n",
        "\n",
        "  # average over the spatial locations to convert the features to a single vector per image\n",
        "  global_average_layer = keras.layers.GlobalAveragePooling2D()\n",
        "  # convert these features into a single prediction per image\n",
        "  prediction_layer = keras.layers.Dense(10)\n",
        "\n",
        "  # Build a model by chaining together the layers using the Keras Functional API.\n",
        "  inputs = keras.Input(shape=(img_height, img_width, 3))\n",
        "  x = data_augmentation(inputs)\n",
        "  x = preprocess_input(x)\n",
        "  x = base_model(x, training=False) # use training=False as the base model contains a BatchNormalization layer\n",
        "  x = global_average_layer(x)\n",
        "  x = keras.layers.Dropout(0.2)(x) # add dropout to fully connected layer to reduce overfitting\n",
        "  outputs = prediction_layer(x)\n",
        "  model = keras.Model(inputs, outputs)\n",
        "  optimizer = keras.optimizers.Adam(lr=base_learning_rate)\n",
        "  loss= keras.losses.SparseCategoricalCrossentropy(from_logits=True)\n",
        "  # compile model with Adam optimizer with specified learning rate\n",
        "  model.compile(optimizer=optimizer,\n",
        "                loss=loss,\n",
        "                metrics=['accuracy'])\n",
        "  model.summary()\n",
        "  return model"
      ],
      "execution_count": 25,
      "outputs": []
    },
    {
      "cell_type": "code",
      "metadata": {
        "id": "Z-5TEZRgY2l_"
      },
      "source": [
        "no_epochs = 50\n",
        "fine_tune_epochs = 20\n",
        "total_epochs =  no_epochs + fine_tune_epochs\n",
        "# Fine-tune pre-trained model from this layer onwards\n",
        "fine_tune_at = 249"
      ],
      "execution_count": 26,
      "outputs": []
    },
    {
      "cell_type": "code",
      "metadata": {
        "id": "Ya698zRbu7Ep",
        "tags": [
          "outputPrepend"
        ]
      },
      "source": [
        "# store results to plot graphs and get cross-validated accuracies\n",
        "history_map = {}\n",
        "base_model_acc_list = []\n",
        "pre_trained_acc_list = []\n",
        "final_acc_list = []\n",
        "\n",
        "# do 5-fold cross-validation\n",
        "for i in range(5):\n",
        "  print('fold', i + 1)\n",
        "  temp_dict = ds_fold_dict.copy()\n",
        "  # get test set for this iteration\n",
        "  current_val_ds = temp_dict[i]\n",
        "\n",
        "  # get training set for this iteration from remaining data samples\n",
        "  del temp_dict[i]\n",
        "  current_train_ds = None\n",
        "  for ds_shard in temp_dict.values():\n",
        "    if current_train_ds is None:\n",
        "      current_train_ds = ds_shard\n",
        "    else:\n",
        "      current_train_ds = current_train_ds.concatenate(ds_shard)\n",
        "  \n",
        "  # configure both training and test sets to improve performance\n",
        "  current_train_ds = configure_for_performance(current_train_ds)\n",
        "  current_val_ds = configure_for_performance(current_val_ds)\n",
        "\n",
        "  # get pre-trained model\n",
        "  base_model = keras.applications.InceptionV3(include_top=False, input_shape=(img_height, img_width, 3))\n",
        "  # don't train base model weights\n",
        "  base_model.trainable = False\n",
        "\n",
        "  # create a new model\n",
        "  model = create_model(base_model)\n",
        "  # get initial test accuracy\n",
        "  base_model_acc_list.append(model.evaluate(current_val_ds)[1])\n",
        "  # train for specified epochs\n",
        "  history = model.fit(current_train_ds,\n",
        "                    epochs=no_epochs,\n",
        "                    validation_data=current_val_ds)\n",
        "  \n",
        "  # get test accuracy before fine-tuning\n",
        "  pre_trained_acc_list.append(model.evaluate(current_val_ds)[1])\n",
        "\n",
        "  # start fine-tuning by setting base model to be trainable\n",
        "  base_model.trainable = True\n",
        "\n",
        "  # Freeze all the layers before the `fine_tune_at` layer to only fine-tune top layer(s)\n",
        "  for layer in base_model.layers[:fine_tune_at]:\n",
        "    layer.trainable =  False\n",
        "\n",
        "  # compile model again with RMSProp optimizer with even smaller learning rate to reduce overfitting\n",
        "  optimizer = keras.optimizers.RMSprop(lr=base_learning_rate/10)\n",
        "  loss = keras.losses.SparseCategoricalCrossentropy(from_logits=True)\n",
        "  model.compile(optimizer=optimizer,\n",
        "                loss=loss,\n",
        "                metrics=['accuracy'])\n",
        "  print('Fine-tuned model:')\n",
        "  model.summary()\n",
        "\n",
        "  # train fine-tuned model\n",
        "  history_fine = model.fit(current_train_ds,\n",
        "                         epochs=total_epochs,\n",
        "                         initial_epoch=history.epoch[-1],\n",
        "                         validation_data=current_val_ds)\n",
        "\n",
        "  # save results\n",
        "  if i == 0:\n",
        "    history_map['accuracy'] = [history.history['accuracy'] + history_fine.history['accuracy']]\n",
        "    history_map['val_accuracy'] = [history.history['val_accuracy'] + history_fine.history['val_accuracy']]\n",
        "    history_map['loss'] = [history.history['loss'] + history_fine.history['loss']]\n",
        "    history_map['val_loss'] = [history.history['val_loss'] + history_fine.history['val_loss']]\n",
        "  else:\n",
        "    history_map['accuracy'].append(history.history['accuracy'] + history_fine.history['accuracy'])\n",
        "    history_map['val_accuracy'].append(history.history['val_accuracy'] + history_fine.history['val_accuracy'])\n",
        "    history_map['loss'].append(history.history['loss'] + history_fine.history['loss'])\n",
        "    history_map['val_loss'].append(history.history['val_loss'] + history_fine.history['val_loss'])\n",
        "  \n",
        "  # get final test accuracy by taking the max accuracy over the whole training due to potential overfitting at end of fine-tuning\n",
        "  final_acc_list.append(np.amax(history.history['val_accuracy'] + history_fine.history['val_accuracy']))"
      ],
      "execution_count": 28,
      "outputs": [
        {
          "output_type": "stream",
          "name": "stdout",
          "text": [
            "s/step - loss: 0.6139 - accuracy: 0.8500 - val_loss: 0.7784 - val_accuracy: 0.7800\n",
            "Epoch 35/50\n",
            "50/50 [==============================] - 3s 54ms/step - loss: 0.5890 - accuracy: 0.8425 - val_loss: 0.7724 - val_accuracy: 0.7750\n",
            "Epoch 36/50\n",
            "50/50 [==============================] - 3s 54ms/step - loss: 0.5875 - accuracy: 0.8462 - val_loss: 0.7618 - val_accuracy: 0.7800\n",
            "Epoch 37/50\n",
            "50/50 [==============================] - 3s 54ms/step - loss: 0.5713 - accuracy: 0.8537 - val_loss: 0.7556 - val_accuracy: 0.7700\n",
            "Epoch 38/50\n",
            "50/50 [==============================] - 3s 54ms/step - loss: 0.5665 - accuracy: 0.8587 - val_loss: 0.7520 - val_accuracy: 0.7750\n",
            "Epoch 39/50\n",
            "50/50 [==============================] - 3s 53ms/step - loss: 0.5362 - accuracy: 0.8737 - val_loss: 0.7437 - val_accuracy: 0.7750\n",
            "Epoch 40/50\n",
            "50/50 [==============================] - 3s 54ms/step - loss: 0.5474 - accuracy: 0.8550 - val_loss: 0.7379 - val_accuracy: 0.7750\n",
            "Epoch 41/50\n",
            "50/50 [==============================] - 3s 54ms/step - loss: 0.5246 - accuracy: 0.8675 - val_loss: 0.7326 - val_accuracy: 0.7600\n",
            "Epoch 42/50\n",
            "50/50 [==============================] - 3s 54ms/step - loss: 0.5130 - accuracy: 0.8737 - val_loss: 0.7252 - val_accuracy: 0.7900\n",
            "Epoch 43/50\n",
            "50/50 [==============================] - 3s 54ms/step - loss: 0.5197 - accuracy: 0.8788 - val_loss: 0.7199 - val_accuracy: 0.7750\n",
            "Epoch 44/50\n",
            "50/50 [==============================] - 3s 54ms/step - loss: 0.5075 - accuracy: 0.8725 - val_loss: 0.7192 - val_accuracy: 0.7800\n",
            "Epoch 45/50\n",
            "50/50 [==============================] - 3s 54ms/step - loss: 0.4960 - accuracy: 0.8850 - val_loss: 0.7130 - val_accuracy: 0.7850\n",
            "Epoch 46/50\n",
            "50/50 [==============================] - 3s 54ms/step - loss: 0.4911 - accuracy: 0.8737 - val_loss: 0.7095 - val_accuracy: 0.7800\n",
            "Epoch 47/50\n",
            "50/50 [==============================] - 3s 54ms/step - loss: 0.4827 - accuracy: 0.8863 - val_loss: 0.6994 - val_accuracy: 0.7900\n",
            "Epoch 48/50\n",
            "50/50 [==============================] - 3s 54ms/step - loss: 0.4819 - accuracy: 0.8875 - val_loss: 0.7028 - val_accuracy: 0.7850\n",
            "Epoch 49/50\n",
            "50/50 [==============================] - 3s 54ms/step - loss: 0.4671 - accuracy: 0.8800 - val_loss: 0.6939 - val_accuracy: 0.7900\n",
            "Epoch 50/50\n",
            "50/50 [==============================] - 3s 54ms/step - loss: 0.4522 - accuracy: 0.8963 - val_loss: 0.6912 - val_accuracy: 0.7900\n",
            "13/13 [==============================] - 0s 38ms/step - loss: 0.6912 - accuracy: 0.7900\n",
            "Fine-tuned model:\n",
            "Model: \"functional_7\"\n",
            "_________________________________________________________________\n",
            "Layer (type)                 Output Shape              Param #   \n",
            "=================================================================\n",
            "input_8 (InputLayer)         [(None, 299, 299, 3)]     0         \n",
            "_________________________________________________________________\n",
            "sequential_3 (Sequential)    (None, 299, 299, 3)       0         \n",
            "_________________________________________________________________\n",
            "tf_op_layer_RealDiv_3 (Tenso [(None, 299, 299, 3)]     0         \n",
            "_________________________________________________________________\n",
            "tf_op_layer_Sub_3 (TensorFlo [(None, 299, 299, 3)]     0         \n",
            "_________________________________________________________________\n",
            "inception_v3 (Functional)    (None, 8, 8, 2048)        21802784  \n",
            "_________________________________________________________________\n",
            "global_average_pooling2d_3 ( (None, 2048)              0         \n",
            "_________________________________________________________________\n",
            "dropout_3 (Dropout)          (None, 2048)              0         \n",
            "_________________________________________________________________\n",
            "dense_3 (Dense)              (None, 10)                20490     \n",
            "=================================================================\n",
            "Total params: 21,823,274\n",
            "Trainable params: 11,135,370\n",
            "Non-trainable params: 10,687,904\n",
            "_________________________________________________________________\n",
            "Epoch 50/70\n",
            "50/50 [==============================] - 4s 89ms/step - loss: 0.4296 - accuracy: 0.8725 - val_loss: 0.5892 - val_accuracy: 0.8050\n",
            "Epoch 51/70\n",
            "50/50 [==============================] - 3s 70ms/step - loss: 0.3271 - accuracy: 0.9025 - val_loss: 0.5589 - val_accuracy: 0.8100\n",
            "Epoch 52/70\n",
            "50/50 [==============================] - 4s 70ms/step - loss: 0.2329 - accuracy: 0.9250 - val_loss: 0.5559 - val_accuracy: 0.8050\n",
            "Epoch 53/70\n",
            "50/50 [==============================] - 3s 70ms/step - loss: 0.1945 - accuracy: 0.9375 - val_loss: 0.5640 - val_accuracy: 0.8350\n",
            "Epoch 54/70\n",
            "50/50 [==============================] - 4s 70ms/step - loss: 0.1698 - accuracy: 0.9500 - val_loss: 0.5482 - val_accuracy: 0.8350\n",
            "Epoch 55/70\n",
            "50/50 [==============================] - 3s 69ms/step - loss: 0.1204 - accuracy: 0.9688 - val_loss: 0.5607 - val_accuracy: 0.8200\n",
            "Epoch 56/70\n",
            "50/50 [==============================] - 4s 70ms/step - loss: 0.1004 - accuracy: 0.9725 - val_loss: 0.5284 - val_accuracy: 0.8200\n",
            "Epoch 57/70\n",
            "50/50 [==============================] - 4s 70ms/step - loss: 0.0860 - accuracy: 0.9775 - val_loss: 0.5491 - val_accuracy: 0.8200\n",
            "Epoch 58/70\n",
            "50/50 [==============================] - 4s 70ms/step - loss: 0.0514 - accuracy: 0.9862 - val_loss: 0.6111 - val_accuracy: 0.8450\n",
            "Epoch 59/70\n",
            "50/50 [==============================] - 4s 71ms/step - loss: 0.0678 - accuracy: 0.9750 - val_loss: 0.6098 - val_accuracy: 0.8400\n",
            "Epoch 60/70\n",
            "50/50 [==============================] - 4s 70ms/step - loss: 0.0620 - accuracy: 0.9850 - val_loss: 0.6612 - val_accuracy: 0.8450\n",
            "Epoch 61/70\n",
            "50/50 [==============================] - 3s 70ms/step - loss: 0.0444 - accuracy: 0.9875 - val_loss: 0.6470 - val_accuracy: 0.8450\n",
            "Epoch 62/70\n",
            "50/50 [==============================] - 3s 70ms/step - loss: 0.0448 - accuracy: 0.9875 - val_loss: 0.6472 - val_accuracy: 0.8400\n",
            "Epoch 63/70\n",
            "50/50 [==============================] - 4s 71ms/step - loss: 0.0383 - accuracy: 0.9887 - val_loss: 0.6720 - val_accuracy: 0.8250\n",
            "Epoch 64/70\n",
            "50/50 [==============================] - 4s 70ms/step - loss: 0.0304 - accuracy: 0.9900 - val_loss: 0.6439 - val_accuracy: 0.8200\n",
            "Epoch 65/70\n",
            "50/50 [==============================] - 4s 71ms/step - loss: 0.0177 - accuracy: 0.9975 - val_loss: 0.7086 - val_accuracy: 0.8400\n",
            "Epoch 66/70\n",
            "50/50 [==============================] - 4s 70ms/step - loss: 0.0364 - accuracy: 0.9875 - val_loss: 0.7108 - val_accuracy: 0.8350\n",
            "Epoch 67/70\n",
            "50/50 [==============================] - 4s 70ms/step - loss: 0.0111 - accuracy: 0.9987 - val_loss: 0.7819 - val_accuracy: 0.8150\n",
            "Epoch 68/70\n",
            "50/50 [==============================] - 4s 70ms/step - loss: 0.0278 - accuracy: 0.9875 - val_loss: 0.7318 - val_accuracy: 0.8400\n",
            "Epoch 69/70\n",
            "50/50 [==============================] - 4s 71ms/step - loss: 0.0250 - accuracy: 0.9925 - val_loss: 0.6793 - val_accuracy: 0.8200\n",
            "Epoch 70/70\n",
            "50/50 [==============================] - 4s 71ms/step - loss: 0.0112 - accuracy: 0.9962 - val_loss: 0.7265 - val_accuracy: 0.8450\n",
            "fold 5\n",
            "Model: \"functional_9\"\n",
            "_________________________________________________________________\n",
            "Layer (type)                 Output Shape              Param #   \n",
            "=================================================================\n",
            "input_10 (InputLayer)        [(None, 299, 299, 3)]     0         \n",
            "_________________________________________________________________\n",
            "sequential_4 (Sequential)    (None, 299, 299, 3)       0         \n",
            "_________________________________________________________________\n",
            "tf_op_layer_RealDiv_4 (Tenso [(None, 299, 299, 3)]     0         \n",
            "_________________________________________________________________\n",
            "tf_op_layer_Sub_4 (TensorFlo [(None, 299, 299, 3)]     0         \n",
            "_________________________________________________________________\n",
            "inception_v3 (Functional)    (None, 8, 8, 2048)        21802784  \n",
            "_________________________________________________________________\n",
            "global_average_pooling2d_4 ( (None, 2048)              0         \n",
            "_________________________________________________________________\n",
            "dropout_4 (Dropout)          (None, 2048)              0         \n",
            "_________________________________________________________________\n",
            "dense_4 (Dense)              (None, 10)                20490     \n",
            "=================================================================\n",
            "Total params: 21,823,274\n",
            "Trainable params: 20,490\n",
            "Non-trainable params: 21,802,784\n",
            "_________________________________________________________________\n",
            "13/13 [==============================] - 0s 38ms/step - loss: 2.5322 - accuracy: 0.1300\n",
            "Epoch 1/50\n",
            "50/50 [==============================] - 3s 54ms/step - loss: 2.4477 - accuracy: 0.1412 - val_loss: 2.2577 - val_accuracy: 0.1550\n",
            "Epoch 2/50\n",
            "50/50 [==============================] - 3s 53ms/step - loss: 2.2202 - accuracy: 0.1912 - val_loss: 2.0902 - val_accuracy: 0.2650\n",
            "Epoch 3/50\n",
            "50/50 [==============================] - 3s 53ms/step - loss: 2.0616 - accuracy: 0.2700 - val_loss: 1.9460 - val_accuracy: 0.3400\n",
            "Epoch 4/50\n",
            "50/50 [==============================] - 3s 54ms/step - loss: 1.9031 - accuracy: 0.3713 - val_loss: 1.8141 - val_accuracy: 0.4300\n",
            "Epoch 5/50\n",
            "50/50 [==============================] - 3s 54ms/step - loss: 1.7711 - accuracy: 0.4225 - val_loss: 1.6994 - val_accuracy: 0.4900\n",
            "Epoch 6/50\n",
            "50/50 [==============================] - 3s 54ms/step - loss: 1.6815 - accuracy: 0.4875 - val_loss: 1.6017 - val_accuracy: 0.5550\n",
            "Epoch 7/50\n",
            "50/50 [==============================] - 3s 54ms/step - loss: 1.5464 - accuracy: 0.5412 - val_loss: 1.5101 - val_accuracy: 0.5950\n",
            "Epoch 8/50\n",
            "50/50 [==============================] - 3s 53ms/step - loss: 1.4470 - accuracy: 0.5987 - val_loss: 1.4307 - val_accuracy: 0.6400\n",
            "Epoch 9/50\n",
            "50/50 [==============================] - 3s 54ms/step - loss: 1.3577 - accuracy: 0.6413 - val_loss: 1.3575 - val_accuracy: 0.6700\n",
            "Epoch 10/50\n",
            "50/50 [==============================] - 3s 53ms/step - loss: 1.2838 - accuracy: 0.6450 - val_loss: 1.2905 - val_accuracy: 0.6700\n",
            "Epoch 11/50\n",
            "50/50 [==============================] - 3s 54ms/step - loss: 1.2138 - accuracy: 0.6675 - val_loss: 1.2400 - val_accuracy: 0.6700\n",
            "Epoch 12/50\n",
            "50/50 [==============================] - 3s 54ms/step - loss: 1.1797 - accuracy: 0.6837 - val_loss: 1.1882 - val_accuracy: 0.6800\n",
            "Epoch 13/50\n",
            "50/50 [==============================] - 3s 54ms/step - loss: 1.1121 - accuracy: 0.7212 - val_loss: 1.1434 - val_accuracy: 0.7050\n",
            "Epoch 14/50\n",
            "50/50 [==============================] - 3s 54ms/step - loss: 1.0596 - accuracy: 0.7275 - val_loss: 1.1030 - val_accuracy: 0.7100\n",
            "Epoch 15/50\n",
            "50/50 [==============================] - 3s 54ms/step - loss: 1.0146 - accuracy: 0.7713 - val_loss: 1.0640 - val_accuracy: 0.7300\n",
            "Epoch 16/50\n",
            "50/50 [==============================] - 3s 54ms/step - loss: 0.9710 - accuracy: 0.7650 - val_loss: 1.0300 - val_accuracy: 0.7400\n",
            "Epoch 17/50\n",
            "50/50 [==============================] - 3s 54ms/step - loss: 0.9471 - accuracy: 0.7650 - val_loss: 1.0022 - val_accuracy: 0.7350\n",
            "Epoch 18/50\n",
            "50/50 [==============================] - 3s 54ms/step - loss: 0.9228 - accuracy: 0.7825 - val_loss: 0.9746 - val_accuracy: 0.7500\n",
            "Epoch 19/50\n",
            "50/50 [==============================] - 3s 54ms/step - loss: 0.9033 - accuracy: 0.7700 - val_loss: 0.9432 - val_accuracy: 0.7600\n",
            "Epoch 20/50\n",
            "50/50 [==============================] - 3s 54ms/step - loss: 0.8796 - accuracy: 0.7713 - val_loss: 0.9184 - val_accuracy: 0.7550\n",
            "Epoch 21/50\n",
            "50/50 [==============================] - 3s 54ms/step - loss: 0.8383 - accuracy: 0.7812 - val_loss: 0.9025 - val_accuracy: 0.7550\n",
            "Epoch 22/50\n",
            "50/50 [==============================] - 3s 53ms/step - loss: 0.8067 - accuracy: 0.7950 - val_loss: 0.8851 - val_accuracy: 0.7600\n",
            "Epoch 23/50\n",
            "50/50 [==============================] - 3s 54ms/step - loss: 0.7811 - accuracy: 0.8138 - val_loss: 0.8639 - val_accuracy: 0.7750\n",
            "Epoch 24/50\n",
            "50/50 [==============================] - 3s 54ms/step - loss: 0.7432 - accuracy: 0.8125 - val_loss: 0.8457 - val_accuracy: 0.7700\n",
            "Epoch 25/50\n",
            "50/50 [==============================] - 3s 54ms/step - loss: 0.7538 - accuracy: 0.8062 - val_loss: 0.8342 - val_accuracy: 0.7650\n",
            "Epoch 26/50\n",
            "50/50 [==============================] - 3s 54ms/step - loss: 0.7304 - accuracy: 0.8263 - val_loss: 0.8144 - val_accuracy: 0.7800\n",
            "Epoch 27/50\n",
            "50/50 [==============================] - 3s 54ms/step - loss: 0.7233 - accuracy: 0.8125 - val_loss: 0.8036 - val_accuracy: 0.7800\n",
            "Epoch 28/50\n",
            "50/50 [==============================] - 3s 54ms/step - loss: 0.6874 - accuracy: 0.8288 - val_loss: 0.7876 - val_accuracy: 0.8000\n",
            "Epoch 29/50\n",
            "50/50 [==============================] - 3s 54ms/step - loss: 0.6725 - accuracy: 0.8300 - val_loss: 0.7766 - val_accuracy: 0.8050\n",
            "Epoch 30/50\n",
            "50/50 [==============================] - 3s 54ms/step - loss: 0.6545 - accuracy: 0.8313 - val_loss: 0.7620 - val_accuracy: 0.8050\n",
            "Epoch 31/50\n",
            "50/50 [==============================] - 3s 54ms/step - loss: 0.6294 - accuracy: 0.8475 - val_loss: 0.7568 - val_accuracy: 0.7950\n",
            "Epoch 32/50\n",
            "50/50 [==============================] - 3s 54ms/step - loss: 0.6315 - accuracy: 0.8562 - val_loss: 0.7444 - val_accuracy: 0.8050\n",
            "Epoch 33/50\n",
            "50/50 [==============================] - 3s 54ms/step - loss: 0.6236 - accuracy: 0.8413 - val_loss: 0.7360 - val_accuracy: 0.8050\n",
            "Epoch 34/50\n",
            "50/50 [==============================] - 3s 54ms/step - loss: 0.6242 - accuracy: 0.8438 - val_loss: 0.7238 - val_accuracy: 0.8050\n",
            "Epoch 35/50\n",
            "50/50 [==============================] - 3s 54ms/step - loss: 0.5945 - accuracy: 0.8612 - val_loss: 0.7177 - val_accuracy: 0.8050\n",
            "Epoch 36/50\n",
            "50/50 [==============================] - 3s 54ms/step - loss: 0.5775 - accuracy: 0.8600 - val_loss: 0.7073 - val_accuracy: 0.8050\n",
            "Epoch 37/50\n",
            "50/50 [==============================] - 3s 54ms/step - loss: 0.5830 - accuracy: 0.8500 - val_loss: 0.7037 - val_accuracy: 0.8150\n",
            "Epoch 38/50\n",
            "50/50 [==============================] - 3s 54ms/step - loss: 0.5699 - accuracy: 0.8537 - val_loss: 0.6882 - val_accuracy: 0.8100\n",
            "Epoch 39/50\n",
            "50/50 [==============================] - 3s 54ms/step - loss: 0.5494 - accuracy: 0.8775 - val_loss: 0.6845 - val_accuracy: 0.8200\n",
            "Epoch 40/50\n",
            "50/50 [==============================] - 3s 54ms/step - loss: 0.5630 - accuracy: 0.8475 - val_loss: 0.6788 - val_accuracy: 0.8200\n",
            "Epoch 41/50\n",
            "50/50 [==============================] - 3s 54ms/step - loss: 0.5450 - accuracy: 0.8700 - val_loss: 0.6774 - val_accuracy: 0.8250\n",
            "Epoch 42/50\n",
            "50/50 [==============================] - 3s 54ms/step - loss: 0.5411 - accuracy: 0.8700 - val_loss: 0.6665 - val_accuracy: 0.8200\n",
            "Epoch 43/50\n",
            "50/50 [==============================] - 3s 54ms/step - loss: 0.5216 - accuracy: 0.8600 - val_loss: 0.6575 - val_accuracy: 0.8250\n",
            "Epoch 44/50\n",
            "50/50 [==============================] - 3s 54ms/step - loss: 0.5056 - accuracy: 0.8775 - val_loss: 0.6557 - val_accuracy: 0.8250\n",
            "Epoch 45/50\n",
            "50/50 [==============================] - 3s 54ms/step - loss: 0.5042 - accuracy: 0.8675 - val_loss: 0.6444 - val_accuracy: 0.8250\n",
            "Epoch 46/50\n",
            "50/50 [==============================] - 3s 54ms/step - loss: 0.4989 - accuracy: 0.8775 - val_loss: 0.6393 - val_accuracy: 0.8300\n",
            "Epoch 47/50\n",
            "50/50 [==============================] - 3s 55ms/step - loss: 0.4782 - accuracy: 0.8687 - val_loss: 0.6375 - val_accuracy: 0.8300\n",
            "Epoch 48/50\n",
            "50/50 [==============================] - 3s 54ms/step - loss: 0.4805 - accuracy: 0.8813 - val_loss: 0.6337 - val_accuracy: 0.8350\n",
            "Epoch 49/50\n",
            "50/50 [==============================] - 3s 54ms/step - loss: 0.4632 - accuracy: 0.8888 - val_loss: 0.6277 - val_accuracy: 0.8300\n",
            "Epoch 50/50\n",
            "50/50 [==============================] - 3s 54ms/step - loss: 0.4695 - accuracy: 0.8850 - val_loss: 0.6217 - val_accuracy: 0.8350\n",
            "13/13 [==============================] - 0s 37ms/step - loss: 0.6217 - accuracy: 0.8350\n",
            "Fine-tuned model:\n",
            "Model: \"functional_9\"\n",
            "_________________________________________________________________\n",
            "Layer (type)                 Output Shape              Param #   \n",
            "=================================================================\n",
            "input_10 (InputLayer)        [(None, 299, 299, 3)]     0         \n",
            "_________________________________________________________________\n",
            "sequential_4 (Sequential)    (None, 299, 299, 3)       0         \n",
            "_________________________________________________________________\n",
            "tf_op_layer_RealDiv_4 (Tenso [(None, 299, 299, 3)]     0         \n",
            "_________________________________________________________________\n",
            "tf_op_layer_Sub_4 (TensorFlo [(None, 299, 299, 3)]     0         \n",
            "_________________________________________________________________\n",
            "inception_v3 (Functional)    (None, 8, 8, 2048)        21802784  \n",
            "_________________________________________________________________\n",
            "global_average_pooling2d_4 ( (None, 2048)              0         \n",
            "_________________________________________________________________\n",
            "dropout_4 (Dropout)          (None, 2048)              0         \n",
            "_________________________________________________________________\n",
            "dense_4 (Dense)              (None, 10)                20490     \n",
            "=================================================================\n",
            "Total params: 21,823,274\n",
            "Trainable params: 11,135,370\n",
            "Non-trainable params: 10,687,904\n",
            "_________________________________________________________________\n",
            "Epoch 50/70\n",
            "50/50 [==============================] - 4s 90ms/step - loss: 0.4344 - accuracy: 0.8725 - val_loss: 0.5170 - val_accuracy: 0.8500\n",
            "Epoch 51/70\n",
            "50/50 [==============================] - 4s 70ms/step - loss: 0.3089 - accuracy: 0.9075 - val_loss: 0.4713 - val_accuracy: 0.8700\n",
            "Epoch 52/70\n",
            "50/50 [==============================] - 3s 70ms/step - loss: 0.2326 - accuracy: 0.9250 - val_loss: 0.4619 - val_accuracy: 0.8400\n",
            "Epoch 53/70\n",
            "50/50 [==============================] - 3s 70ms/step - loss: 0.1996 - accuracy: 0.9400 - val_loss: 0.4593 - val_accuracy: 0.8400\n",
            "Epoch 54/70\n",
            "50/50 [==============================] - 3s 70ms/step - loss: 0.1840 - accuracy: 0.9312 - val_loss: 0.4302 - val_accuracy: 0.8600\n",
            "Epoch 55/70\n",
            "50/50 [==============================] - 4s 71ms/step - loss: 0.1346 - accuracy: 0.9613 - val_loss: 0.4249 - val_accuracy: 0.8600\n",
            "Epoch 56/70\n",
            "50/50 [==============================] - 4s 71ms/step - loss: 0.1169 - accuracy: 0.9688 - val_loss: 0.4442 - val_accuracy: 0.8300\n",
            "Epoch 57/70\n",
            "50/50 [==============================] - 4s 70ms/step - loss: 0.0780 - accuracy: 0.9800 - val_loss: 0.4469 - val_accuracy: 0.8550\n",
            "Epoch 58/70\n",
            "50/50 [==============================] - 4s 70ms/step - loss: 0.1039 - accuracy: 0.9675 - val_loss: 0.4560 - val_accuracy: 0.8450\n",
            "Epoch 59/70\n",
            "50/50 [==============================] - 4s 71ms/step - loss: 0.0749 - accuracy: 0.9812 - val_loss: 0.4600 - val_accuracy: 0.8550\n",
            "Epoch 60/70\n",
            "50/50 [==============================] - 4s 70ms/step - loss: 0.0641 - accuracy: 0.9825 - val_loss: 0.4743 - val_accuracy: 0.8650\n",
            "Epoch 61/70\n",
            "50/50 [==============================] - 4s 70ms/step - loss: 0.0394 - accuracy: 0.9887 - val_loss: 0.4691 - val_accuracy: 0.8450\n",
            "Epoch 62/70\n",
            "50/50 [==============================] - 4s 70ms/step - loss: 0.0437 - accuracy: 0.9887 - val_loss: 0.4723 - val_accuracy: 0.8500\n",
            "Epoch 63/70\n",
            "50/50 [==============================] - 4s 71ms/step - loss: 0.0438 - accuracy: 0.9862 - val_loss: 0.4683 - val_accuracy: 0.8700\n",
            "Epoch 64/70\n",
            "50/50 [==============================] - 4s 71ms/step - loss: 0.0268 - accuracy: 0.9925 - val_loss: 0.4763 - val_accuracy: 0.8450\n",
            "Epoch 65/70\n",
            "50/50 [==============================] - 4s 71ms/step - loss: 0.0419 - accuracy: 0.9862 - val_loss: 0.4783 - val_accuracy: 0.8550\n",
            "Epoch 66/70\n",
            "50/50 [==============================] - 4s 71ms/step - loss: 0.0286 - accuracy: 0.9912 - val_loss: 0.4657 - val_accuracy: 0.8700\n",
            "Epoch 67/70\n",
            "50/50 [==============================] - 4s 70ms/step - loss: 0.0273 - accuracy: 0.9925 - val_loss: 0.4713 - val_accuracy: 0.8600\n",
            "Epoch 68/70\n",
            "50/50 [==============================] - 4s 71ms/step - loss: 0.0317 - accuracy: 0.9912 - val_loss: 0.4833 - val_accuracy: 0.8750\n",
            "Epoch 69/70\n",
            "50/50 [==============================] - 4s 71ms/step - loss: 0.0177 - accuracy: 0.9962 - val_loss: 0.4907 - val_accuracy: 0.8700\n",
            "Epoch 70/70\n",
            "50/50 [==============================] - 4s 71ms/step - loss: 0.0230 - accuracy: 0.9937 - val_loss: 0.4779 - val_accuracy: 0.8500\n"
          ]
        }
      ]
    },
    {
      "cell_type": "code",
      "metadata": {
        "id": "W2E72C3O30fv"
      },
      "source": [
        "# cross-validated accuracy for pre-trained model before training\n",
        "print(\"Base model accuracy:\", np.mean(base_model_acc_list))\n",
        "# cross-validated accuracy before fine-tuning\n",
        "print(\"Accuracy before fine-tuning:\", np.mean(pre_trained_acc_list))\n",
        "# cross-validated accuracy after fine-tuning\n",
        "print(\"Final accuracy:\", np.mean(final_acc_list))"
      ],
      "execution_count": 29,
      "outputs": [
        {
          "output_type": "stream",
          "name": "stdout",
          "text": [
            "Base model accuracy: 0.10900000035762787\nAccuracy before fine-tuning: 0.8079999923706055\nFinal accuracy: 0.8570000052452087\n"
          ]
        }
      ]
    },
    {
      "cell_type": "code",
      "metadata": {
        "id": "Dtn-03T_ZaRX"
      },
      "source": [
        "# plot graph of cross-validated accuracies\n",
        "acc = np.mean(history_map['accuracy'], axis=0)\n",
        "val_acc = np.mean(history_map['val_accuracy'], axis=0)\n",
        "\n",
        "plt.figure(1)\n",
        "plt.plot(acc, label='Training Accuracy')\n",
        "plt.plot(val_acc, label='Validation Accuracy')\n",
        "plt.plot([no_epochs-1,no_epochs-1],\n",
        "          plt.ylim(), label='Start Fine Tuning')\n",
        "plt.legend(loc='lower right')\n",
        "plt.ylabel('Accuracy')\n",
        "plt.ylim([min(plt.ylim()),1])\n",
        "plt.title('Training and Validation Accuracy')\n",
        "plt.xlabel('epoch')\n",
        "plt.show()"
      ],
      "execution_count": 30,
      "outputs": [
        {
          "output_type": "display_data",
          "data": {
            "text/plain": "<Figure size 432x288 with 1 Axes>",
            "image/svg+xml": "<?xml version=\"1.0\" encoding=\"utf-8\" standalone=\"no\"?>\r\n<!DOCTYPE svg PUBLIC \"-//W3C//DTD SVG 1.1//EN\"\r\n  \"http://www.w3.org/Graphics/SVG/1.1/DTD/svg11.dtd\">\r\n<!-- Created with matplotlib (http://matplotlib.org/) -->\r\n<svg height=\"277.314375pt\" version=\"1.1\" viewBox=\"0 0 389.28125 277.314375\" width=\"389.28125pt\" xmlns=\"http://www.w3.org/2000/svg\" xmlns:xlink=\"http://www.w3.org/1999/xlink\">\r\n <defs>\r\n  <style type=\"text/css\">\r\n*{stroke-linecap:butt;stroke-linejoin:round;}\r\n  </style>\r\n </defs>\r\n <g id=\"figure_1\">\r\n  <g id=\"patch_1\">\r\n   <path d=\"M 0 277.314375 \r\nL 389.28125 277.314375 \r\nL 389.28125 0 \r\nL 0 0 \r\nz\r\n\" style=\"fill:none;\"/>\r\n  </g>\r\n  <g id=\"axes_1\">\r\n   <g id=\"patch_2\">\r\n    <path d=\"M 43.78125 239.758125 \r\nL 378.58125 239.758125 \r\nL 378.58125 22.318125 \r\nL 43.78125 22.318125 \r\nz\r\n\" style=\"fill:#ffffff;\"/>\r\n   </g>\r\n   <g id=\"matplotlib.axis_1\">\r\n    <g id=\"xtick_1\">\r\n     <g id=\"line2d_1\">\r\n      <defs>\r\n       <path d=\"M 0 0 \r\nL 0 3.5 \r\n\" id=\"m541a1ba8d6\" style=\"stroke:#000000;stroke-width:0.8;\"/>\r\n      </defs>\r\n      <g>\r\n       <use style=\"stroke:#000000;stroke-width:0.8;\" x=\"58.999432\" xlink:href=\"#m541a1ba8d6\" y=\"239.758125\"/>\r\n      </g>\r\n     </g>\r\n     <g id=\"text_1\">\r\n      <!-- 0 -->\r\n      <defs>\r\n       <path d=\"M 31.78125 66.40625 \r\nQ 24.171875 66.40625 20.328125 58.90625 \r\nQ 16.5 51.421875 16.5 36.375 \r\nQ 16.5 21.390625 20.328125 13.890625 \r\nQ 24.171875 6.390625 31.78125 6.390625 \r\nQ 39.453125 6.390625 43.28125 13.890625 \r\nQ 47.125 21.390625 47.125 36.375 \r\nQ 47.125 51.421875 43.28125 58.90625 \r\nQ 39.453125 66.40625 31.78125 66.40625 \r\nz\r\nM 31.78125 74.21875 \r\nQ 44.046875 74.21875 50.515625 64.515625 \r\nQ 56.984375 54.828125 56.984375 36.375 \r\nQ 56.984375 17.96875 50.515625 8.265625 \r\nQ 44.046875 -1.421875 31.78125 -1.421875 \r\nQ 19.53125 -1.421875 13.0625 8.265625 \r\nQ 6.59375 17.96875 6.59375 36.375 \r\nQ 6.59375 54.828125 13.0625 64.515625 \r\nQ 19.53125 74.21875 31.78125 74.21875 \r\nz\r\n\" id=\"DejaVuSans-30\"/>\r\n      </defs>\r\n      <g transform=\"translate(55.818182 254.356562)scale(0.1 -0.1)\">\r\n       <use xlink:href=\"#DejaVuSans-30\"/>\r\n      </g>\r\n     </g>\r\n    </g>\r\n    <g id=\"xtick_2\">\r\n     <g id=\"line2d_2\">\r\n      <g>\r\n       <use style=\"stroke:#000000;stroke-width:0.8;\" x=\"102.479951\" xlink:href=\"#m541a1ba8d6\" y=\"239.758125\"/>\r\n      </g>\r\n     </g>\r\n     <g id=\"text_2\">\r\n      <!-- 10 -->\r\n      <defs>\r\n       <path d=\"M 12.40625 8.296875 \r\nL 28.515625 8.296875 \r\nL 28.515625 63.921875 \r\nL 10.984375 60.40625 \r\nL 10.984375 69.390625 \r\nL 28.421875 72.90625 \r\nL 38.28125 72.90625 \r\nL 38.28125 8.296875 \r\nL 54.390625 8.296875 \r\nL 54.390625 0 \r\nL 12.40625 0 \r\nz\r\n\" id=\"DejaVuSans-31\"/>\r\n      </defs>\r\n      <g transform=\"translate(96.117451 254.356562)scale(0.1 -0.1)\">\r\n       <use xlink:href=\"#DejaVuSans-31\"/>\r\n       <use x=\"63.623047\" xlink:href=\"#DejaVuSans-30\"/>\r\n      </g>\r\n     </g>\r\n    </g>\r\n    <g id=\"xtick_3\">\r\n     <g id=\"line2d_3\">\r\n      <g>\r\n       <use style=\"stroke:#000000;stroke-width:0.8;\" x=\"145.960471\" xlink:href=\"#m541a1ba8d6\" y=\"239.758125\"/>\r\n      </g>\r\n     </g>\r\n     <g id=\"text_3\">\r\n      <!-- 20 -->\r\n      <defs>\r\n       <path d=\"M 19.1875 8.296875 \r\nL 53.609375 8.296875 \r\nL 53.609375 0 \r\nL 7.328125 0 \r\nL 7.328125 8.296875 \r\nQ 12.9375 14.109375 22.625 23.890625 \r\nQ 32.328125 33.6875 34.8125 36.53125 \r\nQ 39.546875 41.84375 41.421875 45.53125 \r\nQ 43.3125 49.21875 43.3125 52.78125 \r\nQ 43.3125 58.59375 39.234375 62.25 \r\nQ 35.15625 65.921875 28.609375 65.921875 \r\nQ 23.96875 65.921875 18.8125 64.3125 \r\nQ 13.671875 62.703125 7.8125 59.421875 \r\nL 7.8125 69.390625 \r\nQ 13.765625 71.78125 18.9375 73 \r\nQ 24.125 74.21875 28.421875 74.21875 \r\nQ 39.75 74.21875 46.484375 68.546875 \r\nQ 53.21875 62.890625 53.21875 53.421875 \r\nQ 53.21875 48.921875 51.53125 44.890625 \r\nQ 49.859375 40.875 45.40625 35.40625 \r\nQ 44.1875 33.984375 37.640625 27.21875 \r\nQ 31.109375 20.453125 19.1875 8.296875 \r\nz\r\n\" id=\"DejaVuSans-32\"/>\r\n      </defs>\r\n      <g transform=\"translate(139.597971 254.356562)scale(0.1 -0.1)\">\r\n       <use xlink:href=\"#DejaVuSans-32\"/>\r\n       <use x=\"63.623047\" xlink:href=\"#DejaVuSans-30\"/>\r\n      </g>\r\n     </g>\r\n    </g>\r\n    <g id=\"xtick_4\">\r\n     <g id=\"line2d_4\">\r\n      <g>\r\n       <use style=\"stroke:#000000;stroke-width:0.8;\" x=\"189.44099\" xlink:href=\"#m541a1ba8d6\" y=\"239.758125\"/>\r\n      </g>\r\n     </g>\r\n     <g id=\"text_4\">\r\n      <!-- 30 -->\r\n      <defs>\r\n       <path d=\"M 40.578125 39.3125 \r\nQ 47.65625 37.796875 51.625 33 \r\nQ 55.609375 28.21875 55.609375 21.1875 \r\nQ 55.609375 10.40625 48.1875 4.484375 \r\nQ 40.765625 -1.421875 27.09375 -1.421875 \r\nQ 22.515625 -1.421875 17.65625 -0.515625 \r\nQ 12.796875 0.390625 7.625 2.203125 \r\nL 7.625 11.71875 \r\nQ 11.71875 9.328125 16.59375 8.109375 \r\nQ 21.484375 6.890625 26.8125 6.890625 \r\nQ 36.078125 6.890625 40.9375 10.546875 \r\nQ 45.796875 14.203125 45.796875 21.1875 \r\nQ 45.796875 27.640625 41.28125 31.265625 \r\nQ 36.765625 34.90625 28.71875 34.90625 \r\nL 20.21875 34.90625 \r\nL 20.21875 43.015625 \r\nL 29.109375 43.015625 \r\nQ 36.375 43.015625 40.234375 45.921875 \r\nQ 44.09375 48.828125 44.09375 54.296875 \r\nQ 44.09375 59.90625 40.109375 62.90625 \r\nQ 36.140625 65.921875 28.71875 65.921875 \r\nQ 24.65625 65.921875 20.015625 65.03125 \r\nQ 15.375 64.15625 9.8125 62.3125 \r\nL 9.8125 71.09375 \r\nQ 15.4375 72.65625 20.34375 73.4375 \r\nQ 25.25 74.21875 29.59375 74.21875 \r\nQ 40.828125 74.21875 47.359375 69.109375 \r\nQ 53.90625 64.015625 53.90625 55.328125 \r\nQ 53.90625 49.265625 50.4375 45.09375 \r\nQ 46.96875 40.921875 40.578125 39.3125 \r\nz\r\n\" id=\"DejaVuSans-33\"/>\r\n      </defs>\r\n      <g transform=\"translate(183.07849 254.356562)scale(0.1 -0.1)\">\r\n       <use xlink:href=\"#DejaVuSans-33\"/>\r\n       <use x=\"63.623047\" xlink:href=\"#DejaVuSans-30\"/>\r\n      </g>\r\n     </g>\r\n    </g>\r\n    <g id=\"xtick_5\">\r\n     <g id=\"line2d_5\">\r\n      <g>\r\n       <use style=\"stroke:#000000;stroke-width:0.8;\" x=\"232.92151\" xlink:href=\"#m541a1ba8d6\" y=\"239.758125\"/>\r\n      </g>\r\n     </g>\r\n     <g id=\"text_5\">\r\n      <!-- 40 -->\r\n      <defs>\r\n       <path d=\"M 37.796875 64.3125 \r\nL 12.890625 25.390625 \r\nL 37.796875 25.390625 \r\nz\r\nM 35.203125 72.90625 \r\nL 47.609375 72.90625 \r\nL 47.609375 25.390625 \r\nL 58.015625 25.390625 \r\nL 58.015625 17.1875 \r\nL 47.609375 17.1875 \r\nL 47.609375 0 \r\nL 37.796875 0 \r\nL 37.796875 17.1875 \r\nL 4.890625 17.1875 \r\nL 4.890625 26.703125 \r\nz\r\n\" id=\"DejaVuSans-34\"/>\r\n      </defs>\r\n      <g transform=\"translate(226.55901 254.356562)scale(0.1 -0.1)\">\r\n       <use xlink:href=\"#DejaVuSans-34\"/>\r\n       <use x=\"63.623047\" xlink:href=\"#DejaVuSans-30\"/>\r\n      </g>\r\n     </g>\r\n    </g>\r\n    <g id=\"xtick_6\">\r\n     <g id=\"line2d_6\">\r\n      <g>\r\n       <use style=\"stroke:#000000;stroke-width:0.8;\" x=\"276.402029\" xlink:href=\"#m541a1ba8d6\" y=\"239.758125\"/>\r\n      </g>\r\n     </g>\r\n     <g id=\"text_6\">\r\n      <!-- 50 -->\r\n      <defs>\r\n       <path d=\"M 10.796875 72.90625 \r\nL 49.515625 72.90625 \r\nL 49.515625 64.59375 \r\nL 19.828125 64.59375 \r\nL 19.828125 46.734375 \r\nQ 21.96875 47.46875 24.109375 47.828125 \r\nQ 26.265625 48.1875 28.421875 48.1875 \r\nQ 40.625 48.1875 47.75 41.5 \r\nQ 54.890625 34.8125 54.890625 23.390625 \r\nQ 54.890625 11.625 47.5625 5.09375 \r\nQ 40.234375 -1.421875 26.90625 -1.421875 \r\nQ 22.3125 -1.421875 17.546875 -0.640625 \r\nQ 12.796875 0.140625 7.71875 1.703125 \r\nL 7.71875 11.625 \r\nQ 12.109375 9.234375 16.796875 8.0625 \r\nQ 21.484375 6.890625 26.703125 6.890625 \r\nQ 35.15625 6.890625 40.078125 11.328125 \r\nQ 45.015625 15.765625 45.015625 23.390625 \r\nQ 45.015625 31 40.078125 35.4375 \r\nQ 35.15625 39.890625 26.703125 39.890625 \r\nQ 22.75 39.890625 18.8125 39.015625 \r\nQ 14.890625 38.140625 10.796875 36.28125 \r\nz\r\n\" id=\"DejaVuSans-35\"/>\r\n      </defs>\r\n      <g transform=\"translate(270.039529 254.356562)scale(0.1 -0.1)\">\r\n       <use xlink:href=\"#DejaVuSans-35\"/>\r\n       <use x=\"63.623047\" xlink:href=\"#DejaVuSans-30\"/>\r\n      </g>\r\n     </g>\r\n    </g>\r\n    <g id=\"xtick_7\">\r\n     <g id=\"line2d_7\">\r\n      <g>\r\n       <use style=\"stroke:#000000;stroke-width:0.8;\" x=\"319.882549\" xlink:href=\"#m541a1ba8d6\" y=\"239.758125\"/>\r\n      </g>\r\n     </g>\r\n     <g id=\"text_7\">\r\n      <!-- 60 -->\r\n      <defs>\r\n       <path d=\"M 33.015625 40.375 \r\nQ 26.375 40.375 22.484375 35.828125 \r\nQ 18.609375 31.296875 18.609375 23.390625 \r\nQ 18.609375 15.53125 22.484375 10.953125 \r\nQ 26.375 6.390625 33.015625 6.390625 \r\nQ 39.65625 6.390625 43.53125 10.953125 \r\nQ 47.40625 15.53125 47.40625 23.390625 \r\nQ 47.40625 31.296875 43.53125 35.828125 \r\nQ 39.65625 40.375 33.015625 40.375 \r\nz\r\nM 52.59375 71.296875 \r\nL 52.59375 62.3125 \r\nQ 48.875 64.0625 45.09375 64.984375 \r\nQ 41.3125 65.921875 37.59375 65.921875 \r\nQ 27.828125 65.921875 22.671875 59.328125 \r\nQ 17.53125 52.734375 16.796875 39.40625 \r\nQ 19.671875 43.65625 24.015625 45.921875 \r\nQ 28.375 48.1875 33.59375 48.1875 \r\nQ 44.578125 48.1875 50.953125 41.515625 \r\nQ 57.328125 34.859375 57.328125 23.390625 \r\nQ 57.328125 12.15625 50.6875 5.359375 \r\nQ 44.046875 -1.421875 33.015625 -1.421875 \r\nQ 20.359375 -1.421875 13.671875 8.265625 \r\nQ 6.984375 17.96875 6.984375 36.375 \r\nQ 6.984375 53.65625 15.1875 63.9375 \r\nQ 23.390625 74.21875 37.203125 74.21875 \r\nQ 40.921875 74.21875 44.703125 73.484375 \r\nQ 48.484375 72.75 52.59375 71.296875 \r\nz\r\n\" id=\"DejaVuSans-36\"/>\r\n      </defs>\r\n      <g transform=\"translate(313.520049 254.356562)scale(0.1 -0.1)\">\r\n       <use xlink:href=\"#DejaVuSans-36\"/>\r\n       <use x=\"63.623047\" xlink:href=\"#DejaVuSans-30\"/>\r\n      </g>\r\n     </g>\r\n    </g>\r\n    <g id=\"xtick_8\">\r\n     <g id=\"line2d_8\">\r\n      <g>\r\n       <use style=\"stroke:#000000;stroke-width:0.8;\" x=\"363.363068\" xlink:href=\"#m541a1ba8d6\" y=\"239.758125\"/>\r\n      </g>\r\n     </g>\r\n     <g id=\"text_8\">\r\n      <!-- 70 -->\r\n      <defs>\r\n       <path d=\"M 8.203125 72.90625 \r\nL 55.078125 72.90625 \r\nL 55.078125 68.703125 \r\nL 28.609375 0 \r\nL 18.3125 0 \r\nL 43.21875 64.59375 \r\nL 8.203125 64.59375 \r\nz\r\n\" id=\"DejaVuSans-37\"/>\r\n      </defs>\r\n      <g transform=\"translate(357.000568 254.356562)scale(0.1 -0.1)\">\r\n       <use xlink:href=\"#DejaVuSans-37\"/>\r\n       <use x=\"63.623047\" xlink:href=\"#DejaVuSans-30\"/>\r\n      </g>\r\n     </g>\r\n    </g>\r\n    <g id=\"text_9\">\r\n     <!-- epoch -->\r\n     <defs>\r\n      <path d=\"M 56.203125 29.59375 \r\nL 56.203125 25.203125 \r\nL 14.890625 25.203125 \r\nQ 15.484375 15.921875 20.484375 11.0625 \r\nQ 25.484375 6.203125 34.421875 6.203125 \r\nQ 39.59375 6.203125 44.453125 7.46875 \r\nQ 49.3125 8.734375 54.109375 11.28125 \r\nL 54.109375 2.78125 \r\nQ 49.265625 0.734375 44.1875 -0.34375 \r\nQ 39.109375 -1.421875 33.890625 -1.421875 \r\nQ 20.796875 -1.421875 13.15625 6.1875 \r\nQ 5.515625 13.8125 5.515625 26.8125 \r\nQ 5.515625 40.234375 12.765625 48.109375 \r\nQ 20.015625 56 32.328125 56 \r\nQ 43.359375 56 49.78125 48.890625 \r\nQ 56.203125 41.796875 56.203125 29.59375 \r\nz\r\nM 47.21875 32.234375 \r\nQ 47.125 39.59375 43.09375 43.984375 \r\nQ 39.0625 48.390625 32.421875 48.390625 \r\nQ 24.90625 48.390625 20.390625 44.140625 \r\nQ 15.875 39.890625 15.1875 32.171875 \r\nz\r\n\" id=\"DejaVuSans-65\"/>\r\n      <path d=\"M 18.109375 8.203125 \r\nL 18.109375 -20.796875 \r\nL 9.078125 -20.796875 \r\nL 9.078125 54.6875 \r\nL 18.109375 54.6875 \r\nL 18.109375 46.390625 \r\nQ 20.953125 51.265625 25.265625 53.625 \r\nQ 29.59375 56 35.59375 56 \r\nQ 45.5625 56 51.78125 48.09375 \r\nQ 58.015625 40.1875 58.015625 27.296875 \r\nQ 58.015625 14.40625 51.78125 6.484375 \r\nQ 45.5625 -1.421875 35.59375 -1.421875 \r\nQ 29.59375 -1.421875 25.265625 0.953125 \r\nQ 20.953125 3.328125 18.109375 8.203125 \r\nz\r\nM 48.6875 27.296875 \r\nQ 48.6875 37.203125 44.609375 42.84375 \r\nQ 40.53125 48.484375 33.40625 48.484375 \r\nQ 26.265625 48.484375 22.1875 42.84375 \r\nQ 18.109375 37.203125 18.109375 27.296875 \r\nQ 18.109375 17.390625 22.1875 11.75 \r\nQ 26.265625 6.109375 33.40625 6.109375 \r\nQ 40.53125 6.109375 44.609375 11.75 \r\nQ 48.6875 17.390625 48.6875 27.296875 \r\nz\r\n\" id=\"DejaVuSans-70\"/>\r\n      <path d=\"M 30.609375 48.390625 \r\nQ 23.390625 48.390625 19.1875 42.75 \r\nQ 14.984375 37.109375 14.984375 27.296875 \r\nQ 14.984375 17.484375 19.15625 11.84375 \r\nQ 23.34375 6.203125 30.609375 6.203125 \r\nQ 37.796875 6.203125 41.984375 11.859375 \r\nQ 46.1875 17.53125 46.1875 27.296875 \r\nQ 46.1875 37.015625 41.984375 42.703125 \r\nQ 37.796875 48.390625 30.609375 48.390625 \r\nz\r\nM 30.609375 56 \r\nQ 42.328125 56 49.015625 48.375 \r\nQ 55.71875 40.765625 55.71875 27.296875 \r\nQ 55.71875 13.875 49.015625 6.21875 \r\nQ 42.328125 -1.421875 30.609375 -1.421875 \r\nQ 18.84375 -1.421875 12.171875 6.21875 \r\nQ 5.515625 13.875 5.515625 27.296875 \r\nQ 5.515625 40.765625 12.171875 48.375 \r\nQ 18.84375 56 30.609375 56 \r\nz\r\n\" id=\"DejaVuSans-6f\"/>\r\n      <path d=\"M 48.78125 52.59375 \r\nL 48.78125 44.1875 \r\nQ 44.96875 46.296875 41.140625 47.34375 \r\nQ 37.3125 48.390625 33.40625 48.390625 \r\nQ 24.65625 48.390625 19.8125 42.84375 \r\nQ 14.984375 37.3125 14.984375 27.296875 \r\nQ 14.984375 17.28125 19.8125 11.734375 \r\nQ 24.65625 6.203125 33.40625 6.203125 \r\nQ 37.3125 6.203125 41.140625 7.25 \r\nQ 44.96875 8.296875 48.78125 10.40625 \r\nL 48.78125 2.09375 \r\nQ 45.015625 0.34375 40.984375 -0.53125 \r\nQ 36.96875 -1.421875 32.421875 -1.421875 \r\nQ 20.0625 -1.421875 12.78125 6.34375 \r\nQ 5.515625 14.109375 5.515625 27.296875 \r\nQ 5.515625 40.671875 12.859375 48.328125 \r\nQ 20.21875 56 33.015625 56 \r\nQ 37.15625 56 41.109375 55.140625 \r\nQ 45.0625 54.296875 48.78125 52.59375 \r\nz\r\n\" id=\"DejaVuSans-63\"/>\r\n      <path d=\"M 54.890625 33.015625 \r\nL 54.890625 0 \r\nL 45.90625 0 \r\nL 45.90625 32.71875 \r\nQ 45.90625 40.484375 42.875 44.328125 \r\nQ 39.84375 48.1875 33.796875 48.1875 \r\nQ 26.515625 48.1875 22.3125 43.546875 \r\nQ 18.109375 38.921875 18.109375 30.90625 \r\nL 18.109375 0 \r\nL 9.078125 0 \r\nL 9.078125 75.984375 \r\nL 18.109375 75.984375 \r\nL 18.109375 46.1875 \r\nQ 21.34375 51.125 25.703125 53.5625 \r\nQ 30.078125 56 35.796875 56 \r\nQ 45.21875 56 50.046875 50.171875 \r\nQ 54.890625 44.34375 54.890625 33.015625 \r\nz\r\n\" id=\"DejaVuSans-68\"/>\r\n     </defs>\r\n     <g transform=\"translate(195.953125 268.034687)scale(0.1 -0.1)\">\r\n      <use xlink:href=\"#DejaVuSans-65\"/>\r\n      <use x=\"61.523438\" xlink:href=\"#DejaVuSans-70\"/>\r\n      <use x=\"125\" xlink:href=\"#DejaVuSans-6f\"/>\r\n      <use x=\"186.181641\" xlink:href=\"#DejaVuSans-63\"/>\r\n      <use x=\"241.162109\" xlink:href=\"#DejaVuSans-68\"/>\r\n     </g>\r\n    </g>\r\n   </g>\r\n   <g id=\"matplotlib.axis_2\">\r\n    <g id=\"ytick_1\">\r\n     <g id=\"line2d_9\">\r\n      <defs>\r\n       <path d=\"M 0 0 \r\nL -3.5 0 \r\n\" id=\"mbac0f103a1\" style=\"stroke:#000000;stroke-width:0.8;\"/>\r\n      </defs>\r\n      <g>\r\n       <use style=\"stroke:#000000;stroke-width:0.8;\" x=\"43.78125\" xlink:href=\"#mbac0f103a1\" y=\"203.827258\"/>\r\n      </g>\r\n     </g>\r\n     <g id=\"text_10\">\r\n      <!-- 0.2 -->\r\n      <defs>\r\n       <path d=\"M 10.6875 12.40625 \r\nL 21 12.40625 \r\nL 21 0 \r\nL 10.6875 0 \r\nz\r\n\" id=\"DejaVuSans-2e\"/>\r\n      </defs>\r\n      <g transform=\"translate(20.878125 207.626477)scale(0.1 -0.1)\">\r\n       <use xlink:href=\"#DejaVuSans-30\"/>\r\n       <use x=\"63.623047\" xlink:href=\"#DejaVuSans-2e\"/>\r\n       <use x=\"95.410156\" xlink:href=\"#DejaVuSans-32\"/>\r\n      </g>\r\n     </g>\r\n    </g>\r\n    <g id=\"ytick_2\">\r\n     <g id=\"line2d_10\">\r\n      <g>\r\n       <use style=\"stroke:#000000;stroke-width:0.8;\" x=\"43.78125\" xlink:href=\"#mbac0f103a1\" y=\"158.449975\"/>\r\n      </g>\r\n     </g>\r\n     <g id=\"text_11\">\r\n      <!-- 0.4 -->\r\n      <g transform=\"translate(20.878125 162.249194)scale(0.1 -0.1)\">\r\n       <use xlink:href=\"#DejaVuSans-30\"/>\r\n       <use x=\"63.623047\" xlink:href=\"#DejaVuSans-2e\"/>\r\n       <use x=\"95.410156\" xlink:href=\"#DejaVuSans-34\"/>\r\n      </g>\r\n     </g>\r\n    </g>\r\n    <g id=\"ytick_3\">\r\n     <g id=\"line2d_11\">\r\n      <g>\r\n       <use style=\"stroke:#000000;stroke-width:0.8;\" x=\"43.78125\" xlink:href=\"#mbac0f103a1\" y=\"113.072692\"/>\r\n      </g>\r\n     </g>\r\n     <g id=\"text_12\">\r\n      <!-- 0.6 -->\r\n      <g transform=\"translate(20.878125 116.87191)scale(0.1 -0.1)\">\r\n       <use xlink:href=\"#DejaVuSans-30\"/>\r\n       <use x=\"63.623047\" xlink:href=\"#DejaVuSans-2e\"/>\r\n       <use x=\"95.410156\" xlink:href=\"#DejaVuSans-36\"/>\r\n      </g>\r\n     </g>\r\n    </g>\r\n    <g id=\"ytick_4\">\r\n     <g id=\"line2d_12\">\r\n      <g>\r\n       <use style=\"stroke:#000000;stroke-width:0.8;\" x=\"43.78125\" xlink:href=\"#mbac0f103a1\" y=\"67.695408\"/>\r\n      </g>\r\n     </g>\r\n     <g id=\"text_13\">\r\n      <!-- 0.8 -->\r\n      <defs>\r\n       <path d=\"M 31.78125 34.625 \r\nQ 24.75 34.625 20.71875 30.859375 \r\nQ 16.703125 27.09375 16.703125 20.515625 \r\nQ 16.703125 13.921875 20.71875 10.15625 \r\nQ 24.75 6.390625 31.78125 6.390625 \r\nQ 38.8125 6.390625 42.859375 10.171875 \r\nQ 46.921875 13.96875 46.921875 20.515625 \r\nQ 46.921875 27.09375 42.890625 30.859375 \r\nQ 38.875 34.625 31.78125 34.625 \r\nz\r\nM 21.921875 38.8125 \r\nQ 15.578125 40.375 12.03125 44.71875 \r\nQ 8.5 49.078125 8.5 55.328125 \r\nQ 8.5 64.0625 14.71875 69.140625 \r\nQ 20.953125 74.21875 31.78125 74.21875 \r\nQ 42.671875 74.21875 48.875 69.140625 \r\nQ 55.078125 64.0625 55.078125 55.328125 \r\nQ 55.078125 49.078125 51.53125 44.71875 \r\nQ 48 40.375 41.703125 38.8125 \r\nQ 48.828125 37.15625 52.796875 32.3125 \r\nQ 56.78125 27.484375 56.78125 20.515625 \r\nQ 56.78125 9.90625 50.3125 4.234375 \r\nQ 43.84375 -1.421875 31.78125 -1.421875 \r\nQ 19.734375 -1.421875 13.25 4.234375 \r\nQ 6.78125 9.90625 6.78125 20.515625 \r\nQ 6.78125 27.484375 10.78125 32.3125 \r\nQ 14.796875 37.15625 21.921875 38.8125 \r\nz\r\nM 18.3125 54.390625 \r\nQ 18.3125 48.734375 21.84375 45.5625 \r\nQ 25.390625 42.390625 31.78125 42.390625 \r\nQ 38.140625 42.390625 41.71875 45.5625 \r\nQ 45.3125 48.734375 45.3125 54.390625 \r\nQ 45.3125 60.0625 41.71875 63.234375 \r\nQ 38.140625 66.40625 31.78125 66.40625 \r\nQ 25.390625 66.40625 21.84375 63.234375 \r\nQ 18.3125 60.0625 18.3125 54.390625 \r\nz\r\n\" id=\"DejaVuSans-38\"/>\r\n      </defs>\r\n      <g transform=\"translate(20.878125 71.494627)scale(0.1 -0.1)\">\r\n       <use xlink:href=\"#DejaVuSans-30\"/>\r\n       <use x=\"63.623047\" xlink:href=\"#DejaVuSans-2e\"/>\r\n       <use x=\"95.410156\" xlink:href=\"#DejaVuSans-38\"/>\r\n      </g>\r\n     </g>\r\n    </g>\r\n    <g id=\"ytick_5\">\r\n     <g id=\"line2d_13\">\r\n      <g>\r\n       <use style=\"stroke:#000000;stroke-width:0.8;\" x=\"43.78125\" xlink:href=\"#mbac0f103a1\" y=\"22.318125\"/>\r\n      </g>\r\n     </g>\r\n     <g id=\"text_14\">\r\n      <!-- 1.0 -->\r\n      <g transform=\"translate(20.878125 26.117344)scale(0.1 -0.1)\">\r\n       <use xlink:href=\"#DejaVuSans-31\"/>\r\n       <use x=\"63.623047\" xlink:href=\"#DejaVuSans-2e\"/>\r\n       <use x=\"95.410156\" xlink:href=\"#DejaVuSans-30\"/>\r\n      </g>\r\n     </g>\r\n    </g>\r\n    <g id=\"text_15\">\r\n     <!-- Accuracy -->\r\n     <defs>\r\n      <path d=\"M 34.1875 63.1875 \r\nL 20.796875 26.90625 \r\nL 47.609375 26.90625 \r\nz\r\nM 28.609375 72.90625 \r\nL 39.796875 72.90625 \r\nL 67.578125 0 \r\nL 57.328125 0 \r\nL 50.6875 18.703125 \r\nL 17.828125 18.703125 \r\nL 11.1875 0 \r\nL 0.78125 0 \r\nz\r\n\" id=\"DejaVuSans-41\"/>\r\n      <path d=\"M 8.5 21.578125 \r\nL 8.5 54.6875 \r\nL 17.484375 54.6875 \r\nL 17.484375 21.921875 \r\nQ 17.484375 14.15625 20.5 10.265625 \r\nQ 23.53125 6.390625 29.59375 6.390625 \r\nQ 36.859375 6.390625 41.078125 11.03125 \r\nQ 45.3125 15.671875 45.3125 23.6875 \r\nL 45.3125 54.6875 \r\nL 54.296875 54.6875 \r\nL 54.296875 0 \r\nL 45.3125 0 \r\nL 45.3125 8.40625 \r\nQ 42.046875 3.421875 37.71875 1 \r\nQ 33.40625 -1.421875 27.6875 -1.421875 \r\nQ 18.265625 -1.421875 13.375 4.4375 \r\nQ 8.5 10.296875 8.5 21.578125 \r\nz\r\nM 31.109375 56 \r\nz\r\n\" id=\"DejaVuSans-75\"/>\r\n      <path d=\"M 41.109375 46.296875 \r\nQ 39.59375 47.171875 37.8125 47.578125 \r\nQ 36.03125 48 33.890625 48 \r\nQ 26.265625 48 22.1875 43.046875 \r\nQ 18.109375 38.09375 18.109375 28.8125 \r\nL 18.109375 0 \r\nL 9.078125 0 \r\nL 9.078125 54.6875 \r\nL 18.109375 54.6875 \r\nL 18.109375 46.1875 \r\nQ 20.953125 51.171875 25.484375 53.578125 \r\nQ 30.03125 56 36.53125 56 \r\nQ 37.453125 56 38.578125 55.875 \r\nQ 39.703125 55.765625 41.0625 55.515625 \r\nz\r\n\" id=\"DejaVuSans-72\"/>\r\n      <path d=\"M 34.28125 27.484375 \r\nQ 23.390625 27.484375 19.1875 25 \r\nQ 14.984375 22.515625 14.984375 16.5 \r\nQ 14.984375 11.71875 18.140625 8.90625 \r\nQ 21.296875 6.109375 26.703125 6.109375 \r\nQ 34.1875 6.109375 38.703125 11.40625 \r\nQ 43.21875 16.703125 43.21875 25.484375 \r\nL 43.21875 27.484375 \r\nz\r\nM 52.203125 31.203125 \r\nL 52.203125 0 \r\nL 43.21875 0 \r\nL 43.21875 8.296875 \r\nQ 40.140625 3.328125 35.546875 0.953125 \r\nQ 30.953125 -1.421875 24.3125 -1.421875 \r\nQ 15.921875 -1.421875 10.953125 3.296875 \r\nQ 6 8.015625 6 15.921875 \r\nQ 6 25.140625 12.171875 29.828125 \r\nQ 18.359375 34.515625 30.609375 34.515625 \r\nL 43.21875 34.515625 \r\nL 43.21875 35.40625 \r\nQ 43.21875 41.609375 39.140625 45 \r\nQ 35.0625 48.390625 27.6875 48.390625 \r\nQ 23 48.390625 18.546875 47.265625 \r\nQ 14.109375 46.140625 10.015625 43.890625 \r\nL 10.015625 52.203125 \r\nQ 14.9375 54.109375 19.578125 55.046875 \r\nQ 24.21875 56 28.609375 56 \r\nQ 40.484375 56 46.34375 49.84375 \r\nQ 52.203125 43.703125 52.203125 31.203125 \r\nz\r\n\" id=\"DejaVuSans-61\"/>\r\n      <path d=\"M 32.171875 -5.078125 \r\nQ 28.375 -14.84375 24.75 -17.8125 \r\nQ 21.140625 -20.796875 15.09375 -20.796875 \r\nL 7.90625 -20.796875 \r\nL 7.90625 -13.28125 \r\nL 13.1875 -13.28125 \r\nQ 16.890625 -13.28125 18.9375 -11.515625 \r\nQ 21 -9.765625 23.484375 -3.21875 \r\nL 25.09375 0.875 \r\nL 2.984375 54.6875 \r\nL 12.5 54.6875 \r\nL 29.59375 11.921875 \r\nL 46.6875 54.6875 \r\nL 56.203125 54.6875 \r\nz\r\n\" id=\"DejaVuSans-79\"/>\r\n     </defs>\r\n     <g transform=\"translate(14.798438 153.952969)rotate(-90)scale(0.1 -0.1)\">\r\n      <use xlink:href=\"#DejaVuSans-41\"/>\r\n      <use x=\"68.392578\" xlink:href=\"#DejaVuSans-63\"/>\r\n      <use x=\"123.373047\" xlink:href=\"#DejaVuSans-63\"/>\r\n      <use x=\"178.353516\" xlink:href=\"#DejaVuSans-75\"/>\r\n      <use x=\"241.732422\" xlink:href=\"#DejaVuSans-72\"/>\r\n      <use x=\"282.845703\" xlink:href=\"#DejaVuSans-61\"/>\r\n      <use x=\"344.125\" xlink:href=\"#DejaVuSans-63\"/>\r\n      <use x=\"399.105469\" xlink:href=\"#DejaVuSans-79\"/>\r\n     </g>\r\n    </g>\r\n   </g>\r\n   <g id=\"line2d_14\">\r\n    <path clip-path=\"url(#p92eec66884)\" d=\"M 58.999432 219.198813 \r\nL 63.347484 201.331509 \r\nL 67.695536 180.457957 \r\nL 72.043588 159.868017 \r\nL 76.39164 142.341039 \r\nL 80.739692 132.074429 \r\nL 85.087744 119.255347 \r\nL 89.435795 106.2661 \r\nL 93.783847 103.089688 \r\nL 98.131899 99.175897 \r\nL 102.479951 92.142417 \r\nL 106.828003 88.001742 \r\nL 111.176055 83.123686 \r\nL 115.524107 79.833831 \r\nL 119.872159 75.125938 \r\nL 124.220211 75.352824 \r\nL 128.568263 74.16167 \r\nL 132.916315 69.283612 \r\nL 137.264367 70.985264 \r\nL 141.612419 68.943282 \r\nL 145.960471 67.808851 \r\nL 150.308523 65.65343 \r\nL 154.656575 65.369823 \r\nL 159.004627 64.065224 \r\nL 163.352679 62.4203 \r\nL 167.700731 61.796362 \r\nL 172.048782 61.115703 \r\nL 176.396834 60.888817 \r\nL 180.744886 57.088469 \r\nL 185.092938 58.279623 \r\nL 189.44099 56.9183 \r\nL 193.789042 57.201912 \r\nL 198.137094 56.067481 \r\nL 202.485146 57.258632 \r\nL 206.833198 55.273379 \r\nL 211.18125 54.535998 \r\nL 215.529302 54.138946 \r\nL 219.877354 53.91206 \r\nL 224.225406 52.267136 \r\nL 228.573458 54.138943 \r\nL 232.92151 49.941546 \r\nL 237.269562 51.019256 \r\nL 241.617614 51.359586 \r\nL 245.965666 50.678927 \r\nL 250.313718 50.054991 \r\nL 254.661769 49.601216 \r\nL 259.009821 49.147441 \r\nL 263.357873 47.89957 \r\nL 267.705925 48.069733 \r\nL 272.053977 48.296622 \r\nL 276.402029 50.281878 \r\nL 280.750081 43.36184 \r\nL 285.098133 39.391326 \r\nL 289.446185 37.009019 \r\nL 293.794237 33.605728 \r\nL 298.142289 31.904076 \r\nL 302.490341 29.408323 \r\nL 306.838393 27.479787 \r\nL 311.186445 27.763399 \r\nL 315.534497 26.969295 \r\nL 319.882549 25.721418 \r\nL 324.230601 25.097485 \r\nL 328.578653 25.324371 \r\nL 332.926705 24.984045 \r\nL 337.274756 24.303383 \r\nL 341.622808 23.792891 \r\nL 345.97086 23.906334 \r\nL 350.318912 24.076497 \r\nL 354.666964 24.076497 \r\nL 359.015016 23.792888 \r\nL 363.363068 23.395839 \r\n\" style=\"fill:none;stroke:#1f77b4;stroke-linecap:square;stroke-width:1.5;\"/>\r\n   </g>\r\n   <g id=\"line2d_15\">\r\n    <path clip-path=\"url(#p92eec66884)\" d=\"M 58.999432 210.633851 \r\nL 63.347484 185.44946 \r\nL 67.695536 166.617885 \r\nL 72.043588 146.878768 \r\nL 76.39164 132.584924 \r\nL 80.739692 118.971736 \r\nL 85.087744 111.030716 \r\nL 89.435795 103.997238 \r\nL 93.783847 99.23262 \r\nL 98.131899 96.736866 \r\nL 102.479951 92.426026 \r\nL 106.828003 88.342072 \r\nL 111.176055 86.526982 \r\nL 115.524107 85.165662 \r\nL 119.872159 80.627933 \r\nL 124.220211 80.17416 \r\nL 128.568263 77.678412 \r\nL 132.916315 78.359071 \r\nL 137.264367 76.090206 \r\nL 141.612419 75.86332 \r\nL 145.960471 75.636433 \r\nL 150.308523 74.502002 \r\nL 154.656575 73.140683 \r\nL 159.004627 73.594455 \r\nL 163.352679 72.68691 \r\nL 167.700731 71.552479 \r\nL 172.048782 71.552479 \r\nL 176.396834 71.779363 \r\nL 180.744886 69.964273 \r\nL 185.092938 69.283614 \r\nL 189.44099 70.644932 \r\nL 193.789042 69.056728 \r\nL 198.137094 67.468522 \r\nL 202.485146 68.37607 \r\nL 206.833198 68.37607 \r\nL 211.18125 67.922295 \r\nL 215.529302 67.695411 \r\nL 219.877354 67.468525 \r\nL 224.225406 67.468525 \r\nL 228.573458 67.695411 \r\nL 232.92151 67.241639 \r\nL 237.269562 67.01475 \r\nL 241.617614 66.107205 \r\nL 245.965666 67.014752 \r\nL 250.313718 67.01475 \r\nL 254.661769 66.334094 \r\nL 259.009821 66.107205 \r\nL 263.357873 65.653433 \r\nL 267.705925 65.199657 \r\nL 272.053977 65.880319 \r\nL 276.402029 62.703907 \r\nL 280.750081 61.115703 \r\nL 285.098133 62.930795 \r\nL 289.446185 62.250137 \r\nL 293.794237 60.208156 \r\nL 298.142289 62.477023 \r\nL 302.490341 61.569476 \r\nL 306.838393 60.208153 \r\nL 311.186445 61.796359 \r\nL 315.534497 59.073725 \r\nL 319.882549 58.393061 \r\nL 324.230601 59.981267 \r\nL 328.578653 62.703909 \r\nL 332.926705 59.5275 \r\nL 337.274756 60.435042 \r\nL 341.622808 59.073722 \r\nL 345.97086 58.619952 \r\nL 350.318912 61.1157 \r\nL 354.666964 57.485521 \r\nL 359.015016 59.981269 \r\nL 363.363068 59.527494 \r\n\" style=\"fill:none;stroke:#ff7f0e;stroke-linecap:square;stroke-width:1.5;\"/>\r\n   </g>\r\n   <g id=\"line2d_16\">\r\n    <path clip-path=\"url(#p92eec66884)\" d=\"M 272.053977 228.988961 \r\nL 272.053977 13.60569 \r\n\" style=\"fill:none;stroke:#2ca02c;stroke-linecap:square;stroke-width:1.5;\"/>\r\n   </g>\r\n   <g id=\"patch_3\">\r\n    <path d=\"M 43.78125 239.758125 \r\nL 43.78125 22.318125 \r\n\" style=\"fill:none;stroke:#000000;stroke-linecap:square;stroke-linejoin:miter;stroke-width:0.8;\"/>\r\n   </g>\r\n   <g id=\"patch_4\">\r\n    <path d=\"M 378.58125 239.758125 \r\nL 378.58125 22.318125 \r\n\" style=\"fill:none;stroke:#000000;stroke-linecap:square;stroke-linejoin:miter;stroke-width:0.8;\"/>\r\n   </g>\r\n   <g id=\"patch_5\">\r\n    <path d=\"M 43.78125 239.758125 \r\nL 378.58125 239.758125 \r\n\" style=\"fill:none;stroke:#000000;stroke-linecap:square;stroke-linejoin:miter;stroke-width:0.8;\"/>\r\n   </g>\r\n   <g id=\"patch_6\">\r\n    <path d=\"M 43.78125 22.318125 \r\nL 378.58125 22.318125 \r\n\" style=\"fill:none;stroke:#000000;stroke-linecap:square;stroke-linejoin:miter;stroke-width:0.8;\"/>\r\n   </g>\r\n   <g id=\"text_16\">\r\n    <!-- Training and Validation Accuracy -->\r\n    <defs>\r\n     <path d=\"M -0.296875 72.90625 \r\nL 61.375 72.90625 \r\nL 61.375 64.59375 \r\nL 35.5 64.59375 \r\nL 35.5 0 \r\nL 25.59375 0 \r\nL 25.59375 64.59375 \r\nL -0.296875 64.59375 \r\nz\r\n\" id=\"DejaVuSans-54\"/>\r\n     <path d=\"M 9.421875 54.6875 \r\nL 18.40625 54.6875 \r\nL 18.40625 0 \r\nL 9.421875 0 \r\nz\r\nM 9.421875 75.984375 \r\nL 18.40625 75.984375 \r\nL 18.40625 64.59375 \r\nL 9.421875 64.59375 \r\nz\r\n\" id=\"DejaVuSans-69\"/>\r\n     <path d=\"M 54.890625 33.015625 \r\nL 54.890625 0 \r\nL 45.90625 0 \r\nL 45.90625 32.71875 \r\nQ 45.90625 40.484375 42.875 44.328125 \r\nQ 39.84375 48.1875 33.796875 48.1875 \r\nQ 26.515625 48.1875 22.3125 43.546875 \r\nQ 18.109375 38.921875 18.109375 30.90625 \r\nL 18.109375 0 \r\nL 9.078125 0 \r\nL 9.078125 54.6875 \r\nL 18.109375 54.6875 \r\nL 18.109375 46.1875 \r\nQ 21.34375 51.125 25.703125 53.5625 \r\nQ 30.078125 56 35.796875 56 \r\nQ 45.21875 56 50.046875 50.171875 \r\nQ 54.890625 44.34375 54.890625 33.015625 \r\nz\r\n\" id=\"DejaVuSans-6e\"/>\r\n     <path d=\"M 45.40625 27.984375 \r\nQ 45.40625 37.75 41.375 43.109375 \r\nQ 37.359375 48.484375 30.078125 48.484375 \r\nQ 22.859375 48.484375 18.828125 43.109375 \r\nQ 14.796875 37.75 14.796875 27.984375 \r\nQ 14.796875 18.265625 18.828125 12.890625 \r\nQ 22.859375 7.515625 30.078125 7.515625 \r\nQ 37.359375 7.515625 41.375 12.890625 \r\nQ 45.40625 18.265625 45.40625 27.984375 \r\nz\r\nM 54.390625 6.78125 \r\nQ 54.390625 -7.171875 48.1875 -13.984375 \r\nQ 42 -20.796875 29.203125 -20.796875 \r\nQ 24.46875 -20.796875 20.265625 -20.09375 \r\nQ 16.0625 -19.390625 12.109375 -17.921875 \r\nL 12.109375 -9.1875 \r\nQ 16.0625 -11.328125 19.921875 -12.34375 \r\nQ 23.78125 -13.375 27.78125 -13.375 \r\nQ 36.625 -13.375 41.015625 -8.765625 \r\nQ 45.40625 -4.15625 45.40625 5.171875 \r\nL 45.40625 9.625 \r\nQ 42.625 4.78125 38.28125 2.390625 \r\nQ 33.9375 0 27.875 0 \r\nQ 17.828125 0 11.671875 7.65625 \r\nQ 5.515625 15.328125 5.515625 27.984375 \r\nQ 5.515625 40.671875 11.671875 48.328125 \r\nQ 17.828125 56 27.875 56 \r\nQ 33.9375 56 38.28125 53.609375 \r\nQ 42.625 51.21875 45.40625 46.390625 \r\nL 45.40625 54.6875 \r\nL 54.390625 54.6875 \r\nz\r\n\" id=\"DejaVuSans-67\"/>\r\n     <path id=\"DejaVuSans-20\"/>\r\n     <path d=\"M 45.40625 46.390625 \r\nL 45.40625 75.984375 \r\nL 54.390625 75.984375 \r\nL 54.390625 0 \r\nL 45.40625 0 \r\nL 45.40625 8.203125 \r\nQ 42.578125 3.328125 38.25 0.953125 \r\nQ 33.9375 -1.421875 27.875 -1.421875 \r\nQ 17.96875 -1.421875 11.734375 6.484375 \r\nQ 5.515625 14.40625 5.515625 27.296875 \r\nQ 5.515625 40.1875 11.734375 48.09375 \r\nQ 17.96875 56 27.875 56 \r\nQ 33.9375 56 38.25 53.625 \r\nQ 42.578125 51.265625 45.40625 46.390625 \r\nz\r\nM 14.796875 27.296875 \r\nQ 14.796875 17.390625 18.875 11.75 \r\nQ 22.953125 6.109375 30.078125 6.109375 \r\nQ 37.203125 6.109375 41.296875 11.75 \r\nQ 45.40625 17.390625 45.40625 27.296875 \r\nQ 45.40625 37.203125 41.296875 42.84375 \r\nQ 37.203125 48.484375 30.078125 48.484375 \r\nQ 22.953125 48.484375 18.875 42.84375 \r\nQ 14.796875 37.203125 14.796875 27.296875 \r\nz\r\n\" id=\"DejaVuSans-64\"/>\r\n     <path d=\"M 28.609375 0 \r\nL 0.78125 72.90625 \r\nL 11.078125 72.90625 \r\nL 34.1875 11.53125 \r\nL 57.328125 72.90625 \r\nL 67.578125 72.90625 \r\nL 39.796875 0 \r\nz\r\n\" id=\"DejaVuSans-56\"/>\r\n     <path d=\"M 9.421875 75.984375 \r\nL 18.40625 75.984375 \r\nL 18.40625 0 \r\nL 9.421875 0 \r\nz\r\n\" id=\"DejaVuSans-6c\"/>\r\n     <path d=\"M 18.3125 70.21875 \r\nL 18.3125 54.6875 \r\nL 36.8125 54.6875 \r\nL 36.8125 47.703125 \r\nL 18.3125 47.703125 \r\nL 18.3125 18.015625 \r\nQ 18.3125 11.328125 20.140625 9.421875 \r\nQ 21.96875 7.515625 27.59375 7.515625 \r\nL 36.8125 7.515625 \r\nL 36.8125 0 \r\nL 27.59375 0 \r\nQ 17.1875 0 13.234375 3.875 \r\nQ 9.28125 7.765625 9.28125 18.015625 \r\nL 9.28125 47.703125 \r\nL 2.6875 47.703125 \r\nL 2.6875 54.6875 \r\nL 9.28125 54.6875 \r\nL 9.28125 70.21875 \r\nz\r\n\" id=\"DejaVuSans-74\"/>\r\n    </defs>\r\n    <g transform=\"translate(112.044375 16.318125)scale(0.12 -0.12)\">\r\n     <use xlink:href=\"#DejaVuSans-54\"/>\r\n     <use x=\"60.865234\" xlink:href=\"#DejaVuSans-72\"/>\r\n     <use x=\"101.978516\" xlink:href=\"#DejaVuSans-61\"/>\r\n     <use x=\"163.257812\" xlink:href=\"#DejaVuSans-69\"/>\r\n     <use x=\"191.041016\" xlink:href=\"#DejaVuSans-6e\"/>\r\n     <use x=\"254.419922\" xlink:href=\"#DejaVuSans-69\"/>\r\n     <use x=\"282.203125\" xlink:href=\"#DejaVuSans-6e\"/>\r\n     <use x=\"345.582031\" xlink:href=\"#DejaVuSans-67\"/>\r\n     <use x=\"409.058594\" xlink:href=\"#DejaVuSans-20\"/>\r\n     <use x=\"440.845703\" xlink:href=\"#DejaVuSans-61\"/>\r\n     <use x=\"502.125\" xlink:href=\"#DejaVuSans-6e\"/>\r\n     <use x=\"565.503906\" xlink:href=\"#DejaVuSans-64\"/>\r\n     <use x=\"628.980469\" xlink:href=\"#DejaVuSans-20\"/>\r\n     <use x=\"660.767578\" xlink:href=\"#DejaVuSans-56\"/>\r\n     <use x=\"729.066406\" xlink:href=\"#DejaVuSans-61\"/>\r\n     <use x=\"790.345703\" xlink:href=\"#DejaVuSans-6c\"/>\r\n     <use x=\"818.128906\" xlink:href=\"#DejaVuSans-69\"/>\r\n     <use x=\"845.912109\" xlink:href=\"#DejaVuSans-64\"/>\r\n     <use x=\"909.388672\" xlink:href=\"#DejaVuSans-61\"/>\r\n     <use x=\"970.667969\" xlink:href=\"#DejaVuSans-74\"/>\r\n     <use x=\"1009.876953\" xlink:href=\"#DejaVuSans-69\"/>\r\n     <use x=\"1037.660156\" xlink:href=\"#DejaVuSans-6f\"/>\r\n     <use x=\"1098.841797\" xlink:href=\"#DejaVuSans-6e\"/>\r\n     <use x=\"1162.220703\" xlink:href=\"#DejaVuSans-20\"/>\r\n     <use x=\"1194.007812\" xlink:href=\"#DejaVuSans-41\"/>\r\n     <use x=\"1262.400391\" xlink:href=\"#DejaVuSans-63\"/>\r\n     <use x=\"1317.380859\" xlink:href=\"#DejaVuSans-63\"/>\r\n     <use x=\"1372.361328\" xlink:href=\"#DejaVuSans-75\"/>\r\n     <use x=\"1435.740234\" xlink:href=\"#DejaVuSans-72\"/>\r\n     <use x=\"1476.853516\" xlink:href=\"#DejaVuSans-61\"/>\r\n     <use x=\"1538.132812\" xlink:href=\"#DejaVuSans-63\"/>\r\n     <use x=\"1593.113281\" xlink:href=\"#DejaVuSans-79\"/>\r\n    </g>\r\n   </g>\r\n   <g id=\"legend_1\">\r\n    <g id=\"patch_7\">\r\n     <path d=\"M 240.428125 234.758125 \r\nL 371.58125 234.758125 \r\nQ 373.58125 234.758125 373.58125 232.758125 \r\nL 373.58125 189.72375 \r\nQ 373.58125 187.72375 371.58125 187.72375 \r\nL 240.428125 187.72375 \r\nQ 238.428125 187.72375 238.428125 189.72375 \r\nL 238.428125 232.758125 \r\nQ 238.428125 234.758125 240.428125 234.758125 \r\nz\r\n\" style=\"fill:#ffffff;opacity:0.8;stroke:#cccccc;stroke-linejoin:miter;\"/>\r\n    </g>\r\n    <g id=\"line2d_17\">\r\n     <path d=\"M 242.428125 195.822187 \r\nL 262.428125 195.822187 \r\n\" style=\"fill:none;stroke:#1f77b4;stroke-linecap:square;stroke-width:1.5;\"/>\r\n    </g>\r\n    <g id=\"line2d_18\"/>\r\n    <g id=\"text_17\">\r\n     <!-- Training Accuracy -->\r\n     <g transform=\"translate(270.428125 199.322187)scale(0.1 -0.1)\">\r\n      <use xlink:href=\"#DejaVuSans-54\"/>\r\n      <use x=\"60.865234\" xlink:href=\"#DejaVuSans-72\"/>\r\n      <use x=\"101.978516\" xlink:href=\"#DejaVuSans-61\"/>\r\n      <use x=\"163.257812\" xlink:href=\"#DejaVuSans-69\"/>\r\n      <use x=\"191.041016\" xlink:href=\"#DejaVuSans-6e\"/>\r\n      <use x=\"254.419922\" xlink:href=\"#DejaVuSans-69\"/>\r\n      <use x=\"282.203125\" xlink:href=\"#DejaVuSans-6e\"/>\r\n      <use x=\"345.582031\" xlink:href=\"#DejaVuSans-67\"/>\r\n      <use x=\"409.058594\" xlink:href=\"#DejaVuSans-20\"/>\r\n      <use x=\"440.845703\" xlink:href=\"#DejaVuSans-41\"/>\r\n      <use x=\"509.238281\" xlink:href=\"#DejaVuSans-63\"/>\r\n      <use x=\"564.21875\" xlink:href=\"#DejaVuSans-63\"/>\r\n      <use x=\"619.199219\" xlink:href=\"#DejaVuSans-75\"/>\r\n      <use x=\"682.578125\" xlink:href=\"#DejaVuSans-72\"/>\r\n      <use x=\"723.691406\" xlink:href=\"#DejaVuSans-61\"/>\r\n      <use x=\"784.970703\" xlink:href=\"#DejaVuSans-63\"/>\r\n      <use x=\"839.951172\" xlink:href=\"#DejaVuSans-79\"/>\r\n     </g>\r\n    </g>\r\n    <g id=\"line2d_19\">\r\n     <path d=\"M 242.428125 210.500312 \r\nL 262.428125 210.500312 \r\n\" style=\"fill:none;stroke:#ff7f0e;stroke-linecap:square;stroke-width:1.5;\"/>\r\n    </g>\r\n    <g id=\"line2d_20\"/>\r\n    <g id=\"text_18\">\r\n     <!-- Validation Accuracy -->\r\n     <g transform=\"translate(270.428125 214.000312)scale(0.1 -0.1)\">\r\n      <use xlink:href=\"#DejaVuSans-56\"/>\r\n      <use x=\"68.298828\" xlink:href=\"#DejaVuSans-61\"/>\r\n      <use x=\"129.578125\" xlink:href=\"#DejaVuSans-6c\"/>\r\n      <use x=\"157.361328\" xlink:href=\"#DejaVuSans-69\"/>\r\n      <use x=\"185.144531\" xlink:href=\"#DejaVuSans-64\"/>\r\n      <use x=\"248.621094\" xlink:href=\"#DejaVuSans-61\"/>\r\n      <use x=\"309.900391\" xlink:href=\"#DejaVuSans-74\"/>\r\n      <use x=\"349.109375\" xlink:href=\"#DejaVuSans-69\"/>\r\n      <use x=\"376.892578\" xlink:href=\"#DejaVuSans-6f\"/>\r\n      <use x=\"438.074219\" xlink:href=\"#DejaVuSans-6e\"/>\r\n      <use x=\"501.453125\" xlink:href=\"#DejaVuSans-20\"/>\r\n      <use x=\"533.240234\" xlink:href=\"#DejaVuSans-41\"/>\r\n      <use x=\"601.632812\" xlink:href=\"#DejaVuSans-63\"/>\r\n      <use x=\"656.613281\" xlink:href=\"#DejaVuSans-63\"/>\r\n      <use x=\"711.59375\" xlink:href=\"#DejaVuSans-75\"/>\r\n      <use x=\"774.972656\" xlink:href=\"#DejaVuSans-72\"/>\r\n      <use x=\"816.085938\" xlink:href=\"#DejaVuSans-61\"/>\r\n      <use x=\"877.365234\" xlink:href=\"#DejaVuSans-63\"/>\r\n      <use x=\"932.345703\" xlink:href=\"#DejaVuSans-79\"/>\r\n     </g>\r\n    </g>\r\n    <g id=\"line2d_21\">\r\n     <path d=\"M 242.428125 225.178437 \r\nL 262.428125 225.178437 \r\n\" style=\"fill:none;stroke:#2ca02c;stroke-linecap:square;stroke-width:1.5;\"/>\r\n    </g>\r\n    <g id=\"line2d_22\"/>\r\n    <g id=\"text_19\">\r\n     <!-- Start Fine Tuning -->\r\n     <defs>\r\n      <path d=\"M 53.515625 70.515625 \r\nL 53.515625 60.890625 \r\nQ 47.90625 63.578125 42.921875 64.890625 \r\nQ 37.9375 66.21875 33.296875 66.21875 \r\nQ 25.25 66.21875 20.875 63.09375 \r\nQ 16.5 59.96875 16.5 54.203125 \r\nQ 16.5 49.359375 19.40625 46.890625 \r\nQ 22.3125 44.4375 30.421875 42.921875 \r\nL 36.375 41.703125 \r\nQ 47.40625 39.59375 52.65625 34.296875 \r\nQ 57.90625 29 57.90625 20.125 \r\nQ 57.90625 9.515625 50.796875 4.046875 \r\nQ 43.703125 -1.421875 29.984375 -1.421875 \r\nQ 24.8125 -1.421875 18.96875 -0.25 \r\nQ 13.140625 0.921875 6.890625 3.21875 \r\nL 6.890625 13.375 \r\nQ 12.890625 10.015625 18.65625 8.296875 \r\nQ 24.421875 6.59375 29.984375 6.59375 \r\nQ 38.421875 6.59375 43.015625 9.90625 \r\nQ 47.609375 13.234375 47.609375 19.390625 \r\nQ 47.609375 24.75 44.3125 27.78125 \r\nQ 41.015625 30.8125 33.5 32.328125 \r\nL 27.484375 33.5 \r\nQ 16.453125 35.6875 11.515625 40.375 \r\nQ 6.59375 45.0625 6.59375 53.421875 \r\nQ 6.59375 63.09375 13.40625 68.65625 \r\nQ 20.21875 74.21875 32.171875 74.21875 \r\nQ 37.3125 74.21875 42.625 73.28125 \r\nQ 47.953125 72.359375 53.515625 70.515625 \r\nz\r\n\" id=\"DejaVuSans-53\"/>\r\n      <path d=\"M 9.8125 72.90625 \r\nL 51.703125 72.90625 \r\nL 51.703125 64.59375 \r\nL 19.671875 64.59375 \r\nL 19.671875 43.109375 \r\nL 48.578125 43.109375 \r\nL 48.578125 34.8125 \r\nL 19.671875 34.8125 \r\nL 19.671875 0 \r\nL 9.8125 0 \r\nz\r\n\" id=\"DejaVuSans-46\"/>\r\n     </defs>\r\n     <g transform=\"translate(270.428125 228.678437)scale(0.1 -0.1)\">\r\n      <use xlink:href=\"#DejaVuSans-53\"/>\r\n      <use x=\"63.476562\" xlink:href=\"#DejaVuSans-74\"/>\r\n      <use x=\"102.685547\" xlink:href=\"#DejaVuSans-61\"/>\r\n      <use x=\"163.964844\" xlink:href=\"#DejaVuSans-72\"/>\r\n      <use x=\"205.078125\" xlink:href=\"#DejaVuSans-74\"/>\r\n      <use x=\"244.287109\" xlink:href=\"#DejaVuSans-20\"/>\r\n      <use x=\"276.074219\" xlink:href=\"#DejaVuSans-46\"/>\r\n      <use x=\"333.484375\" xlink:href=\"#DejaVuSans-69\"/>\r\n      <use x=\"361.267578\" xlink:href=\"#DejaVuSans-6e\"/>\r\n      <use x=\"424.646484\" xlink:href=\"#DejaVuSans-65\"/>\r\n      <use x=\"486.169922\" xlink:href=\"#DejaVuSans-20\"/>\r\n      <use x=\"517.957031\" xlink:href=\"#DejaVuSans-54\"/>\r\n      <use x=\"578.806641\" xlink:href=\"#DejaVuSans-75\"/>\r\n      <use x=\"642.185547\" xlink:href=\"#DejaVuSans-6e\"/>\r\n      <use x=\"705.564453\" xlink:href=\"#DejaVuSans-69\"/>\r\n      <use x=\"733.347656\" xlink:href=\"#DejaVuSans-6e\"/>\r\n      <use x=\"796.726562\" xlink:href=\"#DejaVuSans-67\"/>\r\n     </g>\r\n    </g>\r\n   </g>\r\n  </g>\r\n </g>\r\n <defs>\r\n  <clipPath id=\"p92eec66884\">\r\n   <rect height=\"217.44\" width=\"334.8\" x=\"43.78125\" y=\"22.318125\"/>\r\n  </clipPath>\r\n </defs>\r\n</svg>\r\n",
            "image/png": "[encoded data removed]"
          },
          "metadata": {
            "needs_background": "light"
          }
        }
      ]
    },
    {
      "cell_type": "code",
      "metadata": {
        "id": "ftCYvBkKZmGa"
      },
      "source": [
        "# plot graph of cross-validated losses\n",
        "loss = np.mean(history_map['loss'], axis=0)\n",
        "val_loss = np.mean(history_map['val_loss'], axis=0)\n",
        "\n",
        "plt.figure(2)\n",
        "plt.plot(loss, label='Training Loss')\n",
        "plt.plot(val_loss, label='Validation Loss')\n",
        "plt.plot([no_epochs-1,no_epochs-1],\n",
        "         plt.ylim(), label='Start Fine Tuning')\n",
        "plt.legend(loc='upper right')\n",
        "plt.ylabel('Cross Entropy')\n",
        "#plt.ylim([0,1.0])\n",
        "plt.title('Training and Validation Loss')\n",
        "plt.xlabel('epoch')\n",
        "plt.show()"
      ],
      "execution_count": 31,
      "outputs": [
        {
          "output_type": "display_data",
          "data": {
            "text/plain": "<Figure size 432x288 with 1 Axes>",
            "image/svg+xml": "<?xml version=\"1.0\" encoding=\"utf-8\" standalone=\"no\"?>\r\n<!DOCTYPE svg PUBLIC \"-//W3C//DTD SVG 1.1//EN\"\r\n  \"http://www.w3.org/Graphics/SVG/1.1/DTD/svg11.dtd\">\r\n<!-- Created with matplotlib (http://matplotlib.org/) -->\r\n<svg height=\"277.314375pt\" version=\"1.1\" viewBox=\"0 0 389.28125 277.314375\" width=\"389.28125pt\" xmlns=\"http://www.w3.org/2000/svg\" xmlns:xlink=\"http://www.w3.org/1999/xlink\">\r\n <defs>\r\n  <style type=\"text/css\">\r\n*{stroke-linecap:butt;stroke-linejoin:round;}\r\n  </style>\r\n </defs>\r\n <g id=\"figure_1\">\r\n  <g id=\"patch_1\">\r\n   <path d=\"M 0 277.314375 \r\nL 389.28125 277.314375 \r\nL 389.28125 0 \r\nL 0 0 \r\nz\r\n\" style=\"fill:none;\"/>\r\n  </g>\r\n  <g id=\"axes_1\">\r\n   <g id=\"patch_2\">\r\n    <path d=\"M 43.78125 239.758125 \r\nL 378.58125 239.758125 \r\nL 378.58125 22.318125 \r\nL 43.78125 22.318125 \r\nz\r\n\" style=\"fill:#ffffff;\"/>\r\n   </g>\r\n   <g id=\"matplotlib.axis_1\">\r\n    <g id=\"xtick_1\">\r\n     <g id=\"line2d_1\">\r\n      <defs>\r\n       <path d=\"M 0 0 \r\nL 0 3.5 \r\n\" id=\"m86226691e6\" style=\"stroke:#000000;stroke-width:0.8;\"/>\r\n      </defs>\r\n      <g>\r\n       <use style=\"stroke:#000000;stroke-width:0.8;\" x=\"58.999432\" xlink:href=\"#m86226691e6\" y=\"239.758125\"/>\r\n      </g>\r\n     </g>\r\n     <g id=\"text_1\">\r\n      <!-- 0 -->\r\n      <defs>\r\n       <path d=\"M 31.78125 66.40625 \r\nQ 24.171875 66.40625 20.328125 58.90625 \r\nQ 16.5 51.421875 16.5 36.375 \r\nQ 16.5 21.390625 20.328125 13.890625 \r\nQ 24.171875 6.390625 31.78125 6.390625 \r\nQ 39.453125 6.390625 43.28125 13.890625 \r\nQ 47.125 21.390625 47.125 36.375 \r\nQ 47.125 51.421875 43.28125 58.90625 \r\nQ 39.453125 66.40625 31.78125 66.40625 \r\nz\r\nM 31.78125 74.21875 \r\nQ 44.046875 74.21875 50.515625 64.515625 \r\nQ 56.984375 54.828125 56.984375 36.375 \r\nQ 56.984375 17.96875 50.515625 8.265625 \r\nQ 44.046875 -1.421875 31.78125 -1.421875 \r\nQ 19.53125 -1.421875 13.0625 8.265625 \r\nQ 6.59375 17.96875 6.59375 36.375 \r\nQ 6.59375 54.828125 13.0625 64.515625 \r\nQ 19.53125 74.21875 31.78125 74.21875 \r\nz\r\n\" id=\"DejaVuSans-30\"/>\r\n      </defs>\r\n      <g transform=\"translate(55.818182 254.356562)scale(0.1 -0.1)\">\r\n       <use xlink:href=\"#DejaVuSans-30\"/>\r\n      </g>\r\n     </g>\r\n    </g>\r\n    <g id=\"xtick_2\">\r\n     <g id=\"line2d_2\">\r\n      <g>\r\n       <use style=\"stroke:#000000;stroke-width:0.8;\" x=\"102.479951\" xlink:href=\"#m86226691e6\" y=\"239.758125\"/>\r\n      </g>\r\n     </g>\r\n     <g id=\"text_2\">\r\n      <!-- 10 -->\r\n      <defs>\r\n       <path d=\"M 12.40625 8.296875 \r\nL 28.515625 8.296875 \r\nL 28.515625 63.921875 \r\nL 10.984375 60.40625 \r\nL 10.984375 69.390625 \r\nL 28.421875 72.90625 \r\nL 38.28125 72.90625 \r\nL 38.28125 8.296875 \r\nL 54.390625 8.296875 \r\nL 54.390625 0 \r\nL 12.40625 0 \r\nz\r\n\" id=\"DejaVuSans-31\"/>\r\n      </defs>\r\n      <g transform=\"translate(96.117451 254.356562)scale(0.1 -0.1)\">\r\n       <use xlink:href=\"#DejaVuSans-31\"/>\r\n       <use x=\"63.623047\" xlink:href=\"#DejaVuSans-30\"/>\r\n      </g>\r\n     </g>\r\n    </g>\r\n    <g id=\"xtick_3\">\r\n     <g id=\"line2d_3\">\r\n      <g>\r\n       <use style=\"stroke:#000000;stroke-width:0.8;\" x=\"145.960471\" xlink:href=\"#m86226691e6\" y=\"239.758125\"/>\r\n      </g>\r\n     </g>\r\n     <g id=\"text_3\">\r\n      <!-- 20 -->\r\n      <defs>\r\n       <path d=\"M 19.1875 8.296875 \r\nL 53.609375 8.296875 \r\nL 53.609375 0 \r\nL 7.328125 0 \r\nL 7.328125 8.296875 \r\nQ 12.9375 14.109375 22.625 23.890625 \r\nQ 32.328125 33.6875 34.8125 36.53125 \r\nQ 39.546875 41.84375 41.421875 45.53125 \r\nQ 43.3125 49.21875 43.3125 52.78125 \r\nQ 43.3125 58.59375 39.234375 62.25 \r\nQ 35.15625 65.921875 28.609375 65.921875 \r\nQ 23.96875 65.921875 18.8125 64.3125 \r\nQ 13.671875 62.703125 7.8125 59.421875 \r\nL 7.8125 69.390625 \r\nQ 13.765625 71.78125 18.9375 73 \r\nQ 24.125 74.21875 28.421875 74.21875 \r\nQ 39.75 74.21875 46.484375 68.546875 \r\nQ 53.21875 62.890625 53.21875 53.421875 \r\nQ 53.21875 48.921875 51.53125 44.890625 \r\nQ 49.859375 40.875 45.40625 35.40625 \r\nQ 44.1875 33.984375 37.640625 27.21875 \r\nQ 31.109375 20.453125 19.1875 8.296875 \r\nz\r\n\" id=\"DejaVuSans-32\"/>\r\n      </defs>\r\n      <g transform=\"translate(139.597971 254.356562)scale(0.1 -0.1)\">\r\n       <use xlink:href=\"#DejaVuSans-32\"/>\r\n       <use x=\"63.623047\" xlink:href=\"#DejaVuSans-30\"/>\r\n      </g>\r\n     </g>\r\n    </g>\r\n    <g id=\"xtick_4\">\r\n     <g id=\"line2d_4\">\r\n      <g>\r\n       <use style=\"stroke:#000000;stroke-width:0.8;\" x=\"189.44099\" xlink:href=\"#m86226691e6\" y=\"239.758125\"/>\r\n      </g>\r\n     </g>\r\n     <g id=\"text_4\">\r\n      <!-- 30 -->\r\n      <defs>\r\n       <path d=\"M 40.578125 39.3125 \r\nQ 47.65625 37.796875 51.625 33 \r\nQ 55.609375 28.21875 55.609375 21.1875 \r\nQ 55.609375 10.40625 48.1875 4.484375 \r\nQ 40.765625 -1.421875 27.09375 -1.421875 \r\nQ 22.515625 -1.421875 17.65625 -0.515625 \r\nQ 12.796875 0.390625 7.625 2.203125 \r\nL 7.625 11.71875 \r\nQ 11.71875 9.328125 16.59375 8.109375 \r\nQ 21.484375 6.890625 26.8125 6.890625 \r\nQ 36.078125 6.890625 40.9375 10.546875 \r\nQ 45.796875 14.203125 45.796875 21.1875 \r\nQ 45.796875 27.640625 41.28125 31.265625 \r\nQ 36.765625 34.90625 28.71875 34.90625 \r\nL 20.21875 34.90625 \r\nL 20.21875 43.015625 \r\nL 29.109375 43.015625 \r\nQ 36.375 43.015625 40.234375 45.921875 \r\nQ 44.09375 48.828125 44.09375 54.296875 \r\nQ 44.09375 59.90625 40.109375 62.90625 \r\nQ 36.140625 65.921875 28.71875 65.921875 \r\nQ 24.65625 65.921875 20.015625 65.03125 \r\nQ 15.375 64.15625 9.8125 62.3125 \r\nL 9.8125 71.09375 \r\nQ 15.4375 72.65625 20.34375 73.4375 \r\nQ 25.25 74.21875 29.59375 74.21875 \r\nQ 40.828125 74.21875 47.359375 69.109375 \r\nQ 53.90625 64.015625 53.90625 55.328125 \r\nQ 53.90625 49.265625 50.4375 45.09375 \r\nQ 46.96875 40.921875 40.578125 39.3125 \r\nz\r\n\" id=\"DejaVuSans-33\"/>\r\n      </defs>\r\n      <g transform=\"translate(183.07849 254.356562)scale(0.1 -0.1)\">\r\n       <use xlink:href=\"#DejaVuSans-33\"/>\r\n       <use x=\"63.623047\" xlink:href=\"#DejaVuSans-30\"/>\r\n      </g>\r\n     </g>\r\n    </g>\r\n    <g id=\"xtick_5\">\r\n     <g id=\"line2d_5\">\r\n      <g>\r\n       <use style=\"stroke:#000000;stroke-width:0.8;\" x=\"232.92151\" xlink:href=\"#m86226691e6\" y=\"239.758125\"/>\r\n      </g>\r\n     </g>\r\n     <g id=\"text_5\">\r\n      <!-- 40 -->\r\n      <defs>\r\n       <path d=\"M 37.796875 64.3125 \r\nL 12.890625 25.390625 \r\nL 37.796875 25.390625 \r\nz\r\nM 35.203125 72.90625 \r\nL 47.609375 72.90625 \r\nL 47.609375 25.390625 \r\nL 58.015625 25.390625 \r\nL 58.015625 17.1875 \r\nL 47.609375 17.1875 \r\nL 47.609375 0 \r\nL 37.796875 0 \r\nL 37.796875 17.1875 \r\nL 4.890625 17.1875 \r\nL 4.890625 26.703125 \r\nz\r\n\" id=\"DejaVuSans-34\"/>\r\n      </defs>\r\n      <g transform=\"translate(226.55901 254.356562)scale(0.1 -0.1)\">\r\n       <use xlink:href=\"#DejaVuSans-34\"/>\r\n       <use x=\"63.623047\" xlink:href=\"#DejaVuSans-30\"/>\r\n      </g>\r\n     </g>\r\n    </g>\r\n    <g id=\"xtick_6\">\r\n     <g id=\"line2d_6\">\r\n      <g>\r\n       <use style=\"stroke:#000000;stroke-width:0.8;\" x=\"276.402029\" xlink:href=\"#m86226691e6\" y=\"239.758125\"/>\r\n      </g>\r\n     </g>\r\n     <g id=\"text_6\">\r\n      <!-- 50 -->\r\n      <defs>\r\n       <path d=\"M 10.796875 72.90625 \r\nL 49.515625 72.90625 \r\nL 49.515625 64.59375 \r\nL 19.828125 64.59375 \r\nL 19.828125 46.734375 \r\nQ 21.96875 47.46875 24.109375 47.828125 \r\nQ 26.265625 48.1875 28.421875 48.1875 \r\nQ 40.625 48.1875 47.75 41.5 \r\nQ 54.890625 34.8125 54.890625 23.390625 \r\nQ 54.890625 11.625 47.5625 5.09375 \r\nQ 40.234375 -1.421875 26.90625 -1.421875 \r\nQ 22.3125 -1.421875 17.546875 -0.640625 \r\nQ 12.796875 0.140625 7.71875 1.703125 \r\nL 7.71875 11.625 \r\nQ 12.109375 9.234375 16.796875 8.0625 \r\nQ 21.484375 6.890625 26.703125 6.890625 \r\nQ 35.15625 6.890625 40.078125 11.328125 \r\nQ 45.015625 15.765625 45.015625 23.390625 \r\nQ 45.015625 31 40.078125 35.4375 \r\nQ 35.15625 39.890625 26.703125 39.890625 \r\nQ 22.75 39.890625 18.8125 39.015625 \r\nQ 14.890625 38.140625 10.796875 36.28125 \r\nz\r\n\" id=\"DejaVuSans-35\"/>\r\n      </defs>\r\n      <g transform=\"translate(270.039529 254.356562)scale(0.1 -0.1)\">\r\n       <use xlink:href=\"#DejaVuSans-35\"/>\r\n       <use x=\"63.623047\" xlink:href=\"#DejaVuSans-30\"/>\r\n      </g>\r\n     </g>\r\n    </g>\r\n    <g id=\"xtick_7\">\r\n     <g id=\"line2d_7\">\r\n      <g>\r\n       <use style=\"stroke:#000000;stroke-width:0.8;\" x=\"319.882549\" xlink:href=\"#m86226691e6\" y=\"239.758125\"/>\r\n      </g>\r\n     </g>\r\n     <g id=\"text_7\">\r\n      <!-- 60 -->\r\n      <defs>\r\n       <path d=\"M 33.015625 40.375 \r\nQ 26.375 40.375 22.484375 35.828125 \r\nQ 18.609375 31.296875 18.609375 23.390625 \r\nQ 18.609375 15.53125 22.484375 10.953125 \r\nQ 26.375 6.390625 33.015625 6.390625 \r\nQ 39.65625 6.390625 43.53125 10.953125 \r\nQ 47.40625 15.53125 47.40625 23.390625 \r\nQ 47.40625 31.296875 43.53125 35.828125 \r\nQ 39.65625 40.375 33.015625 40.375 \r\nz\r\nM 52.59375 71.296875 \r\nL 52.59375 62.3125 \r\nQ 48.875 64.0625 45.09375 64.984375 \r\nQ 41.3125 65.921875 37.59375 65.921875 \r\nQ 27.828125 65.921875 22.671875 59.328125 \r\nQ 17.53125 52.734375 16.796875 39.40625 \r\nQ 19.671875 43.65625 24.015625 45.921875 \r\nQ 28.375 48.1875 33.59375 48.1875 \r\nQ 44.578125 48.1875 50.953125 41.515625 \r\nQ 57.328125 34.859375 57.328125 23.390625 \r\nQ 57.328125 12.15625 50.6875 5.359375 \r\nQ 44.046875 -1.421875 33.015625 -1.421875 \r\nQ 20.359375 -1.421875 13.671875 8.265625 \r\nQ 6.984375 17.96875 6.984375 36.375 \r\nQ 6.984375 53.65625 15.1875 63.9375 \r\nQ 23.390625 74.21875 37.203125 74.21875 \r\nQ 40.921875 74.21875 44.703125 73.484375 \r\nQ 48.484375 72.75 52.59375 71.296875 \r\nz\r\n\" id=\"DejaVuSans-36\"/>\r\n      </defs>\r\n      <g transform=\"translate(313.520049 254.356562)scale(0.1 -0.1)\">\r\n       <use xlink:href=\"#DejaVuSans-36\"/>\r\n       <use x=\"63.623047\" xlink:href=\"#DejaVuSans-30\"/>\r\n      </g>\r\n     </g>\r\n    </g>\r\n    <g id=\"xtick_8\">\r\n     <g id=\"line2d_8\">\r\n      <g>\r\n       <use style=\"stroke:#000000;stroke-width:0.8;\" x=\"363.363068\" xlink:href=\"#m86226691e6\" y=\"239.758125\"/>\r\n      </g>\r\n     </g>\r\n     <g id=\"text_8\">\r\n      <!-- 70 -->\r\n      <defs>\r\n       <path d=\"M 8.203125 72.90625 \r\nL 55.078125 72.90625 \r\nL 55.078125 68.703125 \r\nL 28.609375 0 \r\nL 18.3125 0 \r\nL 43.21875 64.59375 \r\nL 8.203125 64.59375 \r\nz\r\n\" id=\"DejaVuSans-37\"/>\r\n      </defs>\r\n      <g transform=\"translate(357.000568 254.356562)scale(0.1 -0.1)\">\r\n       <use xlink:href=\"#DejaVuSans-37\"/>\r\n       <use x=\"63.623047\" xlink:href=\"#DejaVuSans-30\"/>\r\n      </g>\r\n     </g>\r\n    </g>\r\n    <g id=\"text_9\">\r\n     <!-- epoch -->\r\n     <defs>\r\n      <path d=\"M 56.203125 29.59375 \r\nL 56.203125 25.203125 \r\nL 14.890625 25.203125 \r\nQ 15.484375 15.921875 20.484375 11.0625 \r\nQ 25.484375 6.203125 34.421875 6.203125 \r\nQ 39.59375 6.203125 44.453125 7.46875 \r\nQ 49.3125 8.734375 54.109375 11.28125 \r\nL 54.109375 2.78125 \r\nQ 49.265625 0.734375 44.1875 -0.34375 \r\nQ 39.109375 -1.421875 33.890625 -1.421875 \r\nQ 20.796875 -1.421875 13.15625 6.1875 \r\nQ 5.515625 13.8125 5.515625 26.8125 \r\nQ 5.515625 40.234375 12.765625 48.109375 \r\nQ 20.015625 56 32.328125 56 \r\nQ 43.359375 56 49.78125 48.890625 \r\nQ 56.203125 41.796875 56.203125 29.59375 \r\nz\r\nM 47.21875 32.234375 \r\nQ 47.125 39.59375 43.09375 43.984375 \r\nQ 39.0625 48.390625 32.421875 48.390625 \r\nQ 24.90625 48.390625 20.390625 44.140625 \r\nQ 15.875 39.890625 15.1875 32.171875 \r\nz\r\n\" id=\"DejaVuSans-65\"/>\r\n      <path d=\"M 18.109375 8.203125 \r\nL 18.109375 -20.796875 \r\nL 9.078125 -20.796875 \r\nL 9.078125 54.6875 \r\nL 18.109375 54.6875 \r\nL 18.109375 46.390625 \r\nQ 20.953125 51.265625 25.265625 53.625 \r\nQ 29.59375 56 35.59375 56 \r\nQ 45.5625 56 51.78125 48.09375 \r\nQ 58.015625 40.1875 58.015625 27.296875 \r\nQ 58.015625 14.40625 51.78125 6.484375 \r\nQ 45.5625 -1.421875 35.59375 -1.421875 \r\nQ 29.59375 -1.421875 25.265625 0.953125 \r\nQ 20.953125 3.328125 18.109375 8.203125 \r\nz\r\nM 48.6875 27.296875 \r\nQ 48.6875 37.203125 44.609375 42.84375 \r\nQ 40.53125 48.484375 33.40625 48.484375 \r\nQ 26.265625 48.484375 22.1875 42.84375 \r\nQ 18.109375 37.203125 18.109375 27.296875 \r\nQ 18.109375 17.390625 22.1875 11.75 \r\nQ 26.265625 6.109375 33.40625 6.109375 \r\nQ 40.53125 6.109375 44.609375 11.75 \r\nQ 48.6875 17.390625 48.6875 27.296875 \r\nz\r\n\" id=\"DejaVuSans-70\"/>\r\n      <path d=\"M 30.609375 48.390625 \r\nQ 23.390625 48.390625 19.1875 42.75 \r\nQ 14.984375 37.109375 14.984375 27.296875 \r\nQ 14.984375 17.484375 19.15625 11.84375 \r\nQ 23.34375 6.203125 30.609375 6.203125 \r\nQ 37.796875 6.203125 41.984375 11.859375 \r\nQ 46.1875 17.53125 46.1875 27.296875 \r\nQ 46.1875 37.015625 41.984375 42.703125 \r\nQ 37.796875 48.390625 30.609375 48.390625 \r\nz\r\nM 30.609375 56 \r\nQ 42.328125 56 49.015625 48.375 \r\nQ 55.71875 40.765625 55.71875 27.296875 \r\nQ 55.71875 13.875 49.015625 6.21875 \r\nQ 42.328125 -1.421875 30.609375 -1.421875 \r\nQ 18.84375 -1.421875 12.171875 6.21875 \r\nQ 5.515625 13.875 5.515625 27.296875 \r\nQ 5.515625 40.765625 12.171875 48.375 \r\nQ 18.84375 56 30.609375 56 \r\nz\r\n\" id=\"DejaVuSans-6f\"/>\r\n      <path d=\"M 48.78125 52.59375 \r\nL 48.78125 44.1875 \r\nQ 44.96875 46.296875 41.140625 47.34375 \r\nQ 37.3125 48.390625 33.40625 48.390625 \r\nQ 24.65625 48.390625 19.8125 42.84375 \r\nQ 14.984375 37.3125 14.984375 27.296875 \r\nQ 14.984375 17.28125 19.8125 11.734375 \r\nQ 24.65625 6.203125 33.40625 6.203125 \r\nQ 37.3125 6.203125 41.140625 7.25 \r\nQ 44.96875 8.296875 48.78125 10.40625 \r\nL 48.78125 2.09375 \r\nQ 45.015625 0.34375 40.984375 -0.53125 \r\nQ 36.96875 -1.421875 32.421875 -1.421875 \r\nQ 20.0625 -1.421875 12.78125 6.34375 \r\nQ 5.515625 14.109375 5.515625 27.296875 \r\nQ 5.515625 40.671875 12.859375 48.328125 \r\nQ 20.21875 56 33.015625 56 \r\nQ 37.15625 56 41.109375 55.140625 \r\nQ 45.0625 54.296875 48.78125 52.59375 \r\nz\r\n\" id=\"DejaVuSans-63\"/>\r\n      <path d=\"M 54.890625 33.015625 \r\nL 54.890625 0 \r\nL 45.90625 0 \r\nL 45.90625 32.71875 \r\nQ 45.90625 40.484375 42.875 44.328125 \r\nQ 39.84375 48.1875 33.796875 48.1875 \r\nQ 26.515625 48.1875 22.3125 43.546875 \r\nQ 18.109375 38.921875 18.109375 30.90625 \r\nL 18.109375 0 \r\nL 9.078125 0 \r\nL 9.078125 75.984375 \r\nL 18.109375 75.984375 \r\nL 18.109375 46.1875 \r\nQ 21.34375 51.125 25.703125 53.5625 \r\nQ 30.078125 56 35.796875 56 \r\nQ 45.21875 56 50.046875 50.171875 \r\nQ 54.890625 44.34375 54.890625 33.015625 \r\nz\r\n\" id=\"DejaVuSans-68\"/>\r\n     </defs>\r\n     <g transform=\"translate(195.953125 268.034687)scale(0.1 -0.1)\">\r\n      <use xlink:href=\"#DejaVuSans-65\"/>\r\n      <use x=\"61.523438\" xlink:href=\"#DejaVuSans-70\"/>\r\n      <use x=\"125\" xlink:href=\"#DejaVuSans-6f\"/>\r\n      <use x=\"186.181641\" xlink:href=\"#DejaVuSans-63\"/>\r\n      <use x=\"241.162109\" xlink:href=\"#DejaVuSans-68\"/>\r\n     </g>\r\n    </g>\r\n   </g>\r\n   <g id=\"matplotlib.axis_2\">\r\n    <g id=\"ytick_1\">\r\n     <g id=\"line2d_9\">\r\n      <defs>\r\n       <path d=\"M 0 0 \r\nL -3.5 0 \r\n\" id=\"m2827db1e09\" style=\"stroke:#000000;stroke-width:0.8;\"/>\r\n      </defs>\r\n      <g>\r\n       <use style=\"stroke:#000000;stroke-width:0.8;\" x=\"43.78125\" xlink:href=\"#m2827db1e09\" y=\"222.183226\"/>\r\n      </g>\r\n     </g>\r\n     <g id=\"text_10\">\r\n      <!-- 0.0 -->\r\n      <defs>\r\n       <path d=\"M 10.6875 12.40625 \r\nL 21 12.40625 \r\nL 21 0 \r\nL 10.6875 0 \r\nz\r\n\" id=\"DejaVuSans-2e\"/>\r\n      </defs>\r\n      <g transform=\"translate(20.878125 225.982445)scale(0.1 -0.1)\">\r\n       <use xlink:href=\"#DejaVuSans-30\"/>\r\n       <use x=\"63.623047\" xlink:href=\"#DejaVuSans-2e\"/>\r\n       <use x=\"95.410156\" xlink:href=\"#DejaVuSans-30\"/>\r\n      </g>\r\n     </g>\r\n    </g>\r\n    <g id=\"ytick_2\">\r\n     <g id=\"line2d_10\">\r\n      <g>\r\n       <use style=\"stroke:#000000;stroke-width:0.8;\" x=\"43.78125\" xlink:href=\"#m2827db1e09\" y=\"184.567673\"/>\r\n      </g>\r\n     </g>\r\n     <g id=\"text_11\">\r\n      <!-- 0.5 -->\r\n      <g transform=\"translate(20.878125 188.366892)scale(0.1 -0.1)\">\r\n       <use xlink:href=\"#DejaVuSans-30\"/>\r\n       <use x=\"63.623047\" xlink:href=\"#DejaVuSans-2e\"/>\r\n       <use x=\"95.410156\" xlink:href=\"#DejaVuSans-35\"/>\r\n      </g>\r\n     </g>\r\n    </g>\r\n    <g id=\"ytick_3\">\r\n     <g id=\"line2d_11\">\r\n      <g>\r\n       <use style=\"stroke:#000000;stroke-width:0.8;\" x=\"43.78125\" xlink:href=\"#m2827db1e09\" y=\"146.95212\"/>\r\n      </g>\r\n     </g>\r\n     <g id=\"text_12\">\r\n      <!-- 1.0 -->\r\n      <g transform=\"translate(20.878125 150.751339)scale(0.1 -0.1)\">\r\n       <use xlink:href=\"#DejaVuSans-31\"/>\r\n       <use x=\"63.623047\" xlink:href=\"#DejaVuSans-2e\"/>\r\n       <use x=\"95.410156\" xlink:href=\"#DejaVuSans-30\"/>\r\n      </g>\r\n     </g>\r\n    </g>\r\n    <g id=\"ytick_4\">\r\n     <g id=\"line2d_12\">\r\n      <g>\r\n       <use style=\"stroke:#000000;stroke-width:0.8;\" x=\"43.78125\" xlink:href=\"#m2827db1e09\" y=\"109.336567\"/>\r\n      </g>\r\n     </g>\r\n     <g id=\"text_13\">\r\n      <!-- 1.5 -->\r\n      <g transform=\"translate(20.878125 113.135786)scale(0.1 -0.1)\">\r\n       <use xlink:href=\"#DejaVuSans-31\"/>\r\n       <use x=\"63.623047\" xlink:href=\"#DejaVuSans-2e\"/>\r\n       <use x=\"95.410156\" xlink:href=\"#DejaVuSans-35\"/>\r\n      </g>\r\n     </g>\r\n    </g>\r\n    <g id=\"ytick_5\">\r\n     <g id=\"line2d_13\">\r\n      <g>\r\n       <use style=\"stroke:#000000;stroke-width:0.8;\" x=\"43.78125\" xlink:href=\"#m2827db1e09\" y=\"71.721014\"/>\r\n      </g>\r\n     </g>\r\n     <g id=\"text_14\">\r\n      <!-- 2.0 -->\r\n      <g transform=\"translate(20.878125 75.520233)scale(0.1 -0.1)\">\r\n       <use xlink:href=\"#DejaVuSans-32\"/>\r\n       <use x=\"63.623047\" xlink:href=\"#DejaVuSans-2e\"/>\r\n       <use x=\"95.410156\" xlink:href=\"#DejaVuSans-30\"/>\r\n      </g>\r\n     </g>\r\n    </g>\r\n    <g id=\"ytick_6\">\r\n     <g id=\"line2d_14\">\r\n      <g>\r\n       <use style=\"stroke:#000000;stroke-width:0.8;\" x=\"43.78125\" xlink:href=\"#m2827db1e09\" y=\"34.105461\"/>\r\n      </g>\r\n     </g>\r\n     <g id=\"text_15\">\r\n      <!-- 2.5 -->\r\n      <g transform=\"translate(20.878125 37.90468)scale(0.1 -0.1)\">\r\n       <use xlink:href=\"#DejaVuSans-32\"/>\r\n       <use x=\"63.623047\" xlink:href=\"#DejaVuSans-2e\"/>\r\n       <use x=\"95.410156\" xlink:href=\"#DejaVuSans-35\"/>\r\n      </g>\r\n     </g>\r\n    </g>\r\n    <g id=\"text_16\">\r\n     <!-- Cross Entropy -->\r\n     <defs>\r\n      <path d=\"M 64.40625 67.28125 \r\nL 64.40625 56.890625 \r\nQ 59.421875 61.53125 53.78125 63.8125 \r\nQ 48.140625 66.109375 41.796875 66.109375 \r\nQ 29.296875 66.109375 22.65625 58.46875 \r\nQ 16.015625 50.828125 16.015625 36.375 \r\nQ 16.015625 21.96875 22.65625 14.328125 \r\nQ 29.296875 6.6875 41.796875 6.6875 \r\nQ 48.140625 6.6875 53.78125 8.984375 \r\nQ 59.421875 11.28125 64.40625 15.921875 \r\nL 64.40625 5.609375 \r\nQ 59.234375 2.09375 53.4375 0.328125 \r\nQ 47.65625 -1.421875 41.21875 -1.421875 \r\nQ 24.65625 -1.421875 15.125 8.703125 \r\nQ 5.609375 18.84375 5.609375 36.375 \r\nQ 5.609375 53.953125 15.125 64.078125 \r\nQ 24.65625 74.21875 41.21875 74.21875 \r\nQ 47.75 74.21875 53.53125 72.484375 \r\nQ 59.328125 70.75 64.40625 67.28125 \r\nz\r\n\" id=\"DejaVuSans-43\"/>\r\n      <path d=\"M 41.109375 46.296875 \r\nQ 39.59375 47.171875 37.8125 47.578125 \r\nQ 36.03125 48 33.890625 48 \r\nQ 26.265625 48 22.1875 43.046875 \r\nQ 18.109375 38.09375 18.109375 28.8125 \r\nL 18.109375 0 \r\nL 9.078125 0 \r\nL 9.078125 54.6875 \r\nL 18.109375 54.6875 \r\nL 18.109375 46.1875 \r\nQ 20.953125 51.171875 25.484375 53.578125 \r\nQ 30.03125 56 36.53125 56 \r\nQ 37.453125 56 38.578125 55.875 \r\nQ 39.703125 55.765625 41.0625 55.515625 \r\nz\r\n\" id=\"DejaVuSans-72\"/>\r\n      <path d=\"M 44.28125 53.078125 \r\nL 44.28125 44.578125 \r\nQ 40.484375 46.53125 36.375 47.5 \r\nQ 32.28125 48.484375 27.875 48.484375 \r\nQ 21.1875 48.484375 17.84375 46.4375 \r\nQ 14.5 44.390625 14.5 40.28125 \r\nQ 14.5 37.15625 16.890625 35.375 \r\nQ 19.28125 33.59375 26.515625 31.984375 \r\nL 29.59375 31.296875 \r\nQ 39.15625 29.25 43.1875 25.515625 \r\nQ 47.21875 21.78125 47.21875 15.09375 \r\nQ 47.21875 7.46875 41.1875 3.015625 \r\nQ 35.15625 -1.421875 24.609375 -1.421875 \r\nQ 20.21875 -1.421875 15.453125 -0.5625 \r\nQ 10.6875 0.296875 5.421875 2 \r\nL 5.421875 11.28125 \r\nQ 10.40625 8.6875 15.234375 7.390625 \r\nQ 20.0625 6.109375 24.8125 6.109375 \r\nQ 31.15625 6.109375 34.5625 8.28125 \r\nQ 37.984375 10.453125 37.984375 14.40625 \r\nQ 37.984375 18.0625 35.515625 20.015625 \r\nQ 33.0625 21.96875 24.703125 23.78125 \r\nL 21.578125 24.515625 \r\nQ 13.234375 26.265625 9.515625 29.90625 \r\nQ 5.8125 33.546875 5.8125 39.890625 \r\nQ 5.8125 47.609375 11.28125 51.796875 \r\nQ 16.75 56 26.8125 56 \r\nQ 31.78125 56 36.171875 55.265625 \r\nQ 40.578125 54.546875 44.28125 53.078125 \r\nz\r\n\" id=\"DejaVuSans-73\"/>\r\n      <path id=\"DejaVuSans-20\"/>\r\n      <path d=\"M 9.8125 72.90625 \r\nL 55.90625 72.90625 \r\nL 55.90625 64.59375 \r\nL 19.671875 64.59375 \r\nL 19.671875 43.015625 \r\nL 54.390625 43.015625 \r\nL 54.390625 34.71875 \r\nL 19.671875 34.71875 \r\nL 19.671875 8.296875 \r\nL 56.78125 8.296875 \r\nL 56.78125 0 \r\nL 9.8125 0 \r\nz\r\n\" id=\"DejaVuSans-45\"/>\r\n      <path d=\"M 54.890625 33.015625 \r\nL 54.890625 0 \r\nL 45.90625 0 \r\nL 45.90625 32.71875 \r\nQ 45.90625 40.484375 42.875 44.328125 \r\nQ 39.84375 48.1875 33.796875 48.1875 \r\nQ 26.515625 48.1875 22.3125 43.546875 \r\nQ 18.109375 38.921875 18.109375 30.90625 \r\nL 18.109375 0 \r\nL 9.078125 0 \r\nL 9.078125 54.6875 \r\nL 18.109375 54.6875 \r\nL 18.109375 46.1875 \r\nQ 21.34375 51.125 25.703125 53.5625 \r\nQ 30.078125 56 35.796875 56 \r\nQ 45.21875 56 50.046875 50.171875 \r\nQ 54.890625 44.34375 54.890625 33.015625 \r\nz\r\n\" id=\"DejaVuSans-6e\"/>\r\n      <path d=\"M 18.3125 70.21875 \r\nL 18.3125 54.6875 \r\nL 36.8125 54.6875 \r\nL 36.8125 47.703125 \r\nL 18.3125 47.703125 \r\nL 18.3125 18.015625 \r\nQ 18.3125 11.328125 20.140625 9.421875 \r\nQ 21.96875 7.515625 27.59375 7.515625 \r\nL 36.8125 7.515625 \r\nL 36.8125 0 \r\nL 27.59375 0 \r\nQ 17.1875 0 13.234375 3.875 \r\nQ 9.28125 7.765625 9.28125 18.015625 \r\nL 9.28125 47.703125 \r\nL 2.6875 47.703125 \r\nL 2.6875 54.6875 \r\nL 9.28125 54.6875 \r\nL 9.28125 70.21875 \r\nz\r\n\" id=\"DejaVuSans-74\"/>\r\n      <path d=\"M 32.171875 -5.078125 \r\nQ 28.375 -14.84375 24.75 -17.8125 \r\nQ 21.140625 -20.796875 15.09375 -20.796875 \r\nL 7.90625 -20.796875 \r\nL 7.90625 -13.28125 \r\nL 13.1875 -13.28125 \r\nQ 16.890625 -13.28125 18.9375 -11.515625 \r\nQ 21 -9.765625 23.484375 -3.21875 \r\nL 25.09375 0.875 \r\nL 2.984375 54.6875 \r\nL 12.5 54.6875 \r\nL 29.59375 11.921875 \r\nL 46.6875 54.6875 \r\nL 56.203125 54.6875 \r\nz\r\n\" id=\"DejaVuSans-79\"/>\r\n     </defs>\r\n     <g transform=\"translate(14.798438 165.976406)rotate(-90)scale(0.1 -0.1)\">\r\n      <use xlink:href=\"#DejaVuSans-43\"/>\r\n      <use x=\"69.824219\" xlink:href=\"#DejaVuSans-72\"/>\r\n      <use x=\"110.90625\" xlink:href=\"#DejaVuSans-6f\"/>\r\n      <use x=\"172.087891\" xlink:href=\"#DejaVuSans-73\"/>\r\n      <use x=\"224.1875\" xlink:href=\"#DejaVuSans-73\"/>\r\n      <use x=\"276.287109\" xlink:href=\"#DejaVuSans-20\"/>\r\n      <use x=\"308.074219\" xlink:href=\"#DejaVuSans-45\"/>\r\n      <use x=\"371.257812\" xlink:href=\"#DejaVuSans-6e\"/>\r\n      <use x=\"434.636719\" xlink:href=\"#DejaVuSans-74\"/>\r\n      <use x=\"473.845703\" xlink:href=\"#DejaVuSans-72\"/>\r\n      <use x=\"514.927734\" xlink:href=\"#DejaVuSans-6f\"/>\r\n      <use x=\"576.109375\" xlink:href=\"#DejaVuSans-70\"/>\r\n      <use x=\"639.585938\" xlink:href=\"#DejaVuSans-79\"/>\r\n     </g>\r\n    </g>\r\n   </g>\r\n   <g id=\"line2d_15\">\r\n    <path clip-path=\"url(#pf64b252068)\" d=\"M 58.999432 41.186885 \r\nL 63.347484 57.723407 \r\nL 67.695536 70.048303 \r\nL 72.043588 81.286245 \r\nL 76.39164 91.963274 \r\nL 80.739692 99.599207 \r\nL 85.087744 108.801448 \r\nL 89.435795 116.859355 \r\nL 93.783847 121.825138 \r\nL 98.131899 126.871077 \r\nL 102.479951 132.021717 \r\nL 106.828003 136.24313 \r\nL 111.176055 140.726218 \r\nL 115.524107 144.314515 \r\nL 119.872159 147.368389 \r\nL 124.220211 149.822015 \r\nL 128.568263 152.518459 \r\nL 132.916315 155.222847 \r\nL 137.264367 156.795775 \r\nL 141.612419 158.969047 \r\nL 145.960471 161.027469 \r\nL 150.308523 162.501056 \r\nL 154.656575 163.883522 \r\nL 159.004627 166.502029 \r\nL 163.352679 166.838071 \r\nL 167.700731 168.298932 \r\nL 172.048782 170.062391 \r\nL 176.396834 171.301954 \r\nL 180.744886 173.313438 \r\nL 185.092938 173.651863 \r\nL 189.44099 175.232088 \r\nL 193.789042 175.203126 \r\nL 198.137094 176.559388 \r\nL 202.485146 176.660158 \r\nL 206.833198 177.555298 \r\nL 211.18125 179.148923 \r\nL 215.529302 179.569789 \r\nL 219.877354 180.169311 \r\nL 224.225406 181.140469 \r\nL 228.573458 180.913493 \r\nL 232.92151 183.104459 \r\nL 237.269562 182.82179 \r\nL 241.617614 183.808737 \r\nL 245.965666 184.611618 \r\nL 250.313718 185.123487 \r\nL 254.661769 185.631544 \r\nL 259.009821 185.720306 \r\nL 263.357873 186.911581 \r\nL 267.705925 187.792321 \r\nL 272.053977 187.477479 \r\nL 276.402029 190.095653 \r\nL 280.750081 198.998826 \r\nL 285.098133 204.60366 \r\nL 289.446185 207.422597 \r\nL 293.794237 210.237385 \r\nL 298.142289 212.129041 \r\nL 302.490341 214.013386 \r\nL 306.838393 216.031142 \r\nL 311.186445 216.166355 \r\nL 315.534497 217.190784 \r\nL 319.882549 217.835813 \r\nL 324.230601 218.840871 \r\nL 328.578653 218.86909 \r\nL 332.926705 219.161605 \r\nL 337.274756 219.838894 \r\nL 341.622808 220.297879 \r\nL 345.97086 220.326389 \r\nL 350.318912 220.239349 \r\nL 354.666964 220.404373 \r\nL 359.015016 220.509548 \r\nL 363.363068 220.889365 \r\n\" style=\"fill:none;stroke:#1f77b4;stroke-linecap:square;stroke-width:1.5;\"/>\r\n   </g>\r\n   <g id=\"line2d_16\">\r\n    <path clip-path=\"url(#pf64b252068)\" d=\"M 58.999432 52.745883 \r\nL 63.347484 65.037381 \r\nL 67.695536 76.233003 \r\nL 72.043588 86.055926 \r\nL 76.39164 94.593847 \r\nL 80.739692 102.398848 \r\nL 85.087744 109.043648 \r\nL 89.435795 114.980586 \r\nL 93.783847 120.300993 \r\nL 98.131899 124.923652 \r\nL 102.479951 128.74056 \r\nL 106.828003 132.540815 \r\nL 111.176055 135.789053 \r\nL 115.524107 138.770349 \r\nL 119.872159 141.388023 \r\nL 124.220211 143.834485 \r\nL 128.568263 146.078282 \r\nL 132.916315 147.965993 \r\nL 137.264367 149.725999 \r\nL 141.612419 151.506675 \r\nL 145.960471 152.950459 \r\nL 150.308523 154.378931 \r\nL 154.656575 155.548335 \r\nL 159.004627 156.813954 \r\nL 163.352679 157.888293 \r\nL 167.700731 158.871576 \r\nL 172.048782 160.009943 \r\nL 176.396834 160.719459 \r\nL 180.744886 161.718224 \r\nL 185.092938 162.535842 \r\nL 189.44099 163.198738 \r\nL 193.789042 163.846295 \r\nL 198.137094 164.609956 \r\nL 202.485146 165.278162 \r\nL 206.833198 165.636087 \r\nL 211.18125 166.546311 \r\nL 215.529302 166.912463 \r\nL 219.877354 167.380374 \r\nL 224.225406 168.002476 \r\nL 228.573458 168.370541 \r\nL 232.92151 168.795373 \r\nL 237.269562 169.396911 \r\nL 241.617614 169.761851 \r\nL 245.965666 170.004788 \r\nL 250.313718 170.468278 \r\nL 254.661769 170.913145 \r\nL 259.009821 171.195946 \r\nL 263.357873 171.485894 \r\nL 267.705925 171.857877 \r\nL 272.053977 172.184254 \r\nL 276.402029 178.899375 \r\nL 280.750081 180.577824 \r\nL 285.098133 181.541487 \r\nL 289.446185 181.288669 \r\nL 293.794237 181.569754 \r\nL 298.142289 181.110495 \r\nL 302.490341 182.453711 \r\nL 306.838393 180.304217 \r\nL 311.186445 179.23066 \r\nL 315.534497 179.608643 \r\nL 319.882549 177.167579 \r\nL 324.230601 178.105678 \r\nL 328.578653 175.659238 \r\nL 332.926705 177.443751 \r\nL 337.274756 176.552969 \r\nL 341.622808 174.791453 \r\nL 345.97086 172.437833 \r\nL 350.318912 172.931335 \r\nL 354.666964 173.395954 \r\nL 359.015016 173.64653 \r\nL 363.363068 171.747378 \r\n\" style=\"fill:none;stroke:#ff7f0e;stroke-linecap:square;stroke-width:1.5;\"/>\r\n   </g>\r\n   <g id=\"line2d_17\">\r\n    <path clip-path=\"url(#pf64b252068)\" d=\"M 272.053977 229.874489 \r\nL 272.053977 32.201761 \r\n\" style=\"fill:none;stroke:#2ca02c;stroke-linecap:square;stroke-width:1.5;\"/>\r\n   </g>\r\n   <g id=\"patch_3\">\r\n    <path d=\"M 43.78125 239.758125 \r\nL 43.78125 22.318125 \r\n\" style=\"fill:none;stroke:#000000;stroke-linecap:square;stroke-linejoin:miter;stroke-width:0.8;\"/>\r\n   </g>\r\n   <g id=\"patch_4\">\r\n    <path d=\"M 378.58125 239.758125 \r\nL 378.58125 22.318125 \r\n\" style=\"fill:none;stroke:#000000;stroke-linecap:square;stroke-linejoin:miter;stroke-width:0.8;\"/>\r\n   </g>\r\n   <g id=\"patch_5\">\r\n    <path d=\"M 43.78125 239.758125 \r\nL 378.58125 239.758125 \r\n\" style=\"fill:none;stroke:#000000;stroke-linecap:square;stroke-linejoin:miter;stroke-width:0.8;\"/>\r\n   </g>\r\n   <g id=\"patch_6\">\r\n    <path d=\"M 43.78125 22.318125 \r\nL 378.58125 22.318125 \r\n\" style=\"fill:none;stroke:#000000;stroke-linecap:square;stroke-linejoin:miter;stroke-width:0.8;\"/>\r\n   </g>\r\n   <g id=\"text_17\">\r\n    <!-- Training and Validation Loss -->\r\n    <defs>\r\n     <path d=\"M -0.296875 72.90625 \r\nL 61.375 72.90625 \r\nL 61.375 64.59375 \r\nL 35.5 64.59375 \r\nL 35.5 0 \r\nL 25.59375 0 \r\nL 25.59375 64.59375 \r\nL -0.296875 64.59375 \r\nz\r\n\" id=\"DejaVuSans-54\"/>\r\n     <path d=\"M 34.28125 27.484375 \r\nQ 23.390625 27.484375 19.1875 25 \r\nQ 14.984375 22.515625 14.984375 16.5 \r\nQ 14.984375 11.71875 18.140625 8.90625 \r\nQ 21.296875 6.109375 26.703125 6.109375 \r\nQ 34.1875 6.109375 38.703125 11.40625 \r\nQ 43.21875 16.703125 43.21875 25.484375 \r\nL 43.21875 27.484375 \r\nz\r\nM 52.203125 31.203125 \r\nL 52.203125 0 \r\nL 43.21875 0 \r\nL 43.21875 8.296875 \r\nQ 40.140625 3.328125 35.546875 0.953125 \r\nQ 30.953125 -1.421875 24.3125 -1.421875 \r\nQ 15.921875 -1.421875 10.953125 3.296875 \r\nQ 6 8.015625 6 15.921875 \r\nQ 6 25.140625 12.171875 29.828125 \r\nQ 18.359375 34.515625 30.609375 34.515625 \r\nL 43.21875 34.515625 \r\nL 43.21875 35.40625 \r\nQ 43.21875 41.609375 39.140625 45 \r\nQ 35.0625 48.390625 27.6875 48.390625 \r\nQ 23 48.390625 18.546875 47.265625 \r\nQ 14.109375 46.140625 10.015625 43.890625 \r\nL 10.015625 52.203125 \r\nQ 14.9375 54.109375 19.578125 55.046875 \r\nQ 24.21875 56 28.609375 56 \r\nQ 40.484375 56 46.34375 49.84375 \r\nQ 52.203125 43.703125 52.203125 31.203125 \r\nz\r\n\" id=\"DejaVuSans-61\"/>\r\n     <path d=\"M 9.421875 54.6875 \r\nL 18.40625 54.6875 \r\nL 18.40625 0 \r\nL 9.421875 0 \r\nz\r\nM 9.421875 75.984375 \r\nL 18.40625 75.984375 \r\nL 18.40625 64.59375 \r\nL 9.421875 64.59375 \r\nz\r\n\" id=\"DejaVuSans-69\"/>\r\n     <path d=\"M 45.40625 27.984375 \r\nQ 45.40625 37.75 41.375 43.109375 \r\nQ 37.359375 48.484375 30.078125 48.484375 \r\nQ 22.859375 48.484375 18.828125 43.109375 \r\nQ 14.796875 37.75 14.796875 27.984375 \r\nQ 14.796875 18.265625 18.828125 12.890625 \r\nQ 22.859375 7.515625 30.078125 7.515625 \r\nQ 37.359375 7.515625 41.375 12.890625 \r\nQ 45.40625 18.265625 45.40625 27.984375 \r\nz\r\nM 54.390625 6.78125 \r\nQ 54.390625 -7.171875 48.1875 -13.984375 \r\nQ 42 -20.796875 29.203125 -20.796875 \r\nQ 24.46875 -20.796875 20.265625 -20.09375 \r\nQ 16.0625 -19.390625 12.109375 -17.921875 \r\nL 12.109375 -9.1875 \r\nQ 16.0625 -11.328125 19.921875 -12.34375 \r\nQ 23.78125 -13.375 27.78125 -13.375 \r\nQ 36.625 -13.375 41.015625 -8.765625 \r\nQ 45.40625 -4.15625 45.40625 5.171875 \r\nL 45.40625 9.625 \r\nQ 42.625 4.78125 38.28125 2.390625 \r\nQ 33.9375 0 27.875 0 \r\nQ 17.828125 0 11.671875 7.65625 \r\nQ 5.515625 15.328125 5.515625 27.984375 \r\nQ 5.515625 40.671875 11.671875 48.328125 \r\nQ 17.828125 56 27.875 56 \r\nQ 33.9375 56 38.28125 53.609375 \r\nQ 42.625 51.21875 45.40625 46.390625 \r\nL 45.40625 54.6875 \r\nL 54.390625 54.6875 \r\nz\r\n\" id=\"DejaVuSans-67\"/>\r\n     <path d=\"M 45.40625 46.390625 \r\nL 45.40625 75.984375 \r\nL 54.390625 75.984375 \r\nL 54.390625 0 \r\nL 45.40625 0 \r\nL 45.40625 8.203125 \r\nQ 42.578125 3.328125 38.25 0.953125 \r\nQ 33.9375 -1.421875 27.875 -1.421875 \r\nQ 17.96875 -1.421875 11.734375 6.484375 \r\nQ 5.515625 14.40625 5.515625 27.296875 \r\nQ 5.515625 40.1875 11.734375 48.09375 \r\nQ 17.96875 56 27.875 56 \r\nQ 33.9375 56 38.25 53.625 \r\nQ 42.578125 51.265625 45.40625 46.390625 \r\nz\r\nM 14.796875 27.296875 \r\nQ 14.796875 17.390625 18.875 11.75 \r\nQ 22.953125 6.109375 30.078125 6.109375 \r\nQ 37.203125 6.109375 41.296875 11.75 \r\nQ 45.40625 17.390625 45.40625 27.296875 \r\nQ 45.40625 37.203125 41.296875 42.84375 \r\nQ 37.203125 48.484375 30.078125 48.484375 \r\nQ 22.953125 48.484375 18.875 42.84375 \r\nQ 14.796875 37.203125 14.796875 27.296875 \r\nz\r\n\" id=\"DejaVuSans-64\"/>\r\n     <path d=\"M 28.609375 0 \r\nL 0.78125 72.90625 \r\nL 11.078125 72.90625 \r\nL 34.1875 11.53125 \r\nL 57.328125 72.90625 \r\nL 67.578125 72.90625 \r\nL 39.796875 0 \r\nz\r\n\" id=\"DejaVuSans-56\"/>\r\n     <path d=\"M 9.421875 75.984375 \r\nL 18.40625 75.984375 \r\nL 18.40625 0 \r\nL 9.421875 0 \r\nz\r\n\" id=\"DejaVuSans-6c\"/>\r\n     <path d=\"M 9.8125 72.90625 \r\nL 19.671875 72.90625 \r\nL 19.671875 8.296875 \r\nL 55.171875 8.296875 \r\nL 55.171875 0 \r\nL 9.8125 0 \r\nz\r\n\" id=\"DejaVuSans-4c\"/>\r\n    </defs>\r\n    <g transform=\"translate(126.2775 16.318125)scale(0.12 -0.12)\">\r\n     <use xlink:href=\"#DejaVuSans-54\"/>\r\n     <use x=\"60.865234\" xlink:href=\"#DejaVuSans-72\"/>\r\n     <use x=\"101.978516\" xlink:href=\"#DejaVuSans-61\"/>\r\n     <use x=\"163.257812\" xlink:href=\"#DejaVuSans-69\"/>\r\n     <use x=\"191.041016\" xlink:href=\"#DejaVuSans-6e\"/>\r\n     <use x=\"254.419922\" xlink:href=\"#DejaVuSans-69\"/>\r\n     <use x=\"282.203125\" xlink:href=\"#DejaVuSans-6e\"/>\r\n     <use x=\"345.582031\" xlink:href=\"#DejaVuSans-67\"/>\r\n     <use x=\"409.058594\" xlink:href=\"#DejaVuSans-20\"/>\r\n     <use x=\"440.845703\" xlink:href=\"#DejaVuSans-61\"/>\r\n     <use x=\"502.125\" xlink:href=\"#DejaVuSans-6e\"/>\r\n     <use x=\"565.503906\" xlink:href=\"#DejaVuSans-64\"/>\r\n     <use x=\"628.980469\" xlink:href=\"#DejaVuSans-20\"/>\r\n     <use x=\"660.767578\" xlink:href=\"#DejaVuSans-56\"/>\r\n     <use x=\"729.066406\" xlink:href=\"#DejaVuSans-61\"/>\r\n     <use x=\"790.345703\" xlink:href=\"#DejaVuSans-6c\"/>\r\n     <use x=\"818.128906\" xlink:href=\"#DejaVuSans-69\"/>\r\n     <use x=\"845.912109\" xlink:href=\"#DejaVuSans-64\"/>\r\n     <use x=\"909.388672\" xlink:href=\"#DejaVuSans-61\"/>\r\n     <use x=\"970.667969\" xlink:href=\"#DejaVuSans-74\"/>\r\n     <use x=\"1009.876953\" xlink:href=\"#DejaVuSans-69\"/>\r\n     <use x=\"1037.660156\" xlink:href=\"#DejaVuSans-6f\"/>\r\n     <use x=\"1098.841797\" xlink:href=\"#DejaVuSans-6e\"/>\r\n     <use x=\"1162.220703\" xlink:href=\"#DejaVuSans-20\"/>\r\n     <use x=\"1194.007812\" xlink:href=\"#DejaVuSans-4c\"/>\r\n     <use x=\"1249.705078\" xlink:href=\"#DejaVuSans-6f\"/>\r\n     <use x=\"1310.886719\" xlink:href=\"#DejaVuSans-73\"/>\r\n     <use x=\"1362.986328\" xlink:href=\"#DejaVuSans-73\"/>\r\n    </g>\r\n   </g>\r\n   <g id=\"legend_1\">\r\n    <g id=\"patch_7\">\r\n     <path d=\"M 253.564063 74.3525 \r\nL 371.58125 74.3525 \r\nQ 373.58125 74.3525 373.58125 72.3525 \r\nL 373.58125 29.318125 \r\nQ 373.58125 27.318125 371.58125 27.318125 \r\nL 253.564063 27.318125 \r\nQ 251.564063 27.318125 251.564063 29.318125 \r\nL 251.564063 72.3525 \r\nQ 251.564063 74.3525 253.564063 74.3525 \r\nz\r\n\" style=\"fill:#ffffff;opacity:0.8;stroke:#cccccc;stroke-linejoin:miter;\"/>\r\n    </g>\r\n    <g id=\"line2d_18\">\r\n     <path d=\"M 255.564063 35.416562 \r\nL 275.564062 35.416562 \r\n\" style=\"fill:none;stroke:#1f77b4;stroke-linecap:square;stroke-width:1.5;\"/>\r\n    </g>\r\n    <g id=\"line2d_19\"/>\r\n    <g id=\"text_18\">\r\n     <!-- Training Loss -->\r\n     <g transform=\"translate(283.564062 38.916562)scale(0.1 -0.1)\">\r\n      <use xlink:href=\"#DejaVuSans-54\"/>\r\n      <use x=\"60.865234\" xlink:href=\"#DejaVuSans-72\"/>\r\n      <use x=\"101.978516\" xlink:href=\"#DejaVuSans-61\"/>\r\n      <use x=\"163.257812\" xlink:href=\"#DejaVuSans-69\"/>\r\n      <use x=\"191.041016\" xlink:href=\"#DejaVuSans-6e\"/>\r\n      <use x=\"254.419922\" xlink:href=\"#DejaVuSans-69\"/>\r\n      <use x=\"282.203125\" xlink:href=\"#DejaVuSans-6e\"/>\r\n      <use x=\"345.582031\" xlink:href=\"#DejaVuSans-67\"/>\r\n      <use x=\"409.058594\" xlink:href=\"#DejaVuSans-20\"/>\r\n      <use x=\"440.845703\" xlink:href=\"#DejaVuSans-4c\"/>\r\n      <use x=\"496.542969\" xlink:href=\"#DejaVuSans-6f\"/>\r\n      <use x=\"557.724609\" xlink:href=\"#DejaVuSans-73\"/>\r\n      <use x=\"609.824219\" xlink:href=\"#DejaVuSans-73\"/>\r\n     </g>\r\n    </g>\r\n    <g id=\"line2d_20\">\r\n     <path d=\"M 255.564063 50.094687 \r\nL 275.564062 50.094687 \r\n\" style=\"fill:none;stroke:#ff7f0e;stroke-linecap:square;stroke-width:1.5;\"/>\r\n    </g>\r\n    <g id=\"line2d_21\"/>\r\n    <g id=\"text_19\">\r\n     <!-- Validation Loss -->\r\n     <g transform=\"translate(283.564062 53.594687)scale(0.1 -0.1)\">\r\n      <use xlink:href=\"#DejaVuSans-56\"/>\r\n      <use x=\"68.298828\" xlink:href=\"#DejaVuSans-61\"/>\r\n      <use x=\"129.578125\" xlink:href=\"#DejaVuSans-6c\"/>\r\n      <use x=\"157.361328\" xlink:href=\"#DejaVuSans-69\"/>\r\n      <use x=\"185.144531\" xlink:href=\"#DejaVuSans-64\"/>\r\n      <use x=\"248.621094\" xlink:href=\"#DejaVuSans-61\"/>\r\n      <use x=\"309.900391\" xlink:href=\"#DejaVuSans-74\"/>\r\n      <use x=\"349.109375\" xlink:href=\"#DejaVuSans-69\"/>\r\n      <use x=\"376.892578\" xlink:href=\"#DejaVuSans-6f\"/>\r\n      <use x=\"438.074219\" xlink:href=\"#DejaVuSans-6e\"/>\r\n      <use x=\"501.453125\" xlink:href=\"#DejaVuSans-20\"/>\r\n      <use x=\"533.240234\" xlink:href=\"#DejaVuSans-4c\"/>\r\n      <use x=\"588.9375\" xlink:href=\"#DejaVuSans-6f\"/>\r\n      <use x=\"650.119141\" xlink:href=\"#DejaVuSans-73\"/>\r\n      <use x=\"702.21875\" xlink:href=\"#DejaVuSans-73\"/>\r\n     </g>\r\n    </g>\r\n    <g id=\"line2d_22\">\r\n     <path d=\"M 255.564063 64.772812 \r\nL 275.564062 64.772812 \r\n\" style=\"fill:none;stroke:#2ca02c;stroke-linecap:square;stroke-width:1.5;\"/>\r\n    </g>\r\n    <g id=\"line2d_23\"/>\r\n    <g id=\"text_20\">\r\n     <!-- Start Fine Tuning -->\r\n     <defs>\r\n      <path d=\"M 53.515625 70.515625 \r\nL 53.515625 60.890625 \r\nQ 47.90625 63.578125 42.921875 64.890625 \r\nQ 37.9375 66.21875 33.296875 66.21875 \r\nQ 25.25 66.21875 20.875 63.09375 \r\nQ 16.5 59.96875 16.5 54.203125 \r\nQ 16.5 49.359375 19.40625 46.890625 \r\nQ 22.3125 44.4375 30.421875 42.921875 \r\nL 36.375 41.703125 \r\nQ 47.40625 39.59375 52.65625 34.296875 \r\nQ 57.90625 29 57.90625 20.125 \r\nQ 57.90625 9.515625 50.796875 4.046875 \r\nQ 43.703125 -1.421875 29.984375 -1.421875 \r\nQ 24.8125 -1.421875 18.96875 -0.25 \r\nQ 13.140625 0.921875 6.890625 3.21875 \r\nL 6.890625 13.375 \r\nQ 12.890625 10.015625 18.65625 8.296875 \r\nQ 24.421875 6.59375 29.984375 6.59375 \r\nQ 38.421875 6.59375 43.015625 9.90625 \r\nQ 47.609375 13.234375 47.609375 19.390625 \r\nQ 47.609375 24.75 44.3125 27.78125 \r\nQ 41.015625 30.8125 33.5 32.328125 \r\nL 27.484375 33.5 \r\nQ 16.453125 35.6875 11.515625 40.375 \r\nQ 6.59375 45.0625 6.59375 53.421875 \r\nQ 6.59375 63.09375 13.40625 68.65625 \r\nQ 20.21875 74.21875 32.171875 74.21875 \r\nQ 37.3125 74.21875 42.625 73.28125 \r\nQ 47.953125 72.359375 53.515625 70.515625 \r\nz\r\n\" id=\"DejaVuSans-53\"/>\r\n      <path d=\"M 9.8125 72.90625 \r\nL 51.703125 72.90625 \r\nL 51.703125 64.59375 \r\nL 19.671875 64.59375 \r\nL 19.671875 43.109375 \r\nL 48.578125 43.109375 \r\nL 48.578125 34.8125 \r\nL 19.671875 34.8125 \r\nL 19.671875 0 \r\nL 9.8125 0 \r\nz\r\n\" id=\"DejaVuSans-46\"/>\r\n      <path d=\"M 8.5 21.578125 \r\nL 8.5 54.6875 \r\nL 17.484375 54.6875 \r\nL 17.484375 21.921875 \r\nQ 17.484375 14.15625 20.5 10.265625 \r\nQ 23.53125 6.390625 29.59375 6.390625 \r\nQ 36.859375 6.390625 41.078125 11.03125 \r\nQ 45.3125 15.671875 45.3125 23.6875 \r\nL 45.3125 54.6875 \r\nL 54.296875 54.6875 \r\nL 54.296875 0 \r\nL 45.3125 0 \r\nL 45.3125 8.40625 \r\nQ 42.046875 3.421875 37.71875 1 \r\nQ 33.40625 -1.421875 27.6875 -1.421875 \r\nQ 18.265625 -1.421875 13.375 4.4375 \r\nQ 8.5 10.296875 8.5 21.578125 \r\nz\r\nM 31.109375 56 \r\nz\r\n\" id=\"DejaVuSans-75\"/>\r\n     </defs>\r\n     <g transform=\"translate(283.564062 68.272812)scale(0.1 -0.1)\">\r\n      <use xlink:href=\"#DejaVuSans-53\"/>\r\n      <use x=\"63.476562\" xlink:href=\"#DejaVuSans-74\"/>\r\n      <use x=\"102.685547\" xlink:href=\"#DejaVuSans-61\"/>\r\n      <use x=\"163.964844\" xlink:href=\"#DejaVuSans-72\"/>\r\n      <use x=\"205.078125\" xlink:href=\"#DejaVuSans-74\"/>\r\n      <use x=\"244.287109\" xlink:href=\"#DejaVuSans-20\"/>\r\n      <use x=\"276.074219\" xlink:href=\"#DejaVuSans-46\"/>\r\n      <use x=\"333.484375\" xlink:href=\"#DejaVuSans-69\"/>\r\n      <use x=\"361.267578\" xlink:href=\"#DejaVuSans-6e\"/>\r\n      <use x=\"424.646484\" xlink:href=\"#DejaVuSans-65\"/>\r\n      <use x=\"486.169922\" xlink:href=\"#DejaVuSans-20\"/>\r\n      <use x=\"517.957031\" xlink:href=\"#DejaVuSans-54\"/>\r\n      <use x=\"578.806641\" xlink:href=\"#DejaVuSans-75\"/>\r\n      <use x=\"642.185547\" xlink:href=\"#DejaVuSans-6e\"/>\r\n      <use x=\"705.564453\" xlink:href=\"#DejaVuSans-69\"/>\r\n      <use x=\"733.347656\" xlink:href=\"#DejaVuSans-6e\"/>\r\n      <use x=\"796.726562\" xlink:href=\"#DejaVuSans-67\"/>\r\n     </g>\r\n    </g>\r\n   </g>\r\n  </g>\r\n </g>\r\n <defs>\r\n  <clipPath id=\"pf64b252068\">\r\n   <rect height=\"217.44\" width=\"334.8\" x=\"43.78125\" y=\"22.318125\"/>\r\n  </clipPath>\r\n </defs>\r\n</svg>\r\n",
            "image/png": "[encoded data removed]"
          },
          "metadata": {
            "needs_background": "light"
          }
        }
      ]
    }
  ]
}